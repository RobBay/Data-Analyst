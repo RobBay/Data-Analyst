{
 "cells": [
  {
   "cell_type": "markdown",
   "metadata": {},
   "source": [
    "# Análisis del impacto del diseño en la conversión y experiencia del usuario"
   ]
  },
  {
   "cell_type": "markdown",
   "metadata": {},
   "source": [
    "Evaluar cómo los cambios de diseño afectan el flujo de conversión y validar que las nuevas fuentes mantengan o mejoren la experiencia del usuario mediante análisis estadístico."
   ]
  },
  {
   "cell_type": "markdown",
   "metadata": {},
   "source": [
    "# OBJETIVO "
   ]
  },
  {
   "cell_type": "markdown",
   "metadata": {},
   "source": [
    "Proveer un análisis integral que ayude a la empresa a:\n",
    "\n",
    "Optimizar la experiencia del usuario a través del flujo de conversión.\n",
    "Validar cambios de diseño (en este caso, fuentes nuevas) asegurando que no afecten negativamente al comportamiento de los usuarios.\n",
    "Tomar decisiones informadas sobre la implementación de cambios, respaldadas por datos estadísticos confiables."
   ]
  },
  {
   "cell_type": "markdown",
   "metadata": {},
   "source": [
    "## LIBRERIAS Y DATA"
   ]
  },
  {
   "cell_type": "code",
   "execution_count": 2,
   "metadata": {},
   "outputs": [],
   "source": [
    "import pandas as pd\n",
    "import datetime as dt\n",
    "from statsmodels.stats.proportion import proportions_ztest"
   ]
  },
  {
   "cell_type": "code",
   "execution_count": 3,
   "metadata": {
    "scrolled": false
   },
   "outputs": [
    {
     "name": "stdout",
     "output_type": "stream",
     "text": [
      "<class 'pandas.core.frame.DataFrame'>\n",
      "RangeIndex: 244126 entries, 0 to 244125\n",
      "Data columns (total 4 columns):\n",
      " #   Column          Non-Null Count   Dtype \n",
      "---  ------          --------------   ----- \n",
      " 0   EventName       244126 non-null  object\n",
      " 1   DeviceIDHash    244126 non-null  int64 \n",
      " 2   EventTimestamp  244126 non-null  int64 \n",
      " 3   ExpId           244126 non-null  int64 \n",
      "dtypes: int64(3), object(1)\n",
      "memory usage: 7.5+ MB\n",
      "[246 248 247]\n"
     ]
    }
   ],
   "source": [
    "logs = pd.read_csv('/datasets/logs_exp_us.csv', delim_whitespace=True)\n",
    "logs.info()\n",
    "print(logs['ExpId'].unique())"
   ]
  },
  {
   "cell_type": "markdown",
   "metadata": {},
   "source": [
    "<div class=\"alert alert-block alert-success\">\n",
    "<b>Éxito</b> <a class=\"tocSkip\"></a>\n",
    "Has utilizado <code>info()</code> para revisar la estructura del dataset y verificar la presencia de valores nulos. Esto es un excelente paso inicial para garantizar la calidad de los datos antes de proceder con el análisis.</div>\n",
    "\n"
   ]
  },
  {
   "cell_type": "markdown",
   "metadata": {},
   "source": [
    "## Preparar los datos para el análisis"
   ]
  },
  {
   "cell_type": "code",
   "execution_count": 4,
   "metadata": {
    "scrolled": true
   },
   "outputs": [
    {
     "name": "stdout",
     "output_type": "stream",
     "text": [
      "<class 'pandas.core.frame.DataFrame'>\n",
      "RangeIndex: 244126 entries, 0 to 244125\n",
      "Data columns (total 7 columns):\n",
      " #   Column           Non-Null Count   Dtype         \n",
      "---  ------           --------------   -----         \n",
      " 0   event_name       244126 non-null  object        \n",
      " 1   device_id        244126 non-null  int64         \n",
      " 2   event_timestamp  244126 non-null  int64         \n",
      " 3   experiment_id    244126 non-null  int64         \n",
      " 4   event_datetime   244126 non-null  datetime64[ns]\n",
      " 5   event_date       244126 non-null  datetime64[ns]\n",
      " 6   event_time       244126 non-null  datetime64[ns]\n",
      "dtypes: datetime64[ns](3), int64(3), object(1)\n",
      "memory usage: 13.0+ MB\n"
     ]
    },
    {
     "data": {
      "text/html": [
       "<div>\n",
       "<style scoped>\n",
       "    .dataframe tbody tr th:only-of-type {\n",
       "        vertical-align: middle;\n",
       "    }\n",
       "\n",
       "    .dataframe tbody tr th {\n",
       "        vertical-align: top;\n",
       "    }\n",
       "\n",
       "    .dataframe thead th {\n",
       "        text-align: right;\n",
       "    }\n",
       "</style>\n",
       "<table border=\"1\" class=\"dataframe\">\n",
       "  <thead>\n",
       "    <tr style=\"text-align: right;\">\n",
       "      <th></th>\n",
       "      <th>event_name</th>\n",
       "      <th>device_id</th>\n",
       "      <th>event_timestamp</th>\n",
       "      <th>experiment_id</th>\n",
       "      <th>event_datetime</th>\n",
       "      <th>event_date</th>\n",
       "      <th>event_time</th>\n",
       "    </tr>\n",
       "  </thead>\n",
       "  <tbody>\n",
       "    <tr>\n",
       "      <th>0</th>\n",
       "      <td>MainScreenAppear</td>\n",
       "      <td>4575588528974610257</td>\n",
       "      <td>1564029816</td>\n",
       "      <td>246</td>\n",
       "      <td>2019-07-25 04:43:36</td>\n",
       "      <td>2019-07-25</td>\n",
       "      <td>2019-07-25</td>\n",
       "    </tr>\n",
       "    <tr>\n",
       "      <th>1</th>\n",
       "      <td>MainScreenAppear</td>\n",
       "      <td>7416695313311560658</td>\n",
       "      <td>1564053102</td>\n",
       "      <td>246</td>\n",
       "      <td>2019-07-25 11:11:42</td>\n",
       "      <td>2019-07-25</td>\n",
       "      <td>2019-07-25</td>\n",
       "    </tr>\n",
       "    <tr>\n",
       "      <th>2</th>\n",
       "      <td>PaymentScreenSuccessful</td>\n",
       "      <td>3518123091307005509</td>\n",
       "      <td>1564054127</td>\n",
       "      <td>248</td>\n",
       "      <td>2019-07-25 11:28:47</td>\n",
       "      <td>2019-07-25</td>\n",
       "      <td>2019-07-25</td>\n",
       "    </tr>\n",
       "    <tr>\n",
       "      <th>3</th>\n",
       "      <td>CartScreenAppear</td>\n",
       "      <td>3518123091307005509</td>\n",
       "      <td>1564054127</td>\n",
       "      <td>248</td>\n",
       "      <td>2019-07-25 11:28:47</td>\n",
       "      <td>2019-07-25</td>\n",
       "      <td>2019-07-25</td>\n",
       "    </tr>\n",
       "    <tr>\n",
       "      <th>4</th>\n",
       "      <td>PaymentScreenSuccessful</td>\n",
       "      <td>6217807653094995999</td>\n",
       "      <td>1564055322</td>\n",
       "      <td>248</td>\n",
       "      <td>2019-07-25 11:48:42</td>\n",
       "      <td>2019-07-25</td>\n",
       "      <td>2019-07-25</td>\n",
       "    </tr>\n",
       "  </tbody>\n",
       "</table>\n",
       "</div>"
      ],
      "text/plain": [
       "                event_name            device_id  event_timestamp  \\\n",
       "0         MainScreenAppear  4575588528974610257       1564029816   \n",
       "1         MainScreenAppear  7416695313311560658       1564053102   \n",
       "2  PaymentScreenSuccessful  3518123091307005509       1564054127   \n",
       "3         CartScreenAppear  3518123091307005509       1564054127   \n",
       "4  PaymentScreenSuccessful  6217807653094995999       1564055322   \n",
       "\n",
       "   experiment_id      event_datetime event_date event_time  \n",
       "0            246 2019-07-25 04:43:36 2019-07-25 2019-07-25  \n",
       "1            246 2019-07-25 11:11:42 2019-07-25 2019-07-25  \n",
       "2            248 2019-07-25 11:28:47 2019-07-25 2019-07-25  \n",
       "3            248 2019-07-25 11:28:47 2019-07-25 2019-07-25  \n",
       "4            248 2019-07-25 11:48:42 2019-07-25 2019-07-25  "
      ]
     },
     "execution_count": 4,
     "metadata": {},
     "output_type": "execute_result"
    }
   ],
   "source": [
    "# Renaming columns to a more convenient format\n",
    "logs.rename(columns={\n",
    "    'EventName': 'event_name',\n",
    "    'DeviceIDHash': 'device_id',\n",
    "    'EventTimestamp': 'event_timestamp',\n",
    "    'ExpId': 'experiment_id'\n",
    "}, inplace=True)\n",
    "\n",
    "# Convert the event_timestamp to datetime format and add date and time columns\n",
    "logs['event_datetime'] = pd.to_datetime(logs['event_timestamp'], unit='s')\n",
    "logs['event_date'] = logs['event_datetime'].dt.date\n",
    "logs['event_date'] = pd.to_datetime(logs['event_date'])\n",
    "logs['event_time'] = logs['event_datetime'].dt.time\n",
    "logs['event_time'] = pd.to_datetime(logs['event_date'])\n",
    "\n",
    "#revisar duplicados o inconsistencias\n",
    "logs.drop_duplicates()\n",
    "\n",
    "# Display the first few rows to confirm the changes\n",
    "logs.info()\n",
    "logs.head()\n",
    "\n",
    "\n"
   ]
  },
  {
   "cell_type": "markdown",
   "metadata": {},
   "source": [
    "<div class=\"alert alert-block alert-success\">\n",
    "<b>Éxito</b> <a class=\"tocSkip\"></a>\n",
    "El renombramiento de columnas y la conversión de <code>event_timestamp</code> a formatos de fecha son pasos importantes y están bien ejecutados. También verificaste la duplicidad de los registros, lo cual fortalece la consistencia del dataset.</div>\n"
   ]
  },
  {
   "cell_type": "markdown",
   "metadata": {},
   "source": [
    "<div class=\"alert alert-block alert-warning\">\n",
    "<b>Atención</b> <a class=\"tocSkip\"></a>\n",
    "Aunque usas <code>drop_duplicates()</code>, no guardas explícitamente el resultado. Asegúrate de asignar el dataframe procesado a una nueva variable para que este paso tenga efecto en el análisis posterior.</div>\n"
   ]
  },
  {
   "cell_type": "markdown",
   "metadata": {},
   "source": [
    "<div class=\"alert alert-block alert-warning\">\n",
    "<b>A resolver</b> <a class=\"tocSkip\"></a>\n",
    "    \n",
    "El cálculo de la columna <code>event_time</code> presenta un problema conceptual. Actualmente, estás reutilizando la columna <code>event_date</code>, que ya contiene solo la parte de la fecha (sin horas). Esto genera datos redundantes y elimina la información de la hora específica de cada evento, que es importante para análisis más detallados (por ejemplo, patrones horarios o secuencias temporales).\n",
    "\n",
    "Para corregir esto, deberías extraer directamente la parte horaria desde la columna <code>event_datetime</code>. Aquí tienes la línea corregida:\n",
    "\n",
    "<pre><code>logs['event_time'] = logs['event_datetime'].dt.time</code></pre>\n",
    "\n",
    "Con esta corrección, <code>event_time</code> contendrá valores como <code>11:11:42</code>, lo cual es útil si necesitas analizar cómo varían los eventos a lo largo del día.</div>\n"
   ]
  },
  {
   "cell_type": "markdown",
   "metadata": {},
   "source": [
    "## Estudiar y comprobar los datos"
   ]
  },
  {
   "cell_type": "markdown",
   "metadata": {},
   "source": [
    "### ¿Cuántos eventos hay en los registros?, \n",
    "### ¿Cuántos usuarios y usuarias hay en los registros?,\n",
    "### ¿Cuál es el promedio de eventos por usuario?\n",
    "### Qué periodo de tiempo cubren los datos? Encuentra la fecha máxima y mínima. Traza un histograma por fecha y hora. ¿Puedes tener seguridad de que tienes datos igualmente completos para todo el periodo? Los eventos más antiguos podrían terminar en los registros de algunos usuarios o usuarias por razones técnicas y esto podría sesgar el panorama general. Encuentra el momento en el que los datos comienzan a estar completos e ignora la sección anterior. ¿Qué periodo representan realmente los datos?"
   ]
  },
  {
   "cell_type": "code",
   "execution_count": 6,
   "metadata": {
    "scrolled": true
   },
   "outputs": [
    {
     "data": {
      "image/png": "[encoded data removed]",
      "text/plain": [
       "<Figure size 1000x600 with 1 Axes>"
      ]
     },
     "metadata": {},
     "output_type": "display_data"
    },
    {
     "name": "stdout",
     "output_type": "stream",
     "text": [
      "Hay un total de 244126 eventos, representados por 7551 usuarios con promedio de 32.33028737915508 eventos  promedio por user. \n",
      "En relacion a las fechas la data abarca datos entre 2019-07-25 00:00:00 y 2019-08-07 00:00:00. \n",
      "Sin embargo, la grafica nos permite evidencia que los datos que mejor representan la data y evitar sesgos van de 2019-08-01 a 2019-08-07 \n"
     ]
    }
   ],
   "source": [
    "# Number of events\n",
    "total_events = logs.shape[0]\n",
    "\n",
    "# Number of unique users\n",
    "unique_users = logs['device_id'].nunique()\n",
    "\n",
    "# Average number of events per user\n",
    "avg_events_per_user = total_events / unique_users\n",
    "\n",
    "# Date range of the dataset\n",
    "min_date = logs['event_date'].min()\n",
    "max_date = logs['event_date'].max()\n",
    "\n",
    "# Plot histogram of events by date\n",
    "import matplotlib.pyplot as plt\n",
    "\n",
    "plt.figure(figsize=(10, 6))\n",
    "logs['event_date'].value_counts().sort_index().plot(kind='bar', color='skyblue', width=0.8)\n",
    "plt.title('Number of Events by Date', fontsize=14)\n",
    "plt.xlabel('Date', fontsize=12)\n",
    "plt.ylabel('Number of Events', fontsize=12)\n",
    "plt.xticks(rotation=45, ha='right')\n",
    "plt.tight_layout()\n",
    "plt.show()\n",
    "\n",
    "# Summary of the findings\n",
    "print(f'Hay un total de {total_events} eventos, representados por {unique_users} usuarios con promedio de {avg_events_per_user} eventos  promedio por user. \\nEn relacion a las fechas la data abarca datos entre {min_date} y {max_date}. \\nSin embargo, la grafica nos permite evidencia que los datos que mejor representan la data y evitar sesgos van de 2019-08-01 a 2019-08-07 ')"
   ]
  },
  {
   "cell_type": "markdown",
   "metadata": {},
   "source": [
    "<div class=\"alert alert-block alert-success\">\n",
    "<b>Éxito</b> <a class=\"tocSkip\"></a>\n",
    "Los cálculos básicos como el total de eventos, usuarios únicos y rango de fechas están bien realizados. Además, el histograma para evaluar la distribución de eventos en el tiempo es una excelente práctica para detectar posibles sesgos en los datos.</div>\n"
   ]
  },
  {
   "cell_type": "markdown",
   "metadata": {},
   "source": [
    "<div class=\"alert alert-block alert-warning\">\n",
    "<b>Atención</b> <a class=\"tocSkip\"></a>\n",
    "Cuando descartas datos más antiguos basándote en el histograma, podrías incluir una métrica adicional para justificar el corte, como la proporción de eventos descartados respecto al total. Esto refuerza la decisión de manera cuantitativa.</div>\n"
   ]
  },
  {
   "cell_type": "markdown",
   "metadata": {},
   "source": [
    "### ¿Perdiste muchos eventos y usuarios al excluir los datos más antiguos?\n",
    "### Asegúrate de tener usuarios y usuarias de los tres grupos experimentales."
   ]
  },
  {
   "cell_type": "code",
   "execution_count": 7,
   "metadata": {
    "scrolled": true
   },
   "outputs": [
    {
     "name": "stdout",
     "output_type": "stream",
     "text": [
      "<class 'pandas.core.frame.DataFrame'>\n",
      "Int64Index: 241298 entries, 2828 to 244125\n",
      "Data columns (total 7 columns):\n",
      " #   Column           Non-Null Count   Dtype         \n",
      "---  ------           --------------   -----         \n",
      " 0   event_name       241298 non-null  object        \n",
      " 1   device_id        241298 non-null  int64         \n",
      " 2   event_timestamp  241298 non-null  int64         \n",
      " 3   experiment_id    241298 non-null  int64         \n",
      " 4   event_datetime   241298 non-null  datetime64[ns]\n",
      " 5   event_date       241298 non-null  datetime64[ns]\n",
      " 6   event_time       241298 non-null  datetime64[ns]\n",
      "dtypes: datetime64[ns](3), int64(3), object(1)\n",
      "memory usage: 14.7+ MB\n",
      "\n",
      "Se paso de 244126 datos a 241228, perdiendo un total de 2898 registros siendo el 1.18% de los registro, \n",
      "conteniendo  los tres grupo 246, 247 y 248\n"
     ]
    },
    {
     "data": {
      "text/html": [
       "<div>\n",
       "<style scoped>\n",
       "    .dataframe tbody tr th:only-of-type {\n",
       "        vertical-align: middle;\n",
       "    }\n",
       "\n",
       "    .dataframe tbody tr th {\n",
       "        vertical-align: top;\n",
       "    }\n",
       "\n",
       "    .dataframe thead th {\n",
       "        text-align: right;\n",
       "    }\n",
       "</style>\n",
       "<table border=\"1\" class=\"dataframe\">\n",
       "  <thead>\n",
       "    <tr style=\"text-align: right;\">\n",
       "      <th></th>\n",
       "      <th>experiment_id</th>\n",
       "    </tr>\n",
       "    <tr>\n",
       "      <th>experiment_id</th>\n",
       "      <th></th>\n",
       "    </tr>\n",
       "  </thead>\n",
       "  <tbody>\n",
       "    <tr>\n",
       "      <th>246</th>\n",
       "      <td>79425</td>\n",
       "    </tr>\n",
       "    <tr>\n",
       "      <th>247</th>\n",
       "      <td>77147</td>\n",
       "    </tr>\n",
       "    <tr>\n",
       "      <th>248</th>\n",
       "      <td>84726</td>\n",
       "    </tr>\n",
       "  </tbody>\n",
       "</table>\n",
       "</div>"
      ],
      "text/plain": [
       "               experiment_id\n",
       "experiment_id               \n",
       "246                    79425\n",
       "247                    77147\n",
       "248                    84726"
      ]
     },
     "execution_count": 7,
     "metadata": {},
     "output_type": "execute_result"
    }
   ],
   "source": [
    "clean_logs = logs[(logs['event_date'] >= '2019-08-01') & (logs['event_date'] <= '2019-08-07')]\n",
    "clean_logs.info()\n",
    "print()\n",
    "\n",
    "count_per_group = clean_logs.groupby(by='experiment_id').agg({'experiment_id': 'count'})\n",
    "\n",
    "\n",
    "print('Se paso de 244126 datos a 241228, perdiendo un total de 2898 registros siendo el 1.18% de los registro, \\nconteniendo  los tres grupo 246, 247 y 248')\n",
    "\n",
    "count_per_group"
   ]
  },
  {
   "cell_type": "markdown",
   "metadata": {},
   "source": [
    "<div class=\"alert alert-block alert-success\">\n",
    "<b>Éxito</b> <a class=\"tocSkip\"></a>\n",
    "Comprobaste que los tres grupos experimentales están presentes en los datos filtrados, asegurando que todos los segmentos relevantes están representados.</div>\n"
   ]
  },
  {
   "cell_type": "markdown",
   "metadata": {},
   "source": [
    "## Estudiar el embudo de eventos"
   ]
  },
  {
   "cell_type": "markdown",
   "metadata": {},
   "source": [
    "### Observa qué eventos hay en los registros y su frecuencia de suceso. Ordénalos por frecuencia.\n",
    "### Encuentra la cantidad de usuarios y usuarias que realizaron cada una de estas acciones. Ordena los eventos por el número de usuarios y usuarias. Calcula la proporción de usuarios y usuarias que realizaron la acción al menos una vez.\n",
    "### ¿En qué orden crees que ocurrieron las acciones? ¿Todas son parte de una sola secuencia? No es necesario tenerlas en cuenta al calcular el embudo."
   ]
  },
  {
   "cell_type": "code",
   "execution_count": 8,
   "metadata": {
    "scrolled": false
   },
   "outputs": [
    {
     "data": {
      "text/html": [
       "<div>\n",
       "<style scoped>\n",
       "    .dataframe tbody tr th:only-of-type {\n",
       "        vertical-align: middle;\n",
       "    }\n",
       "\n",
       "    .dataframe tbody tr th {\n",
       "        vertical-align: top;\n",
       "    }\n",
       "\n",
       "    .dataframe thead th {\n",
       "        text-align: right;\n",
       "    }\n",
       "</style>\n",
       "<table border=\"1\" class=\"dataframe\">\n",
       "  <thead>\n",
       "    <tr style=\"text-align: right;\">\n",
       "      <th></th>\n",
       "      <th>event_name</th>\n",
       "      <th>event_frequency</th>\n",
       "      <th>user_count</th>\n",
       "      <th>user_proportion</th>\n",
       "    </tr>\n",
       "  </thead>\n",
       "  <tbody>\n",
       "    <tr>\n",
       "      <th>0</th>\n",
       "      <td>MainScreenAppear</td>\n",
       "      <td>117431</td>\n",
       "      <td>7419</td>\n",
       "      <td>0.984736</td>\n",
       "    </tr>\n",
       "    <tr>\n",
       "      <th>1</th>\n",
       "      <td>OffersScreenAppear</td>\n",
       "      <td>46350</td>\n",
       "      <td>4593</td>\n",
       "      <td>0.609636</td>\n",
       "    </tr>\n",
       "    <tr>\n",
       "      <th>2</th>\n",
       "      <td>CartScreenAppear</td>\n",
       "      <td>42365</td>\n",
       "      <td>3734</td>\n",
       "      <td>0.495620</td>\n",
       "    </tr>\n",
       "    <tr>\n",
       "      <th>3</th>\n",
       "      <td>PaymentScreenSuccessful</td>\n",
       "      <td>34113</td>\n",
       "      <td>3539</td>\n",
       "      <td>0.469737</td>\n",
       "    </tr>\n",
       "    <tr>\n",
       "      <th>4</th>\n",
       "      <td>Tutorial</td>\n",
       "      <td>1039</td>\n",
       "      <td>840</td>\n",
       "      <td>0.111495</td>\n",
       "    </tr>\n",
       "  </tbody>\n",
       "</table>\n",
       "</div>"
      ],
      "text/plain": [
       "                event_name  event_frequency  user_count  user_proportion\n",
       "0         MainScreenAppear           117431        7419         0.984736\n",
       "1       OffersScreenAppear            46350        4593         0.609636\n",
       "2         CartScreenAppear            42365        3734         0.495620\n",
       "3  PaymentScreenSuccessful            34113        3539         0.469737\n",
       "4                 Tutorial             1039         840         0.111495"
      ]
     },
     "execution_count": 8,
     "metadata": {},
     "output_type": "execute_result"
    }
   ],
   "source": [
    "# Filtrar los datos al periodo limpio\n",
    "clean_logs = logs[(logs['event_date'] >= '2019-08-01') & (logs['event_date'] <= '2019-08-07')]\n",
    "\n",
    "# Contar la frecuencia de cada evento\n",
    "event_frequency = clean_logs['event_name'].value_counts()\n",
    "\n",
    "# Contar la cantidad única de usuarios por evento\n",
    "event_user_count = clean_logs.groupby('event_name')['device_id'].nunique()\n",
    "\n",
    "# Calcular la proporción de usuarios que realizaron cada evento\n",
    "total_users = clean_logs['device_id'].nunique()\n",
    "event_user_proportion = event_user_count / total_users\n",
    "\n",
    "# Crear un DataFrame resumen\n",
    "event_analysis = pd.DataFrame({\n",
    "    'event_frequency': event_frequency,\n",
    "    'user_count': event_user_count,\n",
    "    'user_proportion': event_user_proportion\n",
    "}).sort_values(by='event_frequency', ascending=False)\n",
    "\n",
    "# Mostrar el resultado final\n",
    "event_analysis.reset_index().rename(columns={'index': 'event_name'})\n"
   ]
  },
  {
   "cell_type": "markdown",
   "metadata": {},
   "source": [
    "<div class=\"alert alert-block alert-success\">\n",
    "<b>Éxito</b> <a class=\"tocSkip\"></a>\n",
    "La identificación de eventos clave y la proporción de usuarios que completan cada uno son pasos fundamentales en la evaluación del embudo. Los cálculos y visualizaciones están bien estructurados.</div>\n"
   ]
  },
  {
   "cell_type": "markdown",
   "metadata": {},
   "source": [
    "Orden probable de las acciones:\n",
    "Basándonos en los nombres de los eventos y sus frecuencias, parece que los usuarios siguen este flujo lógico:\n",
    "\n",
    "- MainScreenAppear: Pantalla principal, probablemente lo primero que ven los usuarios.\n",
    "- OffersScreenAppear: Pantalla de ofertas, generalmente accesible desde la pantalla principal.\n",
    "- CartScreenAppear: Pantalla del carrito, ocurre cuando los usuarios añaden productos.\n",
    "- PaymentScreenSuccessful: Pantalla de pago exitoso, indica la finalización de una compra.\n",
    "- Tutorial: Un evento menos frecuente, probablemente opcional o solo para usuarios nuevos.\n",
    "- Conclusión: Excepto por el evento Tutorial, los demás forman una secuencia clara relacionada con la navegación y el proceso de compra."
   ]
  },
  {
   "cell_type": "markdown",
   "metadata": {},
   "source": [
    "### Utiliza el embudo de eventos para encontrar la proporción de usuarios y usuarias que pasan de una etapa a la siguiente. (Por ejemplo, para la secuencia de eventos A → B → C, calcula la proporción de usuarios en la etapa B a la cantidad de usuarios en la etapa A y la proporción de usuarios en la etapa C a la cantidad en la etapa B).\n",
    "### ¿En qué etapa pierdes más usuarios y usuarias?\n",
    "### ¿Qué porcentaje de usuarios y usuarias hace todo el viaje desde su primer evento hasta el pago?"
   ]
  },
  {
   "cell_type": "code",
   "execution_count": 9,
   "metadata": {},
   "outputs": [
    {
     "name": "stdout",
     "output_type": "stream",
     "text": [
      "                event_name  users_in_stage  proportion_from_previous_stage\n",
      "0       OffersScreenAppear            4593                       -0.380914\n",
      "1         CartScreenAppear            3734                       -0.187024\n",
      "2  PaymentScreenSuccessful            3539                       -0.052223\n",
      "Porcentaje total de usuarios que completan el viaje: 47.70%\n"
     ]
    }
   ],
   "source": [
    "# Lista de eventos en el orden lógico del embudo\n",
    "funnel_events = ['MainScreenAppear', 'OffersScreenAppear', 'CartScreenAppear', 'PaymentScreenSuccessful']\n",
    "\n",
    "# Filtrar eventos del embudo y trabajar con el índice\n",
    "user_counts = event_analysis.loc[funnel_events, 'user_count']\n",
    "\n",
    "# Calcular proporciones entre etapas\n",
    "funnel_proportions = user_counts.pct_change().fillna(1).iloc[1:]\n",
    "\n",
    "# Resumir en un DataFrame\n",
    "funnel_summary = pd.DataFrame({\n",
    "    'event_name': funnel_events[1:],  # Desde la segunda etapa\n",
    "    'users_in_stage': user_counts.iloc[1:].values,\n",
    "    'proportion_from_previous_stage': funnel_proportions.values\n",
    "})\n",
    "\n",
    "# Porcentaje que completa el viaje (de primera a última etapa)\n",
    "total_completion_rate = user_counts['PaymentScreenSuccessful'] / user_counts['MainScreenAppear']\n",
    "\n",
    "# Mostrar resultados\n",
    "print(funnel_summary)\n",
    "print(f\"Porcentaje total de usuarios que completan el viaje: {total_completion_rate:.2%}\")"
   ]
  },
  {
   "cell_type": "markdown",
   "metadata": {},
   "source": [
    "<div class=\"alert alert-block alert-warning\">\n",
    "<b>Atención</b> <a class=\"tocSkip\"></a>\n",
    "Aunque identificaste correctamente la etapa con mayor pérdida (entre <code>MainScreenAppear</code> y <code>OffersScreenAppear</code>), podrías considerar agregar una visualización específica para el embudo, como un gráfico de barras horizontales para cada etapa. Esto facilita la comunicación de los hallazgos.</div>\n"
   ]
  },
  {
   "cell_type": "markdown",
   "metadata": {},
   "source": [
    "#### Proporción de usuarios que pasan de una etapa a la siguiente:\n",
    "\n",
    "- De MainScreenAppear a OffersScreenAppear: 60.96% (4,593 / 7,419 usuarios).\n",
    "- De OffersScreenAppear a CartScreenAppear: 81.29% (3,734 / 4,593 usuarios).\n",
    "- De CartScreenAppear a PaymentScreenSuccessful: 94.78% (3,539 / 3,734 usuarios).\n",
    "\n",
    "#### Etapa con mayor pérdida de usuarios:\n",
    "\n",
    "La mayor pérdida ocurre entre MainScreenAppear y OffersScreenAppear, donde el 39.04% de los usuarios que aparecen en la pantalla principal no llegan a ver las ofertas. (100% - 60,96%) = 39.04%\n",
    "\n",
    "#### Porcentaje de usuarios que hacen todo el viaje desde el primer evento hasta el pago:\n",
    "\n",
    "El 47.70% de los usuarios completan todo el viaje desde la pantalla principal hasta realizar un pago exitoso."
   ]
  },
  {
   "cell_type": "markdown",
   "metadata": {},
   "source": [
    "## Estudiar los resultados del experimento"
   ]
  },
  {
   "cell_type": "markdown",
   "metadata": {},
   "source": [
    "### ¿Cuántos usuarios y usuarias hay en cada grupo?"
   ]
  },
  {
   "cell_type": "code",
   "execution_count": 10,
   "metadata": {},
   "outputs": [
    {
     "name": "stdout",
     "output_type": "stream",
     "text": [
      "experiment_id\n",
      "246    2484\n",
      "247    2513\n",
      "248    2537\n",
      "Name: device_id, dtype: int64\n"
     ]
    }
   ],
   "source": [
    "# Contar usuarios únicos por grupo\n",
    "user_counts_per_group = clean_logs.groupby('experiment_id')['device_id'].nunique()\n",
    "print(user_counts_per_group)\n"
   ]
  },
  {
   "cell_type": "markdown",
   "metadata": {},
   "source": [
    "Los tamaños de los grupos son similares, lo que es positivo porque asegura una buena base para la comparación. Esto indica que el experimento se diseñó correctamente en términos de balanceo de usuarios entre los grupos.\n",
    "\n"
   ]
  },
  {
   "cell_type": "markdown",
   "metadata": {},
   "source": [
    "### Tenemos dos grupos de control en el test A/A, donde comprobamos nuestros mecanismos y cálculos. Observa si hay una diferencia estadísticamente significativa entre las muestras 246 y 247."
   ]
  },
  {
   "cell_type": "code",
   "execution_count": 11,
   "metadata": {},
   "outputs": [
    {
     "name": "stdout",
     "output_type": "stream",
     "text": [
      "Proporción 246: 98.63%, Proporción 247: 98.53%\n"
     ]
    }
   ],
   "source": [
    "# Selección del evento más popular\n",
    "popular_event = 'MainScreenAppear'\n",
    "\n",
    "# Filtrar el evento en ambos grupos de control\n",
    "group_246 = clean_logs[(clean_logs['experiment_id'] == 246) & (clean_logs['event_name'] == popular_event)]\n",
    "group_247 = clean_logs[(clean_logs['experiment_id'] == 247) & (clean_logs['event_name'] == popular_event)]\n",
    "\n",
    "# Usuarios únicos por grupo\n",
    "users_246 = group_246['device_id'].nunique()\n",
    "users_247 = group_247['device_id'].nunique()\n",
    "\n",
    "# Proporciones\n",
    "proportion_246 = users_246 / user_counts_per_group.loc[246]\n",
    "proportion_247 = users_247 / user_counts_per_group.loc[247]\n",
    "\n",
    "print(f\"Proporción 246: {proportion_246:.2%}, Proporción 247: {proportion_247:.2%}\")"
   ]
  },
  {
   "cell_type": "markdown",
   "metadata": {},
   "source": [
    "<div class=\"alert alert-block alert-success\">\n",
    "<b>Éxito</b> <a class=\"tocSkip\"></a>\n",
    "La validación estadística entre los grupos de control está correctamente ejecutada, utilizando un test z y verificando las proporciones de usuarios por evento. Esto respalda la homogeneidad entre los grupos 246 y 247.</div>\n"
   ]
  },
  {
   "cell_type": "code",
   "execution_count": 12,
   "metadata": {},
   "outputs": [
    {
     "name": "stdout",
     "output_type": "stream",
     "text": [
      "Estadístico z: 0.31, p-valor: 0.7571\n"
     ]
    }
   ],
   "source": [
    "\n",
    "# Datos para la prueba\n",
    "count = [users_246, users_247]\n",
    "nobs = [user_counts_per_group.loc[246], user_counts_per_group.loc[247]]\n",
    "\n",
    "# Realizar el z-test\n",
    "stat, p_value = proportions_ztest(count, nobs)\n",
    "\n",
    "print(f\"Estadístico z: {stat:.2f}, p-valor: {p_value:.4f}\")\n"
   ]
  },
  {
   "cell_type": "markdown",
   "metadata": {},
   "source": [
    "Las proporciones de los grupos de control son casi idénticas, y el p-valor indica que no hay diferencias significativas entre ellos (p>0.05). Esto confirma que los grupos de control están balanceados y no presentan sesgos significativos"
   ]
  },
  {
   "cell_type": "markdown",
   "metadata": {},
   "source": [
    "### Selecciona el evento más popular. En cada uno de los grupos de control, encuentra la cantidad de usuarios y usuarias que realizaron esta acción. Encuentra su proporción. Comprueba si la diferencia entre los grupos es estadísticamente significativa. Repite el procedimiento para todos los demás eventos (ahorrarás tiempo si creas una función especial para esta prueba). ¿Puedes confirmar que los grupos se dividieron correctamente?"
   ]
  },
  {
   "cell_type": "code",
   "execution_count": 13,
   "metadata": {},
   "outputs": [
    {
     "name": "stdout",
     "output_type": "stream",
     "text": [
      "                     event  group1_proportion  group2_proportion    z_stat  \\\n",
      "0                 Tutorial           0.111916           0.112614 -0.078161   \n",
      "1         MainScreenAppear           0.986312           0.985277  0.309344   \n",
      "2       OffersScreenAppear           0.620773           0.604855  1.154988   \n",
      "3         CartScreenAppear           0.509662           0.492638  1.203369   \n",
      "4  PaymentScreenSuccessful           0.483092           0.460804  1.577995   \n",
      "\n",
      "    p_value  \n",
      "0  0.937700  \n",
      "1  0.757060  \n",
      "2  0.248095  \n",
      "3  0.228834  \n",
      "4  0.114567  \n"
     ]
    }
   ],
   "source": [
    "def compare_groups(event_name, group1, group2):\n",
    "    # Filtrar los eventos para ambos grupos\n",
    "    users_group1 = clean_logs[(clean_logs['experiment_id'] == group1) & (clean_logs['event_name'] == event_name)]['device_id'].nunique()\n",
    "    users_group2 = clean_logs[(clean_logs['experiment_id'] == group2) & (clean_logs['event_name'] == event_name)]['device_id'].nunique()\n",
    "\n",
    "    # Proporciones\n",
    "    proportion1 = users_group1 / user_counts_per_group.loc[group1]\n",
    "    proportion2 = users_group2 / user_counts_per_group.loc[group2]\n",
    "\n",
    "    # Prueba estadística\n",
    "    count = [users_group1, users_group2]\n",
    "    nobs = [user_counts_per_group.loc[group1], user_counts_per_group.loc[group2]]\n",
    "    stat, p_value = proportions_ztest(count, nobs)\n",
    "\n",
    "    return {\n",
    "        \"event\": event_name,\n",
    "        \"group1_proportion\": proportion1,\n",
    "        \"group2_proportion\": proportion2,\n",
    "        \"z_stat\": stat,\n",
    "        \"p_value\": p_value\n",
    "    }\n",
    "\n",
    "# Aplicar la función para todos los eventos\n",
    "results = []\n",
    "for event in clean_logs['event_name'].unique():\n",
    "    results.append(compare_groups(event, 246, 247))\n",
    "\n",
    "# Mostrar resultados\n",
    "results_df = pd.DataFrame(results)\n",
    "print(results_df)"
   ]
  },
  {
   "cell_type": "markdown",
   "metadata": {},
   "source": [
    "Para todos los eventos, los p-valores son mayores al nivel de significancia ajustado (α=0.01). Esto indica que no hay diferencias estadísticamente significativas en la realización de eventos entre los grupos de control. Los grupos de control están bien alineados y no muestran sesgos en el comportamiento de los usuarios."
   ]
  },
  {
   "cell_type": "markdown",
   "metadata": {},
   "source": [
    "### Haz lo mismo para el grupo con fuentes alteradas. Compara los resultados con los de cada uno de los grupos de control para cada evento de forma aislada. Compara los resultados con los resultados combinados de los grupos de control. ¿Qué conclusiones puedes sacar del experimento?"
   ]
  },
  {
   "cell_type": "code",
   "execution_count": 14,
   "metadata": {},
   "outputs": [
    {
     "name": "stdout",
     "output_type": "stream",
     "text": [
      "                     event  experimental_proportion     z_stat       p_value\n",
      "0                 Tutorial                 0.109972 -79.692385  0.000000e+00\n",
      "1         MainScreenAppear                 0.982657  -9.336684  9.939802e-21\n",
      "2       OffersScreenAppear                 0.603469 -47.820726  0.000000e+00\n",
      "3         CartScreenAppear                 0.484825 -55.809176  0.000000e+00\n",
      "4  PaymentScreenSuccessful                 0.465510 -57.070692  0.000000e+00\n"
     ]
    }
   ],
   "source": [
    "# Combinar usuarios únicos de los grupos de control\n",
    "combined_control_users = clean_logs[clean_logs['experiment_id'].isin([246, 247])]['device_id'].nunique()\n",
    "\n",
    "# Repetir el análisis con el grupo experimental\n",
    "experimental_results = []\n",
    "for event in clean_logs['event_name'].unique():\n",
    "    users_group_experimental = clean_logs[(clean_logs['experiment_id'] == 248) & (clean_logs['event_name'] == event)]['device_id'].nunique()\n",
    "    proportion_experimental = users_group_experimental / user_counts_per_group.loc[248]\n",
    "    \n",
    "    # Comparar con grupos de control combinados\n",
    "    count = [users_group_experimental, combined_control_users]\n",
    "    nobs = [user_counts_per_group.loc[248], user_counts_per_group.loc[246] + user_counts_per_group.loc[247]]\n",
    "    stat, p_value = proportions_ztest(count, nobs)\n",
    "\n",
    "    experimental_results.append({\n",
    "        \"event\": event,\n",
    "        \"experimental_proportion\": proportion_experimental,\n",
    "        \"z_stat\": stat,\n",
    "        \"p_value\": p_value\n",
    "    })\n",
    "\n",
    "# Mostrar resultados\n",
    "experimental_results_df = pd.DataFrame(experimental_results)\n",
    "print(experimental_results_df)\n"
   ]
  },
  {
   "cell_type": "markdown",
   "metadata": {},
   "source": [
    "<div class=\"alert alert-block alert-success\">\n",
    "<b>Éxito</b> <a class=\"tocSkip\"></a>\n",
    "El análisis del grupo experimental (248) frente a los controles muestra un uso riguroso de pruebas estadísticas y ajuste por múltiples comparaciones mediante la corrección de Bonferroni. Esto fortalece la validez de las conclusiones.</div>\n"
   ]
  },
  {
   "cell_type": "markdown",
   "metadata": {},
   "source": [
    "Para todos los eventos, el p-valor es menor al nivel de significancia ajustado (α=0.01). Esto sugiere diferencias estadísticamente significativas entre el grupo experimental y los grupos de control. En particular, las proporciones son consistentemente más bajas en el grupo experimental, lo que indica que las modificaciones introducidas en este grupo pueden haber reducido la participación de los usuarios en los eventos."
   ]
  },
  {
   "cell_type": "markdown",
   "metadata": {},
   "source": [
    "### Para todos los eventos, el p-valor es menor al nivel de significancia ajustado (α=0.01). Esto sugiere diferencias estadísticamente significativas entre el grupo experimental y los grupos de control. En particular, las proporciones son consistentemente más bajas en el grupo experimental, lo que indica que las modificaciones introducidas en este grupo pueden haber reducido la participación de los usuarios en los eventos."
   ]
  },
  {
   "cell_type": "code",
   "execution_count": 15,
   "metadata": {},
   "outputs": [
    {
     "name": "stdout",
     "output_type": "stream",
     "text": [
      "Nivel de significancia ajustado: 0.01000\n"
     ]
    }
   ],
   "source": [
    "alpha = 0.05\n",
    "num_tests = len(clean_logs['event_name'].unique())\n",
    "adjusted_alpha = alpha / num_tests\n",
    "\n",
    "print(f\"Nivel de significancia ajustado: {adjusted_alpha:.5f}\")"
   ]
  },
  {
   "cell_type": "markdown",
   "metadata": {},
   "source": [
    "Se utilizó la corrección de Bonferroni para ajustar el nivel de significancia debido a las múltiples pruebas de hipótesis. Esto asegura que las conclusiones sean robustas y reduce el riesgo de falsos positivos."
   ]
  },
  {
   "cell_type": "markdown",
   "metadata": {},
   "source": [
    "## CONCLUCIONES GENERALES"
   ]
  },
  {
   "cell_type": "markdown",
   "metadata": {},
   "source": [
    "\n",
    "- Los grupos de control (246 y 247) están bien equilibrados, sin diferencias significativas en sus comportamientos o en la proporción de usuarios que realizan los eventos.\n",
    "- El grupo experimental (248) muestra proporciones significativamente más bajas en todos los eventos en comparación con los grupos de control. Esto indica que los cambios implementados en el grupo experimental pueden haber afectado negativamente el comportamiento de los usuarios.\n",
    "- El ajuste del nivel de significancia confirma que las conclusiones son confiables a pesar de realizar múltiples pruebas."
   ]
  },
  {
   "cell_type": "markdown",
   "metadata": {},
   "source": [
    "<div class=\"alert alert-block alert-success\">\n",
    "<b>Éxito</b> <a class=\"tocSkip\"></a>\n",
    "Daniel, tu proyecto aborda correctamente los pasos esenciales de un análisis de datos, desde la preparación hasta las conclusiones. Has seguido una estructura clara y bien definida, lo que facilita la comprensión del flujo de trabajo.\n",
    "\n",
    "1. **Preparación de los datos:** Realizaste transformaciones importantes como el manejo de fechas y la eliminación de duplicados. Aunque hubo un pequeño error en la asignación de `event_time`, el resto de los pasos son correctos y funcionales.\n",
    "2. **Exploración y análisis del embudo:** Identificaste adecuadamente los eventos clave y calculaste las proporciones en cada etapa. Las métricas presentadas son útiles para entender dónde ocurren las pérdidas de usuarios.\n",
    "3. **Resultados del experimento:** Mostraste un uso correcto de pruebas estadísticas, validando las hipótesis con un enfoque sólido, aunque podrías haber profundizado más en la interpretación de los hallazgos.\n",
    "\n",
    "El proyecto refleja un buen nivel técnico, está bien ejecutado y es consistente con los objetivos planteados.\n",
    "\n",
    " ¡Buen trabajo y felicidades por tu esfuerzo! 😊</div>\n"
   ]
  },
  {
   "cell_type": "code",
   "execution_count": null,
   "metadata": {},
   "outputs": [],
   "source": []
  }
 ],
 "metadata": {
  "ExecuteTimeLog": [
   {
    "duration": 161,
    "start_time": "2024-11-22T02:56:31.204Z"
   },
   {
    "duration": 648,
    "start_time": "2024-11-22T02:56:38.844Z"
   },
   {
    "duration": 174,
    "start_time": "2024-11-22T02:56:40.843Z"
   },
   {
    "duration": 233,
    "start_time": "2024-11-22T02:58:07.928Z"
   },
   {
    "duration": 294,
    "start_time": "2024-11-22T02:58:54.496Z"
   },
   {
    "duration": 31,
    "start_time": "2024-11-22T03:01:03.739Z"
   },
   {
    "duration": 77,
    "start_time": "2024-11-22T03:02:27.476Z"
   },
   {
    "duration": 7,
    "start_time": "2024-11-22T03:03:12.302Z"
   },
   {
    "duration": 21,
    "start_time": "2024-11-22T03:08:04.571Z"
   },
   {
    "duration": 34,
    "start_time": "2024-11-22T03:08:22.938Z"
   },
   {
    "duration": 4,
    "start_time": "2024-11-22T03:09:37.339Z"
   },
   {
    "duration": 145,
    "start_time": "2024-11-22T03:11:08.461Z"
   },
   {
    "duration": 86,
    "start_time": "2024-11-22T03:12:33.204Z"
   },
   {
    "duration": 15,
    "start_time": "2024-11-22T03:13:12.969Z"
   }
  ],
  "kernelspec": {
   "display_name": "Python 3 (ipykernel)",
   "language": "python",
   "name": "python3"
  },
  "language_info": {
   "codemirror_mode": {
    "name": "ipython",
    "version": 3
   },
   "file_extension": ".py",
   "mimetype": "text/x-python",
   "name": "python",
   "nbconvert_exporter": "python",
   "pygments_lexer": "ipython3",
   "version": "3.9.19"
  },
  "toc": {
   "base_numbering": 1,
   "nav_menu": {},
   "number_sections": true,
   "sideBar": true,
   "skip_h1_title": true,
   "title_cell": "Table of Contents",
   "title_sidebar": "Contents",
   "toc_cell": false,
   "toc_position": {
    "height": "calc(100% - 180px)",
    "left": "10px",
    "top": "150px",
    "width": "363.583px"
   },
   "toc_section_display": true,
   "toc_window_display": true
  }
 },
 "nbformat": 4,
 "nbformat_minor": 2
}
