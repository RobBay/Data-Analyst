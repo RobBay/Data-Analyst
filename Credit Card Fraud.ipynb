{
 "cells": [
  {
   "cell_type": "markdown",
   "metadata": {},
   "source": [
    "# Detección de fraudes con aprendizaje profundo en transacciones de tarjetas de crédito"
   ]
  },
  {
   "cell_type": "markdown",
   "metadata": {},
   "source": [
    "Desarrollar un modelo de deep learning con TensorFlow y Keras para identificar transacciones fraudulentas, abordando el desbalance de clases mediante la técnica SMOTE."
   ]
  },
  {
   "cell_type": "code",
   "execution_count": 1,
   "id": "a99f05d1",
   "metadata": {},
   "outputs": [
    {
     "name": "stdout",
     "output_type": "stream",
     "text": [
      "(284807, 31)\n"
     ]
    },
    {
     "data": {
      "text/html": [
       "<div>\n",
       "<style scoped>\n",
       "    .dataframe tbody tr th:only-of-type {\n",
       "        vertical-align: middle;\n",
       "    }\n",
       "\n",
       "    .dataframe tbody tr th {\n",
       "        vertical-align: top;\n",
       "    }\n",
       "\n",
       "    .dataframe thead th {\n",
       "        text-align: right;\n",
       "    }\n",
       "</style>\n",
       "<table border=\"1\" class=\"dataframe\">\n",
       "  <thead>\n",
       "    <tr style=\"text-align: right;\">\n",
       "      <th></th>\n",
       "      <th>Time</th>\n",
       "      <th>V1</th>\n",
       "      <th>V2</th>\n",
       "      <th>V3</th>\n",
       "      <th>V4</th>\n",
       "      <th>V5</th>\n",
       "      <th>V6</th>\n",
       "      <th>V7</th>\n",
       "      <th>V8</th>\n",
       "      <th>V9</th>\n",
       "      <th>...</th>\n",
       "      <th>V21</th>\n",
       "      <th>V22</th>\n",
       "      <th>V23</th>\n",
       "      <th>V24</th>\n",
       "      <th>V25</th>\n",
       "      <th>V26</th>\n",
       "      <th>V27</th>\n",
       "      <th>V28</th>\n",
       "      <th>Amount</th>\n",
       "      <th>Class</th>\n",
       "    </tr>\n",
       "  </thead>\n",
       "  <tbody>\n",
       "    <tr>\n",
       "      <th>0</th>\n",
       "      <td>0.0</td>\n",
       "      <td>-1.359807</td>\n",
       "      <td>-0.072781</td>\n",
       "      <td>2.536347</td>\n",
       "      <td>1.378155</td>\n",
       "      <td>-0.338321</td>\n",
       "      <td>0.462388</td>\n",
       "      <td>0.239599</td>\n",
       "      <td>0.098698</td>\n",
       "      <td>0.363787</td>\n",
       "      <td>...</td>\n",
       "      <td>-0.018307</td>\n",
       "      <td>0.277838</td>\n",
       "      <td>-0.110474</td>\n",
       "      <td>0.066928</td>\n",
       "      <td>0.128539</td>\n",
       "      <td>-0.189115</td>\n",
       "      <td>0.133558</td>\n",
       "      <td>-0.021053</td>\n",
       "      <td>149.62</td>\n",
       "      <td>0</td>\n",
       "    </tr>\n",
       "    <tr>\n",
       "      <th>1</th>\n",
       "      <td>0.0</td>\n",
       "      <td>1.191857</td>\n",
       "      <td>0.266151</td>\n",
       "      <td>0.166480</td>\n",
       "      <td>0.448154</td>\n",
       "      <td>0.060018</td>\n",
       "      <td>-0.082361</td>\n",
       "      <td>-0.078803</td>\n",
       "      <td>0.085102</td>\n",
       "      <td>-0.255425</td>\n",
       "      <td>...</td>\n",
       "      <td>-0.225775</td>\n",
       "      <td>-0.638672</td>\n",
       "      <td>0.101288</td>\n",
       "      <td>-0.339846</td>\n",
       "      <td>0.167170</td>\n",
       "      <td>0.125895</td>\n",
       "      <td>-0.008983</td>\n",
       "      <td>0.014724</td>\n",
       "      <td>2.69</td>\n",
       "      <td>0</td>\n",
       "    </tr>\n",
       "    <tr>\n",
       "      <th>2</th>\n",
       "      <td>1.0</td>\n",
       "      <td>-1.358354</td>\n",
       "      <td>-1.340163</td>\n",
       "      <td>1.773209</td>\n",
       "      <td>0.379780</td>\n",
       "      <td>-0.503198</td>\n",
       "      <td>1.800499</td>\n",
       "      <td>0.791461</td>\n",
       "      <td>0.247676</td>\n",
       "      <td>-1.514654</td>\n",
       "      <td>...</td>\n",
       "      <td>0.247998</td>\n",
       "      <td>0.771679</td>\n",
       "      <td>0.909412</td>\n",
       "      <td>-0.689281</td>\n",
       "      <td>-0.327642</td>\n",
       "      <td>-0.139097</td>\n",
       "      <td>-0.055353</td>\n",
       "      <td>-0.059752</td>\n",
       "      <td>378.66</td>\n",
       "      <td>0</td>\n",
       "    </tr>\n",
       "    <tr>\n",
       "      <th>3</th>\n",
       "      <td>1.0</td>\n",
       "      <td>-0.966272</td>\n",
       "      <td>-0.185226</td>\n",
       "      <td>1.792993</td>\n",
       "      <td>-0.863291</td>\n",
       "      <td>-0.010309</td>\n",
       "      <td>1.247203</td>\n",
       "      <td>0.237609</td>\n",
       "      <td>0.377436</td>\n",
       "      <td>-1.387024</td>\n",
       "      <td>...</td>\n",
       "      <td>-0.108300</td>\n",
       "      <td>0.005274</td>\n",
       "      <td>-0.190321</td>\n",
       "      <td>-1.175575</td>\n",
       "      <td>0.647376</td>\n",
       "      <td>-0.221929</td>\n",
       "      <td>0.062723</td>\n",
       "      <td>0.061458</td>\n",
       "      <td>123.50</td>\n",
       "      <td>0</td>\n",
       "    </tr>\n",
       "    <tr>\n",
       "      <th>4</th>\n",
       "      <td>2.0</td>\n",
       "      <td>-1.158233</td>\n",
       "      <td>0.877737</td>\n",
       "      <td>1.548718</td>\n",
       "      <td>0.403034</td>\n",
       "      <td>-0.407193</td>\n",
       "      <td>0.095921</td>\n",
       "      <td>0.592941</td>\n",
       "      <td>-0.270533</td>\n",
       "      <td>0.817739</td>\n",
       "      <td>...</td>\n",
       "      <td>-0.009431</td>\n",
       "      <td>0.798278</td>\n",
       "      <td>-0.137458</td>\n",
       "      <td>0.141267</td>\n",
       "      <td>-0.206010</td>\n",
       "      <td>0.502292</td>\n",
       "      <td>0.219422</td>\n",
       "      <td>0.215153</td>\n",
       "      <td>69.99</td>\n",
       "      <td>0</td>\n",
       "    </tr>\n",
       "  </tbody>\n",
       "</table>\n",
       "<p>5 rows × 31 columns</p>\n",
       "</div>"
      ],
      "text/plain": [
       "   Time        V1        V2        V3        V4        V5        V6        V7  \\\n",
       "0   0.0 -1.359807 -0.072781  2.536347  1.378155 -0.338321  0.462388  0.239599   \n",
       "1   0.0  1.191857  0.266151  0.166480  0.448154  0.060018 -0.082361 -0.078803   \n",
       "2   1.0 -1.358354 -1.340163  1.773209  0.379780 -0.503198  1.800499  0.791461   \n",
       "3   1.0 -0.966272 -0.185226  1.792993 -0.863291 -0.010309  1.247203  0.237609   \n",
       "4   2.0 -1.158233  0.877737  1.548718  0.403034 -0.407193  0.095921  0.592941   \n",
       "\n",
       "         V8        V9  ...       V21       V22       V23       V24       V25  \\\n",
       "0  0.098698  0.363787  ... -0.018307  0.277838 -0.110474  0.066928  0.128539   \n",
       "1  0.085102 -0.255425  ... -0.225775 -0.638672  0.101288 -0.339846  0.167170   \n",
       "2  0.247676 -1.514654  ...  0.247998  0.771679  0.909412 -0.689281 -0.327642   \n",
       "3  0.377436 -1.387024  ... -0.108300  0.005274 -0.190321 -1.175575  0.647376   \n",
       "4 -0.270533  0.817739  ... -0.009431  0.798278 -0.137458  0.141267 -0.206010   \n",
       "\n",
       "        V26       V27       V28  Amount  Class  \n",
       "0 -0.189115  0.133558 -0.021053  149.62      0  \n",
       "1  0.125895 -0.008983  0.014724    2.69      0  \n",
       "2 -0.139097 -0.055353 -0.059752  378.66      0  \n",
       "3 -0.221929  0.062723  0.061458  123.50      0  \n",
       "4  0.502292  0.219422  0.215153   69.99      0  \n",
       "\n",
       "[5 rows x 31 columns]"
      ]
     },
     "execution_count": 1,
     "metadata": {},
     "output_type": "execute_result"
    }
   ],
   "source": [
    "# 1. Importar librerías\n",
    "import pandas as pd\n",
    "import numpy as np\n",
    "import matplotlib.pyplot as plt\n",
    "import seaborn as sns\n",
    "import tensorflow as tf\n",
    "from sklearn.model_selection import train_test_split\n",
    "from sklearn.preprocessing import StandardScaler\n",
    "from sklearn.metrics import classification_report, confusion_matrix\n",
    "\n",
    "# 2. Leer el dataset\n",
    "df = pd.read_csv(\"creditcard.csv\")\n",
    "print(df.shape)\n",
    "df.head()\n"
   ]
  },
  {
   "cell_type": "code",
   "execution_count": 2,
   "id": "72fd5bb0",
   "metadata": {},
   "outputs": [
    {
     "name": "stdout",
     "output_type": "stream",
     "text": [
      "<class 'pandas.core.frame.DataFrame'>\n",
      "RangeIndex: 284807 entries, 0 to 284806\n",
      "Data columns (total 31 columns):\n",
      " #   Column  Non-Null Count   Dtype  \n",
      "---  ------  --------------   -----  \n",
      " 0   Time    284807 non-null  float64\n",
      " 1   V1      284807 non-null  float64\n",
      " 2   V2      284807 non-null  float64\n",
      " 3   V3      284807 non-null  float64\n",
      " 4   V4      284807 non-null  float64\n",
      " 5   V5      284807 non-null  float64\n",
      " 6   V6      284807 non-null  float64\n",
      " 7   V7      284807 non-null  float64\n",
      " 8   V8      284807 non-null  float64\n",
      " 9   V9      284807 non-null  float64\n",
      " 10  V10     284807 non-null  float64\n",
      " 11  V11     284807 non-null  float64\n",
      " 12  V12     284807 non-null  float64\n",
      " 13  V13     284807 non-null  float64\n",
      " 14  V14     284807 non-null  float64\n",
      " 15  V15     284807 non-null  float64\n",
      " 16  V16     284807 non-null  float64\n",
      " 17  V17     284807 non-null  float64\n",
      " 18  V18     284807 non-null  float64\n",
      " 19  V19     284807 non-null  float64\n",
      " 20  V20     284807 non-null  float64\n",
      " 21  V21     284807 non-null  float64\n",
      " 22  V22     284807 non-null  float64\n",
      " 23  V23     284807 non-null  float64\n",
      " 24  V24     284807 non-null  float64\n",
      " 25  V25     284807 non-null  float64\n",
      " 26  V26     284807 non-null  float64\n",
      " 27  V27     284807 non-null  float64\n",
      " 28  V28     284807 non-null  float64\n",
      " 29  Amount  284807 non-null  float64\n",
      " 30  Class   284807 non-null  int64  \n",
      "dtypes: float64(30), int64(1)\n",
      "memory usage: 67.4 MB\n"
     ]
    },
    {
     "data": {
      "text/html": [
       "<div>\n",
       "<style scoped>\n",
       "    .dataframe tbody tr th:only-of-type {\n",
       "        vertical-align: middle;\n",
       "    }\n",
       "\n",
       "    .dataframe tbody tr th {\n",
       "        vertical-align: top;\n",
       "    }\n",
       "\n",
       "    .dataframe thead th {\n",
       "        text-align: right;\n",
       "    }\n",
       "</style>\n",
       "<table border=\"1\" class=\"dataframe\">\n",
       "  <thead>\n",
       "    <tr style=\"text-align: right;\">\n",
       "      <th></th>\n",
       "      <th>Time</th>\n",
       "      <th>V1</th>\n",
       "      <th>V2</th>\n",
       "      <th>V3</th>\n",
       "      <th>V4</th>\n",
       "      <th>V5</th>\n",
       "      <th>V6</th>\n",
       "      <th>V7</th>\n",
       "      <th>V8</th>\n",
       "      <th>V9</th>\n",
       "      <th>...</th>\n",
       "      <th>V21</th>\n",
       "      <th>V22</th>\n",
       "      <th>V23</th>\n",
       "      <th>V24</th>\n",
       "      <th>V25</th>\n",
       "      <th>V26</th>\n",
       "      <th>V27</th>\n",
       "      <th>V28</th>\n",
       "      <th>Amount</th>\n",
       "      <th>Class</th>\n",
       "    </tr>\n",
       "  </thead>\n",
       "  <tbody>\n",
       "    <tr>\n",
       "      <th>count</th>\n",
       "      <td>284807.000000</td>\n",
       "      <td>2.848070e+05</td>\n",
       "      <td>2.848070e+05</td>\n",
       "      <td>2.848070e+05</td>\n",
       "      <td>2.848070e+05</td>\n",
       "      <td>2.848070e+05</td>\n",
       "      <td>2.848070e+05</td>\n",
       "      <td>2.848070e+05</td>\n",
       "      <td>2.848070e+05</td>\n",
       "      <td>2.848070e+05</td>\n",
       "      <td>...</td>\n",
       "      <td>2.848070e+05</td>\n",
       "      <td>2.848070e+05</td>\n",
       "      <td>2.848070e+05</td>\n",
       "      <td>2.848070e+05</td>\n",
       "      <td>2.848070e+05</td>\n",
       "      <td>2.848070e+05</td>\n",
       "      <td>2.848070e+05</td>\n",
       "      <td>2.848070e+05</td>\n",
       "      <td>284807.000000</td>\n",
       "      <td>284807.000000</td>\n",
       "    </tr>\n",
       "    <tr>\n",
       "      <th>mean</th>\n",
       "      <td>94813.859575</td>\n",
       "      <td>1.168375e-15</td>\n",
       "      <td>3.416908e-16</td>\n",
       "      <td>-1.379537e-15</td>\n",
       "      <td>2.074095e-15</td>\n",
       "      <td>9.604066e-16</td>\n",
       "      <td>1.487313e-15</td>\n",
       "      <td>-5.556467e-16</td>\n",
       "      <td>1.213481e-16</td>\n",
       "      <td>-2.406331e-15</td>\n",
       "      <td>...</td>\n",
       "      <td>1.654067e-16</td>\n",
       "      <td>-3.568593e-16</td>\n",
       "      <td>2.578648e-16</td>\n",
       "      <td>4.473266e-15</td>\n",
       "      <td>5.340915e-16</td>\n",
       "      <td>1.683437e-15</td>\n",
       "      <td>-3.660091e-16</td>\n",
       "      <td>-1.227390e-16</td>\n",
       "      <td>88.349619</td>\n",
       "      <td>0.001727</td>\n",
       "    </tr>\n",
       "    <tr>\n",
       "      <th>std</th>\n",
       "      <td>47488.145955</td>\n",
       "      <td>1.958696e+00</td>\n",
       "      <td>1.651309e+00</td>\n",
       "      <td>1.516255e+00</td>\n",
       "      <td>1.415869e+00</td>\n",
       "      <td>1.380247e+00</td>\n",
       "      <td>1.332271e+00</td>\n",
       "      <td>1.237094e+00</td>\n",
       "      <td>1.194353e+00</td>\n",
       "      <td>1.098632e+00</td>\n",
       "      <td>...</td>\n",
       "      <td>7.345240e-01</td>\n",
       "      <td>7.257016e-01</td>\n",
       "      <td>6.244603e-01</td>\n",
       "      <td>6.056471e-01</td>\n",
       "      <td>5.212781e-01</td>\n",
       "      <td>4.822270e-01</td>\n",
       "      <td>4.036325e-01</td>\n",
       "      <td>3.300833e-01</td>\n",
       "      <td>250.120109</td>\n",
       "      <td>0.041527</td>\n",
       "    </tr>\n",
       "    <tr>\n",
       "      <th>min</th>\n",
       "      <td>0.000000</td>\n",
       "      <td>-5.640751e+01</td>\n",
       "      <td>-7.271573e+01</td>\n",
       "      <td>-4.832559e+01</td>\n",
       "      <td>-5.683171e+00</td>\n",
       "      <td>-1.137433e+02</td>\n",
       "      <td>-2.616051e+01</td>\n",
       "      <td>-4.355724e+01</td>\n",
       "      <td>-7.321672e+01</td>\n",
       "      <td>-1.343407e+01</td>\n",
       "      <td>...</td>\n",
       "      <td>-3.483038e+01</td>\n",
       "      <td>-1.093314e+01</td>\n",
       "      <td>-4.480774e+01</td>\n",
       "      <td>-2.836627e+00</td>\n",
       "      <td>-1.029540e+01</td>\n",
       "      <td>-2.604551e+00</td>\n",
       "      <td>-2.256568e+01</td>\n",
       "      <td>-1.543008e+01</td>\n",
       "      <td>0.000000</td>\n",
       "      <td>0.000000</td>\n",
       "    </tr>\n",
       "    <tr>\n",
       "      <th>25%</th>\n",
       "      <td>54201.500000</td>\n",
       "      <td>-9.203734e-01</td>\n",
       "      <td>-5.985499e-01</td>\n",
       "      <td>-8.903648e-01</td>\n",
       "      <td>-8.486401e-01</td>\n",
       "      <td>-6.915971e-01</td>\n",
       "      <td>-7.682956e-01</td>\n",
       "      <td>-5.540759e-01</td>\n",
       "      <td>-2.086297e-01</td>\n",
       "      <td>-6.430976e-01</td>\n",
       "      <td>...</td>\n",
       "      <td>-2.283949e-01</td>\n",
       "      <td>-5.423504e-01</td>\n",
       "      <td>-1.618463e-01</td>\n",
       "      <td>-3.545861e-01</td>\n",
       "      <td>-3.171451e-01</td>\n",
       "      <td>-3.269839e-01</td>\n",
       "      <td>-7.083953e-02</td>\n",
       "      <td>-5.295979e-02</td>\n",
       "      <td>5.600000</td>\n",
       "      <td>0.000000</td>\n",
       "    </tr>\n",
       "    <tr>\n",
       "      <th>50%</th>\n",
       "      <td>84692.000000</td>\n",
       "      <td>1.810880e-02</td>\n",
       "      <td>6.548556e-02</td>\n",
       "      <td>1.798463e-01</td>\n",
       "      <td>-1.984653e-02</td>\n",
       "      <td>-5.433583e-02</td>\n",
       "      <td>-2.741871e-01</td>\n",
       "      <td>4.010308e-02</td>\n",
       "      <td>2.235804e-02</td>\n",
       "      <td>-5.142873e-02</td>\n",
       "      <td>...</td>\n",
       "      <td>-2.945017e-02</td>\n",
       "      <td>6.781943e-03</td>\n",
       "      <td>-1.119293e-02</td>\n",
       "      <td>4.097606e-02</td>\n",
       "      <td>1.659350e-02</td>\n",
       "      <td>-5.213911e-02</td>\n",
       "      <td>1.342146e-03</td>\n",
       "      <td>1.124383e-02</td>\n",
       "      <td>22.000000</td>\n",
       "      <td>0.000000</td>\n",
       "    </tr>\n",
       "    <tr>\n",
       "      <th>75%</th>\n",
       "      <td>139320.500000</td>\n",
       "      <td>1.315642e+00</td>\n",
       "      <td>8.037239e-01</td>\n",
       "      <td>1.027196e+00</td>\n",
       "      <td>7.433413e-01</td>\n",
       "      <td>6.119264e-01</td>\n",
       "      <td>3.985649e-01</td>\n",
       "      <td>5.704361e-01</td>\n",
       "      <td>3.273459e-01</td>\n",
       "      <td>5.971390e-01</td>\n",
       "      <td>...</td>\n",
       "      <td>1.863772e-01</td>\n",
       "      <td>5.285536e-01</td>\n",
       "      <td>1.476421e-01</td>\n",
       "      <td>4.395266e-01</td>\n",
       "      <td>3.507156e-01</td>\n",
       "      <td>2.409522e-01</td>\n",
       "      <td>9.104512e-02</td>\n",
       "      <td>7.827995e-02</td>\n",
       "      <td>77.165000</td>\n",
       "      <td>0.000000</td>\n",
       "    </tr>\n",
       "    <tr>\n",
       "      <th>max</th>\n",
       "      <td>172792.000000</td>\n",
       "      <td>2.454930e+00</td>\n",
       "      <td>2.205773e+01</td>\n",
       "      <td>9.382558e+00</td>\n",
       "      <td>1.687534e+01</td>\n",
       "      <td>3.480167e+01</td>\n",
       "      <td>7.330163e+01</td>\n",
       "      <td>1.205895e+02</td>\n",
       "      <td>2.000721e+01</td>\n",
       "      <td>1.559499e+01</td>\n",
       "      <td>...</td>\n",
       "      <td>2.720284e+01</td>\n",
       "      <td>1.050309e+01</td>\n",
       "      <td>2.252841e+01</td>\n",
       "      <td>4.584549e+00</td>\n",
       "      <td>7.519589e+00</td>\n",
       "      <td>3.517346e+00</td>\n",
       "      <td>3.161220e+01</td>\n",
       "      <td>3.384781e+01</td>\n",
       "      <td>25691.160000</td>\n",
       "      <td>1.000000</td>\n",
       "    </tr>\n",
       "  </tbody>\n",
       "</table>\n",
       "<p>8 rows × 31 columns</p>\n",
       "</div>"
      ],
      "text/plain": [
       "                Time            V1            V2            V3            V4  \\\n",
       "count  284807.000000  2.848070e+05  2.848070e+05  2.848070e+05  2.848070e+05   \n",
       "mean    94813.859575  1.168375e-15  3.416908e-16 -1.379537e-15  2.074095e-15   \n",
       "std     47488.145955  1.958696e+00  1.651309e+00  1.516255e+00  1.415869e+00   \n",
       "min         0.000000 -5.640751e+01 -7.271573e+01 -4.832559e+01 -5.683171e+00   \n",
       "25%     54201.500000 -9.203734e-01 -5.985499e-01 -8.903648e-01 -8.486401e-01   \n",
       "50%     84692.000000  1.810880e-02  6.548556e-02  1.798463e-01 -1.984653e-02   \n",
       "75%    139320.500000  1.315642e+00  8.037239e-01  1.027196e+00  7.433413e-01   \n",
       "max    172792.000000  2.454930e+00  2.205773e+01  9.382558e+00  1.687534e+01   \n",
       "\n",
       "                 V5            V6            V7            V8            V9  \\\n",
       "count  2.848070e+05  2.848070e+05  2.848070e+05  2.848070e+05  2.848070e+05   \n",
       "mean   9.604066e-16  1.487313e-15 -5.556467e-16  1.213481e-16 -2.406331e-15   \n",
       "std    1.380247e+00  1.332271e+00  1.237094e+00  1.194353e+00  1.098632e+00   \n",
       "min   -1.137433e+02 -2.616051e+01 -4.355724e+01 -7.321672e+01 -1.343407e+01   \n",
       "25%   -6.915971e-01 -7.682956e-01 -5.540759e-01 -2.086297e-01 -6.430976e-01   \n",
       "50%   -5.433583e-02 -2.741871e-01  4.010308e-02  2.235804e-02 -5.142873e-02   \n",
       "75%    6.119264e-01  3.985649e-01  5.704361e-01  3.273459e-01  5.971390e-01   \n",
       "max    3.480167e+01  7.330163e+01  1.205895e+02  2.000721e+01  1.559499e+01   \n",
       "\n",
       "       ...           V21           V22           V23           V24  \\\n",
       "count  ...  2.848070e+05  2.848070e+05  2.848070e+05  2.848070e+05   \n",
       "mean   ...  1.654067e-16 -3.568593e-16  2.578648e-16  4.473266e-15   \n",
       "std    ...  7.345240e-01  7.257016e-01  6.244603e-01  6.056471e-01   \n",
       "min    ... -3.483038e+01 -1.093314e+01 -4.480774e+01 -2.836627e+00   \n",
       "25%    ... -2.283949e-01 -5.423504e-01 -1.618463e-01 -3.545861e-01   \n",
       "50%    ... -2.945017e-02  6.781943e-03 -1.119293e-02  4.097606e-02   \n",
       "75%    ...  1.863772e-01  5.285536e-01  1.476421e-01  4.395266e-01   \n",
       "max    ...  2.720284e+01  1.050309e+01  2.252841e+01  4.584549e+00   \n",
       "\n",
       "                V25           V26           V27           V28         Amount  \\\n",
       "count  2.848070e+05  2.848070e+05  2.848070e+05  2.848070e+05  284807.000000   \n",
       "mean   5.340915e-16  1.683437e-15 -3.660091e-16 -1.227390e-16      88.349619   \n",
       "std    5.212781e-01  4.822270e-01  4.036325e-01  3.300833e-01     250.120109   \n",
       "min   -1.029540e+01 -2.604551e+00 -2.256568e+01 -1.543008e+01       0.000000   \n",
       "25%   -3.171451e-01 -3.269839e-01 -7.083953e-02 -5.295979e-02       5.600000   \n",
       "50%    1.659350e-02 -5.213911e-02  1.342146e-03  1.124383e-02      22.000000   \n",
       "75%    3.507156e-01  2.409522e-01  9.104512e-02  7.827995e-02      77.165000   \n",
       "max    7.519589e+00  3.517346e+00  3.161220e+01  3.384781e+01   25691.160000   \n",
       "\n",
       "               Class  \n",
       "count  284807.000000  \n",
       "mean        0.001727  \n",
       "std         0.041527  \n",
       "min         0.000000  \n",
       "25%         0.000000  \n",
       "50%         0.000000  \n",
       "75%         0.000000  \n",
       "max         1.000000  \n",
       "\n",
       "[8 rows x 31 columns]"
      ]
     },
     "execution_count": 2,
     "metadata": {},
     "output_type": "execute_result"
    }
   ],
   "source": [
    "df.info()\n",
    "df.describe()\n"
   ]
  },
  {
   "cell_type": "code",
   "execution_count": 3,
   "id": "20a727ff",
   "metadata": {},
   "outputs": [
    {
     "data": {
      "text/plain": [
       "Class\n",
       "0    0.998273\n",
       "1    0.001727\n",
       "Name: proportion, dtype: float64"
      ]
     },
     "execution_count": 3,
     "metadata": {},
     "output_type": "execute_result"
    }
   ],
   "source": [
    "df['Class'].value_counts(normalize=True)\n"
   ]
  },
  {
   "cell_type": "code",
   "execution_count": 4,
   "id": "aa170e99",
   "metadata": {},
   "outputs": [
    {
     "data": {
      "image/png": "[encoded data removed]",
      "text/plain": [
       "<Figure size 640x480 with 1 Axes>"
      ]
     },
     "metadata": {},
     "output_type": "display_data"
    },
    {
     "name": "stdout",
     "output_type": "stream",
     "text": [
      "Class\n",
      "0    0.998273\n",
      "1    0.001727\n",
      "Name: proportion, dtype: float64\n"
     ]
    }
   ],
   "source": [
    "import seaborn as sns\n",
    "import matplotlib.pyplot as plt\n",
    "\n",
    "sns.countplot(x='Class', data=df)\n",
    "plt.title('Distribución de clases (0 = legítimo, 1 = fraude)')\n",
    "plt.show()\n",
    "\n",
    "print(df['Class'].value_counts(normalize=True))\n"
   ]
  },
  {
   "cell_type": "code",
   "execution_count": 5,
   "id": "2cb55aad",
   "metadata": {},
   "outputs": [
    {
     "name": "stderr",
     "output_type": "stream",
     "text": [
      "d:\\Daniel\\Estudio Virtual\\TRIPLETEN\\Proyectos\\3.Fraude_tarjeta_credito\\venv\\lib\\site-packages\\sklearn\\base.py:474: FutureWarning: `BaseEstimator._validate_data` is deprecated in 1.6 and will be removed in 1.7. Use `sklearn.utils.validation.validate_data` instead. This function becomes public and is part of the scikit-learn developer API.\n",
      "  warnings.warn(\n"
     ]
    },
    {
     "name": "stdout",
     "output_type": "stream",
     "text": [
      "{0: 227451, 1: 227451}\n"
     ]
    }
   ],
   "source": [
    "from imblearn.over_sampling import SMOTE\n",
    "from sklearn.model_selection import train_test_split\n",
    "from sklearn.preprocessing import StandardScaler\n",
    "\n",
    "# 1. Separar características y etiquetas\n",
    "X = df.drop(columns=['Class'])\n",
    "y = df['Class']\n",
    "\n",
    "# 2. Escalar características (es importante para redes neuronales)\n",
    "scaler = StandardScaler()\n",
    "X_scaled = scaler.fit_transform(X)\n",
    "\n",
    "# 3. Dividir en entrenamiento y prueba (antes de aplicar SMOTE)\n",
    "X_train, X_test, y_train, y_test = train_test_split(X_scaled, y, test_size=0.2, random_state=42, stratify=y)\n",
    "\n",
    "# 4. Aplicar SMOTE\n",
    "smote = SMOTE(random_state=42)\n",
    "X_train_bal, y_train_bal = smote.fit_resample(X_train, y_train)\n",
    "\n",
    "# Confirmar nuevo balance\n",
    "import numpy as np\n",
    "unique, counts = np.unique(y_train_bal, return_counts=True)\n",
    "print(dict(zip(unique, counts)))\n"
   ]
  },
  {
   "cell_type": "code",
   "execution_count": 6,
   "id": "6d9986bb",
   "metadata": {},
   "outputs": [
    {
     "name": "stdout",
     "output_type": "stream",
     "text": [
      "Epoch 1/10\n",
      "178/178 - 2s - loss: 0.1313 - accuracy: 0.9502 - auc: 0.9883 - val_loss: 0.0823 - val_accuracy: 0.9621 - val_auc: 0.0000e+00 - 2s/epoch - 9ms/step\n",
      "Epoch 2/10\n",
      "178/178 - 1s - loss: 0.0373 - accuracy: 0.9874 - auc: 0.9992 - val_loss: 0.0356 - val_accuracy: 0.9874 - val_auc: 0.0000e+00 - 845ms/epoch - 5ms/step\n",
      "Epoch 3/10\n",
      "178/178 - 1s - loss: 0.0191 - accuracy: 0.9949 - auc: 0.9997 - val_loss: 0.0164 - val_accuracy: 0.9994 - val_auc: 0.0000e+00 - 831ms/epoch - 5ms/step\n",
      "Epoch 4/10\n",
      "178/178 - 1s - loss: 0.0114 - accuracy: 0.9978 - auc: 0.9998 - val_loss: 0.0095 - val_accuracy: 0.9998 - val_auc: 0.0000e+00 - 842ms/epoch - 5ms/step\n",
      "Epoch 5/10\n",
      "178/178 - 1s - loss: 0.0077 - accuracy: 0.9985 - auc: 0.9999 - val_loss: 0.0071 - val_accuracy: 1.0000 - val_auc: 0.0000e+00 - 828ms/epoch - 5ms/step\n",
      "Epoch 6/10\n",
      "178/178 - 1s - loss: 0.0059 - accuracy: 0.9989 - auc: 0.9999 - val_loss: 0.0035 - val_accuracy: 1.0000 - val_auc: 0.0000e+00 - 1s/epoch - 6ms/step\n",
      "Epoch 7/10\n",
      "178/178 - 1s - loss: 0.0046 - accuracy: 0.9991 - auc: 0.9999 - val_loss: 0.0056 - val_accuracy: 1.0000 - val_auc: 0.0000e+00 - 913ms/epoch - 5ms/step\n",
      "Epoch 8/10\n",
      "178/178 - 1s - loss: 0.0037 - accuracy: 0.9993 - auc: 0.9999 - val_loss: 0.0028 - val_accuracy: 1.0000 - val_auc: 0.0000e+00 - 812ms/epoch - 5ms/step\n",
      "Epoch 9/10\n",
      "178/178 - 1s - loss: 0.0031 - accuracy: 0.9995 - auc: 0.9999 - val_loss: 0.0018 - val_accuracy: 1.0000 - val_auc: 0.0000e+00 - 865ms/epoch - 5ms/step\n",
      "Epoch 10/10\n",
      "178/178 - 1s - loss: 0.0030 - accuracy: 0.9995 - auc: 0.9999 - val_loss: 0.0020 - val_accuracy: 1.0000 - val_auc: 0.0000e+00 - 898ms/epoch - 5ms/step\n"
     ]
    }
   ],
   "source": [
    "import tensorflow as tf\n",
    "from tensorflow.keras import layers, models\n",
    "\n",
    "# 1. Construcción del modelo\n",
    "model = models.Sequential([\n",
    "    layers.Dense(64, activation='relu', input_shape=(X_train_bal.shape[1],)),\n",
    "    layers.Dense(64, activation='relu'),\n",
    "    layers.Dense(1, activation='sigmoid')  # salida binaria\n",
    "])\n",
    "\n",
    "# 2. Compilar el modelo\n",
    "model.compile(optimizer='adam',\n",
    "              loss='binary_crossentropy',\n",
    "              metrics=['accuracy', tf.keras.metrics.AUC(name='auc')])\n",
    "\n",
    "# 3. Entrenar el modelo en GPU\n",
    "with tf.device('/GPU:0'):\n",
    "    history = model.fit(X_train_bal, y_train_bal, \n",
    "                        epochs=10, \n",
    "                        batch_size=2048,\n",
    "                        validation_split=0.2,\n",
    "                        verbose=2)\n"
   ]
  },
  {
   "cell_type": "code",
   "execution_count": 7,
   "id": "55d467a7",
   "metadata": {},
   "outputs": [
    {
     "name": "stdout",
     "output_type": "stream",
     "text": [
      "Test Accuracy: 0.9987\n",
      "Test AUC: 0.9377\n"
     ]
    }
   ],
   "source": [
    "results = model.evaluate(X_test, y_test, verbose=0)\n",
    "print(f\"Test Accuracy: {results[1]:.4f}\")\n",
    "print(f\"Test AUC: {results[2]:.4f}\")\n"
   ]
  },
  {
   "cell_type": "markdown",
   "id": "d74e5ac3",
   "metadata": {},
   "source": [
    "99.86% de accuracy suena genial, pero en contextos de fraude puede ser engañoso si el dataset está desbalanceado. En tu caso, ya balanceaste los datos para entrenar, pero estás evaluando contra datos reales no balanceados, lo cual es correcto. 👍\n",
    "\n",
    "AUC de 0.93 indica que el modelo distingue muy bien entre clases. Es una excelente señal porque:\n",
    "\n",
    "Un modelo aleatorio tendría un AUC de ~0.5.\n",
    "\n",
    "Un buen modelo debería estar por encima de 0.8.\n",
    "\n",
    "Tú tienes 0.9376, ¡muy buen trabajo! 🎯"
   ]
  },
  {
   "cell_type": "code",
   "execution_count": 8,
   "id": "633dc226",
   "metadata": {},
   "outputs": [
    {
     "data": {
      "image/png": "[encoded data removed]",
      "text/plain": [
       "<Figure size 640x480 with 1 Axes>"
      ]
     },
     "metadata": {},
     "output_type": "display_data"
    },
    {
     "data": {
      "image/png": "[encoded data removed]",
      "text/plain": [
       "<Figure size 640x480 with 1 Axes>"
      ]
     },
     "metadata": {},
     "output_type": "display_data"
    }
   ],
   "source": [
    "import matplotlib.pyplot as plt\n",
    "\n",
    "# Pérdida\n",
    "plt.plot(history.history['loss'], label='Train Loss')\n",
    "plt.plot(history.history['val_loss'], label='Val Loss')\n",
    "plt.title('Pérdida')\n",
    "plt.xlabel('Época')\n",
    "plt.ylabel('Loss')\n",
    "plt.legend()\n",
    "plt.grid(True)\n",
    "plt.show()\n",
    "\n",
    "# AUC\n",
    "plt.plot(history.history['auc'], label='Train AUC')\n",
    "plt.plot(history.history['val_auc'], label='Val AUC')\n",
    "plt.title('Área bajo la curva (AUC)')\n",
    "plt.xlabel('Época')\n",
    "plt.ylabel('AUC')\n",
    "plt.legend()\n",
    "plt.grid(True)\n",
    "plt.show()\n"
   ]
  },
  {
   "cell_type": "markdown",
   "id": "3d96f958",
   "metadata": {},
   "source": [
    "1. AUC (Área bajo la curva ROC)\n",
    "Gráfica superior (AUC):\n",
    "\n",
    "La línea azul (Train AUC) se mantiene cercana a 1.0, lo cual indica que el modelo aprende muy bien sobre los datos de entrenamiento.\n",
    "\n",
    "Sin embargo, la línea naranja (Val AUC) se mantiene en 0.0, lo que sugiere que el modelo no está generalizando nada bien sobre los datos de validación.\n",
    "\n",
    "Este comportamiento es un claro signo de sobreajuste (overfitting): el modelo memorizó los datos de entrenamiento, pero no puede detectar patrones en datos nuevos."
   ]
  },
  {
   "cell_type": "markdown",
   "id": "b2a2e76c",
   "metadata": {},
   "source": [
    "2. Loss (Pérdida)\n",
    "Gráfica inferior (Loss):\n",
    "\n",
    "Tanto la pérdida de entrenamiento como la de validación disminuyen constantemente, lo cual en sí mismo es bueno.\n",
    "\n",
    "Sin embargo, el hecho de que el AUC de validación sea 0 indica que, aunque la pérdida baja, el modelo no está clasificando correctamente las transacciones fraudulentas."
   ]
  },
  {
   "cell_type": "code",
   "execution_count": 9,
   "id": "69afafef",
   "metadata": {},
   "outputs": [],
   "source": [
    "model.save(\"modelo_fraude.h5\")\n"
   ]
  },
  {
   "cell_type": "markdown",
   "id": "61ada149",
   "metadata": {},
   "source": [
    "✅ Conclusión del proyecto: Detección de fraude en tarjetas de crédito\n",
    "En este proyecto se entrenó un modelo de red neuronal utilizando TensorFlow para detectar fraudes en transacciones bancarias. Los datos utilizados presentaban un fuerte desbalance de clases, donde las transacciones fraudulentas representaban una proporción muy pequeña del total. Aunque el modelo logró una baja pérdida durante el entrenamiento, falló completamente al generalizar en los datos de validación, tal como lo evidencia un AUC de validación de 0.0.\n",
    "\n",
    "Principales conclusiones:\n",
    "\n",
    "✅ El modelo aprendió los datos de entrenamiento (Train Loss y Train AUC adecuados).\n",
    "\n",
    "⚠️ No generaliza a datos nuevos (Val AUC = 0.0), por lo tanto no es útil para producción.\n",
    "\n",
    "⚠️ El principal problema es el desbalance de clases: la red se entrena con muchos más ejemplos de transacciones legítimas y termina clasificándolo todo como “no fraude”."
   ]
  },
  {
   "cell_type": "code",
   "execution_count": 10,
   "id": "9c36c2f2",
   "metadata": {},
   "outputs": [],
   "source": [
    "import pandas as pd\n",
    "import numpy as np\n",
    "from sklearn.model_selection import train_test_split\n",
    "from sklearn.preprocessing import StandardScaler\n",
    "\n",
    "# Cargar el dataset original\n",
    "df = pd.read_csv(\"creditcard.csv\")\n",
    "\n",
    "# Balancear las clases (undersampling)\n",
    "fraudes = df[df['Class'] == 1]\n",
    "no_fraudes = df[df['Class'] == 0].sample(n=len(fraudes), random_state=42)\n",
    "\n",
    "df_balanceado = pd.concat([fraudes, no_fraudes], axis=0).sample(frac=1, random_state=42).reset_index(drop=True)\n",
    "\n",
    "# Separar características y etiquetas\n",
    "X = df_balanceado.drop('Class', axis=1)\n",
    "y = df_balanceado['Class']\n",
    "\n",
    "# Escalar (normalizar)\n",
    "scaler = StandardScaler()\n",
    "X_scaled = scaler.fit_transform(X)\n",
    "\n",
    "# Separar en entrenamiento y validación\n",
    "X_train, X_val, y_train, y_val = train_test_split(X_scaled, y, test_size=0.2, random_state=42, stratify=y)\n"
   ]
  },
  {
   "cell_type": "code",
   "execution_count": 11,
   "id": "12296b2c",
   "metadata": {},
   "outputs": [
    {
     "name": "stdout",
     "output_type": "stream",
     "text": [
      "Epoch 1/20\n",
      "13/13 [==============================] - 1s 18ms/step - loss: 0.5759 - auc: 0.7937 - val_loss: 0.4373 - val_auc: 0.9316\n",
      "Epoch 2/20\n",
      "13/13 [==============================] - 0s 8ms/step - loss: 0.3943 - auc: 0.9312 - val_loss: 0.3375 - val_auc: 0.9575\n",
      "Epoch 3/20\n",
      "13/13 [==============================] - 0s 7ms/step - loss: 0.3092 - auc: 0.9470 - val_loss: 0.2909 - val_auc: 0.9639\n",
      "Epoch 4/20\n",
      "13/13 [==============================] - 0s 7ms/step - loss: 0.2842 - auc: 0.9427 - val_loss: 0.2626 - val_auc: 0.9703\n",
      "Epoch 5/20\n",
      "13/13 [==============================] - 0s 7ms/step - loss: 0.2561 - auc: 0.9487 - val_loss: 0.2416 - val_auc: 0.9771\n",
      "Epoch 6/20\n",
      "13/13 [==============================] - 0s 7ms/step - loss: 0.2235 - auc: 0.9664 - val_loss: 0.2266 - val_auc: 0.9785\n",
      "Epoch 7/20\n",
      "13/13 [==============================] - 0s 7ms/step - loss: 0.2086 - auc: 0.9656 - val_loss: 0.2182 - val_auc: 0.9788\n",
      "Epoch 8/20\n",
      "13/13 [==============================] - 0s 7ms/step - loss: 0.2043 - auc: 0.9672 - val_loss: 0.2131 - val_auc: 0.9783\n",
      "Epoch 9/20\n",
      "13/13 [==============================] - 0s 7ms/step - loss: 0.1840 - auc: 0.9743 - val_loss: 0.2092 - val_auc: 0.9766\n",
      "Epoch 10/20\n",
      "13/13 [==============================] - 0s 7ms/step - loss: 0.1692 - auc: 0.9779 - val_loss: 0.2057 - val_auc: 0.9766\n",
      "Epoch 11/20\n",
      "13/13 [==============================] - 0s 7ms/step - loss: 0.1783 - auc: 0.9747 - val_loss: 0.2001 - val_auc: 0.9774\n",
      "Epoch 12/20\n",
      "13/13 [==============================] - 0s 8ms/step - loss: 0.1534 - auc: 0.9816 - val_loss: 0.1983 - val_auc: 0.9785\n",
      "Epoch 13/20\n",
      "13/13 [==============================] - 0s 7ms/step - loss: 0.1733 - auc: 0.9742 - val_loss: 0.1977 - val_auc: 0.9790\n",
      "Epoch 14/20\n",
      "13/13 [==============================] - 0s 7ms/step - loss: 0.1473 - auc: 0.9832 - val_loss: 0.1967 - val_auc: 0.9749\n",
      "Epoch 15/20\n",
      "13/13 [==============================] - 0s 7ms/step - loss: 0.1556 - auc: 0.9780 - val_loss: 0.1969 - val_auc: 0.9747\n",
      "Epoch 16/20\n",
      "13/13 [==============================] - 0s 7ms/step - loss: 0.1557 - auc: 0.9804 - val_loss: 0.1959 - val_auc: 0.9753\n",
      "Epoch 17/20\n",
      "13/13 [==============================] - 0s 8ms/step - loss: 0.1421 - auc: 0.9855 - val_loss: 0.1972 - val_auc: 0.9746\n",
      "Epoch 18/20\n",
      "13/13 [==============================] - 0s 7ms/step - loss: 0.1271 - auc: 0.9858 - val_loss: 0.1990 - val_auc: 0.9744\n",
      "Epoch 19/20\n",
      "13/13 [==============================] - 0s 8ms/step - loss: 0.1363 - auc: 0.9826 - val_loss: 0.1959 - val_auc: 0.9759\n",
      "Epoch 20/20\n",
      "13/13 [==============================] - 0s 7ms/step - loss: 0.1246 - auc: 0.9880 - val_loss: 0.1971 - val_auc: 0.9760\n"
     ]
    }
   ],
   "source": [
    "import tensorflow as tf\n",
    "from tensorflow.keras import layers, models\n",
    "from tensorflow.keras.callbacks import EarlyStopping\n",
    "\n",
    "# Definir el modelo\n",
    "model = models.Sequential([\n",
    "    layers.Dense(64, activation='relu', input_shape=(X_train.shape[1],)),\n",
    "    layers.Dropout(0.3),\n",
    "    layers.Dense(64, activation='relu'),\n",
    "    layers.Dropout(0.3),\n",
    "    layers.Dense(1, activation='sigmoid')\n",
    "])\n",
    "\n",
    "# Compilar el modelo\n",
    "model.compile(optimizer='adam',\n",
    "              loss='binary_crossentropy',\n",
    "              metrics=[tf.keras.metrics.AUC(name='auc')])\n",
    "\n",
    "# Entrenar\n",
    "history = model.fit(\n",
    "    X_train, y_train,\n",
    "    validation_data=(X_val, y_val),\n",
    "    epochs=20,\n",
    "    batch_size=64,\n",
    "    callbacks=[EarlyStopping(patience=3, restore_best_weights=True)],\n",
    "    verbose=1\n",
    ")\n"
   ]
  },
  {
   "cell_type": "code",
   "execution_count": 12,
   "id": "aec6a82a",
   "metadata": {},
   "outputs": [
    {
     "data": {
      "image/png": "[encoded data removed]",
      "text/plain": [
       "<Figure size 600x500 with 1 Axes>"
      ]
     },
     "metadata": {},
     "output_type": "display_data"
    },
    {
     "data": {
      "image/png": "[encoded data removed]",
      "text/plain": [
       "<Figure size 600x500 with 1 Axes>"
      ]
     },
     "metadata": {},
     "output_type": "display_data"
    }
   ],
   "source": [
    "import matplotlib.pyplot as plt\n",
    "\n",
    "# AUC\n",
    "plt.figure(figsize=(6, 5))\n",
    "plt.plot(history.history['auc'], label='Train AUC')\n",
    "plt.plot(history.history['val_auc'], label='Val AUC')\n",
    "plt.title('Área bajo la curva (AUC)')\n",
    "plt.xlabel('Época')\n",
    "plt.ylabel('AUC')\n",
    "plt.legend()\n",
    "plt.grid(True)\n",
    "plt.show()\n",
    "\n",
    "# Pérdida (Loss)\n",
    "plt.figure(figsize=(6, 5))\n",
    "plt.plot(history.history['loss'], label='Train Loss')\n",
    "plt.plot(history.history['val_loss'], label='Val Loss')\n",
    "plt.title('Pérdida')\n",
    "plt.xlabel('Época')\n",
    "plt.ylabel('Loss')\n",
    "plt.legend()\n",
    "plt.grid(True)\n",
    "plt.show()\n"
   ]
  },
  {
   "cell_type": "code",
   "execution_count": 13,
   "id": "bb1184c4",
   "metadata": {},
   "outputs": [
    {
     "name": "stdout",
     "output_type": "stream",
     "text": [
      "Test Loss: 0.1971\n",
      "Test AUC: 0.9760\n"
     ]
    }
   ],
   "source": [
    "results = model.evaluate(X_val, y_val, verbose=0)\n",
    "print(f\"Test Loss: {results[0]:.4f}\")\n",
    "print(f\"Test AUC: {results[1]:.4f}\")\n"
   ]
  },
  {
   "cell_type": "markdown",
   "id": "87d399c6",
   "metadata": {},
   "source": [
    "1. AUC (Área bajo la curva ROC)\n",
    "Entrenamiento (Train AUC) y Validación (Val AUC) muestran valores altos y cercanos a 1.0, lo que indica que el modelo tiene un alto poder de discriminación entre transacciones fraudulentas y no fraudulentas.\n",
    "\n",
    "Ambos AUC aumentan progresivamente durante las épocas, y se estabilizan al final, lo cual es positivo.\n",
    "\n",
    "No hay indicios de sobreajuste (overfitting) ya que ambas curvas se mantienen próximas.\n",
    "\n",
    "Excelente. Un AUC de 0.98 significa que el modelo distingue muy bien entre fraudes y transacciones legítimas.\n",
    "\n",
    "2. Pérdida (Loss)\n",
    "La pérdida disminuye de forma constante tanto en entrenamiento como en validación.\n",
    "\n",
    "La pérdida de validación se estabiliza alrededor de la época 13–15, y no sube después, lo que confirma una buena capacidad de generalización del modelo.\n",
    "\n",
    "Cuanto más cerca a 0, mejor (indica buen ajuste del modelo al conjunto de validación)."
   ]
  },
  {
   "cell_type": "markdown",
   "id": "19e3777b",
   "metadata": {},
   "source": [
    " Conclusión del proyecto\n",
    "El modelo desarrollado para la detección de fraude en transacciones bancarias muestra un desempeño robusto, con una alta capacidad de discriminación (AUC > 0.95) y una pérdida en validación que disminuye de forma estable. Esto indica que el modelo está aprendiendo correctamente sin sobreajustarse. Por tanto, puede ser utilizado como una herramienta eficiente para identificar comportamientos anómalos en transacciones bancarias."
   ]
  },
  {
   "cell_type": "code",
   "execution_count": 14,
   "id": "35c6f95f",
   "metadata": {},
   "outputs": [
    {
     "name": "stdout",
     "output_type": "stream",
     "text": [
      "7/7 [==============================] - 0s 2ms/step\n"
     ]
    },
    {
     "data": {
      "image/png": "[encoded data removed]",
      "text/plain": [
       "<Figure size 800x600 with 1 Axes>"
      ]
     },
     "metadata": {},
     "output_type": "display_data"
    }
   ],
   "source": [
    "from sklearn.metrics import roc_curve, auc\n",
    "import matplotlib.pyplot as plt\n",
    "\n",
    "# Paso 1: Obtener predicciones de probabilidad\n",
    "y_pred_proba = model.predict(X_val).ravel()  # .ravel() para convertir a 1D\n",
    "\n",
    "# Paso 2: Calcular valores fpr, tpr y umbrales\n",
    "fpr, tpr, thresholds = roc_curve(y_val, y_pred_proba)\n",
    "\n",
    "# Paso 3: Calcular AUC\n",
    "roc_auc = auc(fpr, tpr)\n",
    "\n",
    "# Paso 4: Graficar\n",
    "plt.figure(figsize=(8,6))\n",
    "plt.plot(fpr, tpr, color='blue', lw=2, label=f'ROC curve (AUC = {roc_auc:.4f})')\n",
    "plt.plot([0, 1], [0, 1], color='gray', linestyle='--')  # línea base\n",
    "plt.xlim([0.0, 1.0])\n",
    "plt.ylim([0.0, 1.05])\n",
    "plt.xlabel('False Positive Rate (FPR)')\n",
    "plt.ylabel('True Positive Rate (TPR)')\n",
    "plt.title('Curva ROC – Detección de Fraude')\n",
    "plt.legend(loc='lower right')\n",
    "plt.grid(True)\n",
    "plt.tight_layout()\n",
    "plt.show()\n"
   ]
  },
  {
   "cell_type": "markdown",
   "id": "3b835671",
   "metadata": {},
   "source": [
    "La curva ROC muestra la capacidad del modelo para separar ambas clases en distintos umbrales de probabilidad. El área bajo la curva (AUC = 0.9789) indica una excelente capacidad discriminativa.\n",
    "\n",
    "Un modelo sin poder predictivo tendría AUC ≈ 0.5 (diagonal).\n",
    "\n",
    "Nuestro modelo está muy por encima, con FPR bajos y TPR altos en casi todos los umbrales."
   ]
  },
  {
   "cell_type": "code",
   "execution_count": 15,
   "id": "61939b81",
   "metadata": {},
   "outputs": [
    {
     "name": "stdout",
     "output_type": "stream",
     "text": [
      "7/7 [==============================] - 0s 1ms/step\n"
     ]
    },
    {
     "data": {
      "image/png": "[encoded data removed]",
      "text/plain": [
       "<Figure size 800x600 with 1 Axes>"
      ]
     },
     "metadata": {},
     "output_type": "display_data"
    }
   ],
   "source": [
    "from sklearn.metrics import precision_recall_curve, average_precision_score\n",
    "import matplotlib.pyplot as plt\n",
    "\n",
    "# 1. Obtener probabilidades predichas\n",
    "y_pred_proba = model.predict(X_val).ravel()\n",
    "\n",
    "# 2. Calcular precision, recall, thresholds\n",
    "precision, recall, thresholds = precision_recall_curve(y_val, y_pred_proba)\n",
    "\n",
    "# 3. Calcular average precision score\n",
    "avg_precision = average_precision_score(y_val, y_pred_proba)\n",
    "\n",
    "# 4. Graficar\n",
    "plt.figure(figsize=(8, 6))\n",
    "plt.plot(recall, precision, label=f'PR Curve (AP = {avg_precision:.4f})', color='green', lw=2)\n",
    "plt.xlabel('Recall')\n",
    "plt.ylabel('Precision')\n",
    "plt.title('Precision–Recall Curve – Detección de Fraude')\n",
    "plt.grid(True)\n",
    "plt.legend()\n",
    "plt.tight_layout()\n",
    "plt.show()\n"
   ]
  },
  {
   "cell_type": "markdown",
   "id": "9e0a9e91",
   "metadata": {},
   "source": [
    "Tu modelo tiene un Average Precision (AP) de 0.9811, lo cual es excelente en un escenario de clasificación de fraudes, especialmente considerando el fuerte desbalance de clases."
   ]
  },
  {
   "cell_type": "code",
   "execution_count": 16,
   "id": "cc99379d",
   "metadata": {},
   "outputs": [
    {
     "name": "stdout",
     "output_type": "stream",
     "text": [
      "Mejor Threshold: 0.4928\n",
      "F1 Score óptimo: 0.9430\n"
     ]
    }
   ],
   "source": [
    "from sklearn.metrics import f1_score\n",
    "import numpy as np\n",
    "\n",
    "# Calcular F1 para cada umbral\n",
    "f1_scores = []\n",
    "for thresh in thresholds:\n",
    "    y_pred_bin = (y_pred_proba >= thresh).astype(int)\n",
    "    f1 = f1_score(y_val, y_pred_bin)\n",
    "    f1_scores.append(f1)\n",
    "\n",
    "# Umbral con mayor F1\n",
    "best_index = np.argmax(f1_scores)\n",
    "best_thresh = thresholds[best_index]\n",
    "best_f1 = f1_scores[best_index]\n",
    "\n",
    "print(f\"Mejor Threshold: {best_thresh:.4f}\")\n",
    "print(f\"F1 Score óptimo: {best_f1:.4f}\")\n"
   ]
  },
  {
   "cell_type": "markdown",
   "id": "b872b68d",
   "metadata": {},
   "source": [
    "Con un threshold ajustado de 0.4928, has logrado un F1-score óptimo de 0.9430, lo cual indica un balance sólido entre precisión y recall, algo especialmente valioso en detección de fraudes.\n",
    "\n",
    "F1-score = 0.9430 implica que el modelo detecta la mayoría de los fraudes (buen recall) sin etiquetar muchas transacciones legítimas como fraudes (buena precisión).\n",
    "\n",
    "El threshold por defecto (0.5) a veces no es óptimo, especialmente en problemas desbalanceados. Ajustarlo te permite priorizar lo que más importa (en este caso, el recall).\n",
    "\n",
    "Un threshold de 0.4928 significa que si la probabilidad predicha es ≥ 0.4928, el modelo marcará la transacción como fraude."
   ]
  },
  {
   "cell_type": "code",
   "execution_count": 17,
   "id": "0bf82462",
   "metadata": {},
   "outputs": [
    {
     "name": "stdout",
     "output_type": "stream",
     "text": [
      "              precision    recall  f1-score   support\n",
      "\n",
      "           0     0.9314    0.9596    0.9453        99\n",
      "           1     0.9579    0.9286    0.9430        98\n",
      "\n",
      "    accuracy                         0.9442       197\n",
      "   macro avg     0.9446    0.9441    0.9441       197\n",
      "weighted avg     0.9446    0.9442    0.9441       197\n",
      "\n"
     ]
    }
   ],
   "source": [
    "from sklearn.metrics import classification_report\n",
    "\n",
    "# Aplicamos el mejor threshold\n",
    "y_pred_final = (y_pred_proba >= best_thresh).astype(int)\n",
    "\n",
    "# Informe completo\n",
    "print(classification_report(y_val, y_pred_final, digits=4))\n"
   ]
  },
  {
   "cell_type": "markdown",
   "id": "9db7c223",
   "metadata": {},
   "source": [
    "El modelo generaliza bien, incluso en un conjunto desbalanceado. Ajustar el threshold y evaluar usando F1-score y AUC permite asegurar un rendimiento más útil en contextos reales, donde los falsos positivos y negativos tienen costos distintos."
   ]
  },
  {
   "cell_type": "markdown",
   "id": "11ac5a1c",
   "metadata": {},
   "source": [
    "🧠 Entonces…\n",
    "Gráfica\t¿Cuándo se usa?\t¿Para qué sirve?\n",
    "AUC por época\tDurante el entrenamiento\tVer si el modelo aprende y cuándo parar\n",
    "Loss por época\tDurante el entrenamiento\tVer si hay sobreajuste o no\n",
    "ROC Curve\tDespués del entrenamiento\tMedir calidad de discriminación\n",
    "Precision-Recall\tDespués del entrenamiento\tEvaluar rendimiento cuando hay desbalance"
   ]
  }
 ],
 "metadata": {
  "kernelspec": {
   "display_name": "Python (fraud)",
   "language": "python",
   "name": "venv"
  },
  "language_info": {
   "codemirror_mode": {
    "name": "ipython",
    "version": 3
   },
   "file_extension": ".py",
   "mimetype": "text/x-python",
   "name": "python",
   "nbconvert_exporter": "python",
   "pygments_lexer": "ipython3",
   "version": "3.9.0"
  }
 },
 "nbformat": 4,
 "nbformat_minor": 5
}
