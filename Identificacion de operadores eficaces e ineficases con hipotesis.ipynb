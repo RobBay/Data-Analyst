{
 "cells": [
  {
   "cell_type": "markdown",
   "metadata": {},
   "source": [
    "# Análisis del impacto del diseño en la conversión y experiencia del usuario"
   ]
  },
  {
   "cell_type": "markdown",
   "metadata": {},
   "source": [
    "Evaluar cómo los cambios de diseño afectan el flujo de conversión y validar que las nuevas fuentes mantengan o mejoren la experiencia del usuario mediante análisis estadístico."
   ]
  },
  {
   "cell_type": "markdown",
   "metadata": {},
   "source": [
    "# ANALISIS DE LLAMADAS PERDIDAS EN CallMeMaybe"
   ]
  },
  {
   "cell_type": "markdown",
   "metadata": {},
   "source": [
    "## OBJETIVO\n",
    "\n",
    "Identificar las eficacia de los operadores en la compañia asi como derterminar cuales son aquellos que son ineficaces, permiteindo entender la mejorar que requiere el equipo de operadores"
   ]
  },
  {
   "cell_type": "markdown",
   "metadata": {},
   "source": [
    "<div class=\"alert alert-block alert-info\">\n",
    "<b>Respuesta del estudiante</b> <a class=“tocSkip”></a>\n",
    "Comparto link del PDF de la presentación y de Tableau Calud asociado al DASH:\n",
    "</div>\n",
    "\n",
    "- LINK PDF\n",
    "https://drive.google.com/drive/folders/1-tmVV0ij3SA7v99MdFn4OmgnWpEwPt47?dmr=1&ec=wgc-drive-globalnav-goto\n",
    "- LINK TABLAU_CLOUD https://public.tableau.com/app/profile/daniel.leonardo.robelto.bayona/viz/Duraciondellamadapordireccion/Duraciondellamadapordireccion?publish=yes"
   ]
  },
  {
   "cell_type": "markdown",
   "metadata": {},
   "source": [
    "<div class=\"alert alert-block alert-success\">\n",
    "<b>Comentario del revisor</b> <a class=\"tocSkip\"></a><br>\n",
    "\n",
    "<b>Éxito</b> - El dashboard presenta una visualización clara y organizada sobre la duración de las llamadas y su clasificación entre internas y externas. La barra superior facilita identificar la distribución de la duración de llamadas, mientras que el gráfico circular muestra una proporción clara de llamadas internas y externas. Los gráficos están bien diseñados y resultan útiles para un análisis rápido. ¡Buen trabajo en estructurar la información de manera comprensible!\n",
    "\n",
    "</div>"
   ]
  },
  {
   "cell_type": "markdown",
   "metadata": {},
   "source": [
    "## Librerias  y datos a usar "
   ]
  },
  {
   "cell_type": "code",
   "execution_count": 1,
   "metadata": {},
   "outputs": [],
   "source": [
    "import pandas as pd\n",
    "import numpy as np\n",
    "import matplotlib.pyplot as plt\n",
    "from scipy.stats import levene, ttest_ind"
   ]
  },
  {
   "cell_type": "code",
   "execution_count": 2,
   "metadata": {},
   "outputs": [
    {
     "name": "stdout",
     "output_type": "stream",
     "text": [
      "4900\n",
      "0\n",
      "user_id                   0\n",
      "date                      0\n",
      "direction                 0\n",
      "internal                117\n",
      "operator_id            8172\n",
      "is_missed_call            0\n",
      "calls_count               0\n",
      "call_duration             0\n",
      "total_call_duration       0\n",
      "dtype: int64\n",
      "user_id        0\n",
      "tariff_plan    0\n",
      "date_start     0\n",
      "dtype: int64\n",
      "<class 'pandas.core.frame.DataFrame'>\n",
      "RangeIndex: 53902 entries, 0 to 53901\n",
      "Data columns (total 9 columns):\n",
      " #   Column               Non-Null Count  Dtype                                \n",
      "---  ------               --------------  -----                                \n",
      " 0   user_id              53902 non-null  int64                                \n",
      " 1   date                 53902 non-null  datetime64[ns, pytz.FixedOffset(180)]\n",
      " 2   direction            53902 non-null  object                               \n",
      " 3   internal             53785 non-null  object                               \n",
      " 4   operator_id          45730 non-null  float64                              \n",
      " 5   is_missed_call       53902 non-null  bool                                 \n",
      " 6   calls_count          53902 non-null  int64                                \n",
      " 7   call_duration        53902 non-null  int64                                \n",
      " 8   total_call_duration  53902 non-null  int64                                \n",
      "dtypes: bool(1), datetime64[ns, pytz.FixedOffset(180)](1), float64(1), int64(4), object(2)\n",
      "memory usage: 3.3+ MB\n",
      "None\n",
      "<class 'pandas.core.frame.DataFrame'>\n",
      "RangeIndex: 732 entries, 0 to 731\n",
      "Data columns (total 3 columns):\n",
      " #   Column       Non-Null Count  Dtype         \n",
      "---  ------       --------------  -----         \n",
      " 0   user_id      732 non-null    int64         \n",
      " 1   tariff_plan  732 non-null    object        \n",
      " 2   date_start   732 non-null    datetime64[ns]\n",
      "dtypes: datetime64[ns](1), int64(1), object(1)\n",
      "memory usage: 17.3+ KB\n",
      "None\n"
     ]
    }
   ],
   "source": [
    "# Cargar datasets\n",
    "telecom_data = pd.read_csv('/datasets/telecom_dataset_us.csv')\n",
    "clients_data = pd.read_csv('/datasets/telecom_clients_us.csv')\n",
    "\n",
    "# Identifcar duplicados\n",
    "print(telecom_data.duplicated().sum())\n",
    "print(clients_data.duplicated().sum())\n",
    "\n",
    "# Revisar valores nulos y tipos de datos\n",
    "print(telecom_data.isnull().sum())\n",
    "print(clients_data.isnull().sum())\n",
    "\n",
    "# Conversión de tipos de datos\n",
    "telecom_data['date'] = pd.to_datetime(telecom_data['date'])\n",
    "clients_data['date_start'] = pd.to_datetime(clients_data['date_start'])\n",
    "\n",
    "\n",
    "\n",
    "# Vista preliminar\n",
    "print(telecom_data.info())\n",
    "print(clients_data.info())\n"
   ]
  },
  {
   "cell_type": "code",
   "execution_count": 3,
   "metadata": {},
   "outputs": [],
   "source": [
    "#print(telecom_data[(telecom_data['operator_id'] == 879898.0)])\n",
    "# Dividir los grupos con base en la eficiencia\n",
    "telecom_data = telecom_data[telecom_data['operator_id'] != -1]"
   ]
  },
  {
   "cell_type": "markdown",
   "metadata": {},
   "source": [
    "### MANEJO DE DUPLICADOS Y NULOS"
   ]
  },
  {
   "cell_type": "code",
   "execution_count": 4,
   "metadata": {},
   "outputs": [
    {
     "name": "stdout",
     "output_type": "stream",
     "text": [
      "Porcentaje de valores nulos en 'operator_id': 15.16%\n",
      "False    7760\n",
      "True      355\n",
      "Name: internal, dtype: int64\n",
      "0\n"
     ]
    }
   ],
   "source": [
    "#Eliminacion de duplciados.\n",
    "telecom_data_cleaned = telecom_data.drop_duplicates()\n",
    "clients_data_cleaned = clients_data.drop_duplicates()\n",
    "\n",
    "# Ver proporción de nulos en operator_id\n",
    "null_percentage = telecom_data['operator_id'].isnull().mean() * 100\n",
    "print(f\"Porcentaje de valores nulos en 'operator_id': {null_percentage:.2f}%\")\n",
    "\n",
    "# Verificar relación entre operator_id nulo y otras columnas\n",
    "print(telecom_data[telecom_data['operator_id'].isnull()]['internal'].value_counts())\n",
    "\n",
    "# Imputar valores nulos con un valor genérico\n",
    "telecom_data['operator_id'].fillna(-1, inplace=True)  # Usar -1 para representar \"Desconocido\"\n",
    "\n",
    "\n",
    "# O eliminar registros con nulos\n",
    "#telecom_data = telecom_data.dropna(subset=['operator_id'])\n",
    "\n",
    "# Confirmar cambios\n",
    "print(telecom_data['operator_id'].isnull().sum())\n",
    "\n"
   ]
  },
  {
   "cell_type": "markdown",
   "metadata": {},
   "source": [
    "<div class=\"alert alert-block alert-success\">\n",
    "\n",
    "<b>Comentario del revisor</b> <a class=\"tocSkip\"></a><br>\n",
    "\n",
    "<b>Éxito</b> - La imputación de valores nulos con un valor genérico (-1) está bien justificada para este caso, dado que el análisis requiere conservar todos los registros. Además, la evaluación de la relación entre `operator_id` y otras columnas demuestra un pensamiento crítico. ¡Excelente!\n",
    "\n",
    "</div>"
   ]
  },
  {
   "cell_type": "markdown",
   "metadata": {},
   "source": [
    "##  Análisis Exploratorio de Datos (EDA)"
   ]
  },
  {
   "cell_type": "markdown",
   "metadata": {},
   "source": [
    "### Porcentaje de llamadas perdidas por operador"
   ]
  },
  {
   "cell_type": "code",
   "execution_count": 5,
   "metadata": {},
   "outputs": [
    {
     "name": "stdout",
     "output_type": "stream",
     "text": [
      "operator_id\n",
      "937710.0    100.0\n",
      "936296.0    100.0\n",
      "919418.0    100.0\n",
      "924572.0    100.0\n",
      "928282.0    100.0\n",
      "            ...  \n",
      "969600.0      NaN\n",
      "971100.0      NaN\n",
      "971102.0      NaN\n",
      "971354.0      NaN\n",
      "973286.0      NaN\n",
      "Name: calls_count, Length: 1093, dtype: float64\n"
     ]
    }
   ],
   "source": [
    "# Filtrar llamadas perdidas y calcular el porcentaje por operador\n",
    "missed_calls = telecom_data[telecom_data['is_missed_call'] == 1]\n",
    "missed_percentage = missed_calls.groupby('operator_id')['calls_count'].sum() / telecom_data.groupby('operator_id')['calls_count'].sum() * 100\n",
    "\n",
    "print(missed_percentage.sort_values(ascending=False))"
   ]
  },
  {
   "cell_type": "markdown",
   "metadata": {},
   "source": [
    "### Tiempo promedio de espera por operador"
   ]
  },
  {
   "cell_type": "code",
   "execution_count": 6,
   "metadata": {},
   "outputs": [
    {
     "name": "stdout",
     "output_type": "stream",
     "text": [
      "operator_id\n",
      "925922.0    5907.443038\n",
      "885890.0    5727.133574\n",
      "929428.0    5325.342857\n",
      "885876.0    4816.241379\n",
      "908640.0    3456.461538\n",
      "               ...     \n",
      "914626.0       0.000000\n",
      "955068.0       0.000000\n",
      "958458.0       0.000000\n",
      "946454.0       0.000000\n",
      "960674.0       0.000000\n",
      "Name: wait_time, Length: 1093, dtype: float64\n"
     ]
    }
   ],
   "source": [
    "# Calcular tiempo de espera promedio (total - duración real) por operador\n",
    "telecom_data['wait_time'] = telecom_data['total_call_duration'] - telecom_data['call_duration']\n",
    "avg_wait_time = telecom_data.groupby('operator_id')['wait_time'].mean()\n",
    "\n",
    "print(avg_wait_time.sort_values(ascending=False))"
   ]
  },
  {
   "cell_type": "markdown",
   "metadata": {},
   "source": [
    "### Número promedio de llamadas salientes por operador"
   ]
  },
  {
   "cell_type": "code",
   "execution_count": 7,
   "metadata": {},
   "outputs": [
    {
     "name": "stdout",
     "output_type": "stream",
     "text": [
      "operator_id\n",
      "954086.0      1.000000\n",
      "905480.0      1.000000\n",
      "937366.0      1.000000\n",
      "905862.0      1.000000\n",
      "952196.0      1.000000\n",
      "               ...    \n",
      "885876.0    300.449074\n",
      "908640.0    321.134615\n",
      "929428.0    351.028571\n",
      "885890.0    371.568966\n",
      "925922.0    435.080000\n",
      "Name: calls_count, Length: 883, dtype: float64\n"
     ]
    }
   ],
   "source": [
    "# Filtrar llamadas salientes y calcular promedio por operador\n",
    "outgoing_calls = telecom_data[telecom_data['direction'] == 'out']\n",
    "avg_outgoing_calls = outgoing_calls.groupby('operator_id')['calls_count'].mean()\n",
    "\n",
    "print(avg_outgoing_calls.sort_values())"
   ]
  },
  {
   "cell_type": "markdown",
   "metadata": {},
   "source": [
    "<div class=\"alert alert-block alert-success\">\n",
    "\n",
    "<b>Comentario del revisor</b> <a class=\"tocSkip\"></a><br>\n",
    "\n",
    "<b>Éxito</b> - El cálculo del porcentaje de llamadas perdidas y del tiempo promedio de espera por operador está bien ejecutado y contribuye directamente al objetivo del análisis. El uso de funciones de agrupación como `groupby` es una excelente manera de organizar los datos para obtener insights clave.\n",
    "\n",
    "</div>"
   ]
  },
  {
   "cell_type": "markdown",
   "metadata": {},
   "source": [
    "## Identificar Operadores Ineficaces"
   ]
  },
  {
   "cell_type": "code",
   "execution_count": 8,
   "metadata": {},
   "outputs": [
    {
     "name": "stdout",
     "output_type": "stream",
     "text": [
      "operator_id\n",
      "-1.0         True\n",
      " 879898.0    True\n",
      " 880020.0    True\n",
      " 880022.0    True\n",
      " 880028.0    True\n",
      "             ... \n",
      " 971102.0    True\n",
      " 972408.0    True\n",
      " 972410.0    True\n",
      " 972412.0    True\n",
      " 973120.0    True\n",
      "Length: 556, dtype: bool\n"
     ]
    }
   ],
   "source": [
    "# Clasificar operadores ineficaces\n",
    "threshold_missed = missed_percentage.quantile(0.75)\n",
    "threshold_wait_time = avg_wait_time.quantile(0.75)\n",
    "threshold_outgoing = avg_outgoing_calls.quantile(0.25)\n",
    "\n",
    "# Identificar ineficacia\n",
    "inefficient_operators = (missed_percentage > threshold_missed) | (avg_wait_time > threshold_wait_time) | (avg_outgoing_calls < threshold_outgoing)\n",
    "\n",
    "\n",
    "\n",
    "print(inefficient_operators[inefficient_operators == True])\n"
   ]
  },
  {
   "cell_type": "code",
   "execution_count": 9,
   "metadata": {},
   "outputs": [
    {
     "name": "stdout",
     "output_type": "stream",
     "text": [
      "   operator_id  is_inefficient\n",
      "0           -1            True\n",
      "1       880022            True\n",
      "2       880020            True\n",
      "3       880020            True\n",
      "4       880022            True\n"
     ]
    }
   ],
   "source": [
    "#Union de lo resultaods obtenidos de los operadores ineficientes vs eficiente s la tabala telecom_data bajo el operator_id\n",
    "\n",
    "# Asegurarse de que 'operator_id' en telecom_data esté del tipo adecuado\n",
    "telecom_data['operator_id'] = telecom_data['operator_id'].astype(int)\n",
    "\n",
    "# Asegurarse de que el índice de 'inefficient_operators' sea el mismo que 'operator_id'\n",
    "# Si 'inefficient_operators' es una Serie con índices de 'operator_id' y valores booleanos, hacemos el merge\n",
    "telecom_data['is_inefficient'] = telecom_data['operator_id'].map(inefficient_operators)\n",
    "\n",
    "# Rellenar valores nulos con False (si un operador no está en 'inefficient_operators', se considera eficiente)\n",
    "telecom_data['is_inefficient'] = telecom_data['is_inefficient'].fillna(False)\n",
    "\n",
    "# Imprimir los primeros registros para verificar\n",
    "print(telecom_data[['operator_id', 'is_inefficient']].head())\n",
    "\n",
    "\n"
   ]
  },
  {
   "cell_type": "markdown",
   "metadata": {},
   "source": [
    "\n",
    "<div class=\"alert alert-block alert-success\">\n",
    "\n",
    "<b>Comentario del revisor</b> <a class=\"tocSkip\"></a><br>\n",
    "\n",
    "<b>Éxito</b> - Los umbrales basados en percentiles están bien planteados y justifican el enfoque para clasificar operadores. Además, la integración de los resultados en la tabla principal mediante `map` es una excelente manera de simplificar la visualización y el análisis posterior. ¡Buen trabajo!\n",
    "\n",
    "</div>"
   ]
  },
  {
   "cell_type": "code",
   "execution_count": 10,
   "metadata": {},
   "outputs": [
    {
     "data": {
      "image/png": "[encoded data removed]",
      "text/plain": [
       "<Figure size 600x400 with 1 Axes>"
      ]
     },
     "metadata": {},
     "output_type": "display_data"
    }
   ],
   "source": [
    "import matplotlib.pyplot as plt\n",
    "\n",
    "# Contar la cantidad de operadores eficaces e ineficaces\n",
    "efficiency_counts = telecom_data['is_inefficient'].value_counts()\n",
    "\n",
    "# Crear la gráfica de barras\n",
    "plt.figure(figsize=(6, 4))\n",
    "efficiency_counts.plot(kind='bar', color=['green', 'red'], alpha=0.7)\n",
    "\n",
    "# Personalizar la gráfica\n",
    "plt.title('Cantidad de Operadores Eficaces vs Ineficaces')\n",
    "plt.xlabel('Eficiencia de los Operadores')\n",
    "plt.ylabel('Número de Operadores')\n",
    "plt.xticks(ticks=[0, 1], labels=['Eficaces', 'Ineficaces'], rotation=0)\n",
    "plt.tight_layout()\n",
    "\n",
    "# Mostrar la gráfica\n",
    "plt.show()\n"
   ]
  },
  {
   "cell_type": "markdown",
   "metadata": {},
   "source": [
    "Se evidencia una diferencia significativa entre operadores eficaces e ineficaces bajo el planteamente de los percentiles:\n",
    "\n",
    "- Porcentaje de llamadas perdidas superior al percentil 75.\n",
    "- Tiempo promedio de espera superior al percentil 75.\n",
    "- Número de llamadas salientes inferior al percentil 25 (si corresponde)."
   ]
  },
  {
   "cell_type": "markdown",
   "metadata": {},
   "source": [
    "<div class=\"alert alert-block alert-success\">\n",
    "\n",
    "<b>Comentario del revisor</b> <a class=\"tocSkip\"></a><br>\n",
    "\n",
    "<b>Éxito</b> - La visualización de los operadores eficaces e ineficaces con barras es clara y bien diseñada. La elección de colores ayuda a comunicar rápidamente el contraste entre los dos grupos.\n",
    "\n",
    "</div>\n"
   ]
  },
  {
   "cell_type": "markdown",
   "metadata": {},
   "source": [
    "## Pruebas de Hipótesis"
   ]
  },
  {
   "cell_type": "markdown",
   "metadata": {},
   "source": [
    "### Diferencias en el tiempo de espera entre operadores"
   ]
  },
  {
   "cell_type": "code",
   "execution_count": 12,
   "metadata": {},
   "outputs": [
    {
     "name": "stdout",
     "output_type": "stream",
     "text": [
      "Prueba de Levene (Tiempo de espera): p-value = 0.0\n",
      "Prueba Mann-Whitney: statistic = 463809474.5 , p_val = 0.0\n",
      "Prueba de Levene (Llamadas perdidas): p-value = 6.664424421367563e-289\n",
      "Prueba Mann-Whitney: statistic = 451400675.0 , p_val = 0.0\n"
     ]
    },
    {
     "data": {
      "image/png": "[encoded data removed]",
      "text/plain": [
       "<Figure size 1200x600 with 2 Axes>"
      ]
     },
     "metadata": {},
     "output_type": "display_data"
    }
   ],
   "source": [
    "from scipy.stats import levene, ttest_ind, mannwhitneyu\n",
    "import matplotlib.pyplot as plt\n",
    "\n",
    "# Filtrar grupos según la eficiencia\n",
    "group_high_eff = telecom_data[telecom_data['is_inefficient'] == True]\n",
    "group_low_eff = telecom_data[telecom_data['is_inefficient'] == False]\n",
    "\n",
    "# **Hipótesis 1: Tiempo de espera promedio**\n",
    "# Eliminar valores nulos en 'wait_time'\n",
    "group_high_eff = group_high_eff.dropna(subset=['wait_time'])\n",
    "group_low_eff = group_low_eff.dropna(subset=['wait_time'])\n",
    "\n",
    "# Prueba de Levene para homogeneidad de varianzas\n",
    "stat, p_value = levene(group_high_eff['wait_time'], group_low_eff['wait_time'])\n",
    "print(\"Prueba de Levene (Tiempo de espera): p-value =\", p_value)\n",
    "\n",
    "if p_value > 0.05:\n",
    "    # Prueba T para varianzas homogéneas\n",
    "    t_stat, t_p_val = ttest_ind(group_high_eff['wait_time'], group_low_eff['wait_time'], equal_var=True)\n",
    "    print(\"Prueba T: t_stat =\", t_stat, \", p_val =\", t_p_val)\n",
    "else:\n",
    "    # Prueba Mann-Whitney para varianzas no homogéneas\n",
    "    mann_stat, mann_p_val = mannwhitneyu(group_high_eff['wait_time'], group_low_eff['wait_time'])\n",
    "    print(\"Prueba Mann-Whitney: statistic =\", mann_stat, \", p_val =\", mann_p_val)\n",
    "\n",
    "# Visualización de las distribuciones de los tiempos de espera\n",
    "plt.figure(figsize=(12, 6))\n",
    "plt.subplot(1, 2, 1)\n",
    "plt.hist(group_high_eff['wait_time'], bins=10, alpha=0.5, label='Ineficientes', color='red')\n",
    "plt.hist(group_low_eff['wait_time'], bins=10, alpha=0.5, label='Eficientes', color='green')\n",
    "plt.legend()\n",
    "plt.title('Distribución de Tiempos de Espera')\n",
    "plt.xlabel('Tiempo de espera')\n",
    "plt.ylabel('Frecuencia')\n",
    "\n",
    "# **Hipótesis 2: Porcentaje de llamadas perdidas**\n",
    "# Calcular el porcentaje de llamadas perdidas para cada grupo\n",
    "high_eff_missed_percentage = group_high_eff['is_missed_call'].mean() * 100\n",
    "low_eff_missed_percentage = group_low_eff['is_missed_call'].mean() * 100\n",
    "\n",
    "# Prueba de Levene para homogeneidad de varianzas\n",
    "stat, p_value = levene(\n",
    "    group_high_eff['is_missed_call'], \n",
    "    group_low_eff['is_missed_call']\n",
    ")\n",
    "print(\"Prueba de Levene (Llamadas perdidas): p-value =\", p_value)\n",
    "\n",
    "if p_value > 0.05:\n",
    "    # Prueba T para varianzas homogéneas\n",
    "    t_stat, t_p_val = ttest_ind(\n",
    "        group_high_eff['is_missed_call'], \n",
    "        group_low_eff['is_missed_call'], \n",
    "        equal_var=True\n",
    "    )\n",
    "    print(\"Prueba T: t_stat =\", t_stat, \", p_val =\", t_p_val)\n",
    "else:\n",
    "    # Prueba Mann-Whitney para varianzas no homogéneas\n",
    "    mann_stat, mann_p_val = mannwhitneyu(\n",
    "        group_high_eff['is_missed_call'], \n",
    "        group_low_eff['is_missed_call']\n",
    "    )\n",
    "    print(\"Prueba Mann-Whitney: statistic =\", mann_stat, \", p_val =\", mann_p_val)\n",
    "\n",
    "# Visualización del porcentaje de llamadas perdidas\n",
    "plt.subplot(1, 2, 2)\n",
    "plt.bar(['Ineficientes', 'Eficientes'], \n",
    "        [high_eff_missed_percentage, low_eff_missed_percentage], \n",
    "        color=['red', 'green'], alpha=0.7)\n",
    "plt.title('Porcentaje de Llamadas Perdidas')\n",
    "plt.ylabel('Porcentaje (%)')\n",
    "plt.tight_layout()\n",
    "\n",
    "plt.show()\n"
   ]
  },
  {
   "cell_type": "markdown",
   "metadata": {},
   "source": [
    "<div class=\"alert alert-block alert-success\">\n",
    "\n",
    "<b>Comentario del revisor</b> <a class=\"tocSkip\"></a><br>\n",
    "\n",
    "<b>Éxito</b> - La aplicación de pruebas de hipótesis como Levene, T-test y Mann-Whitney es adecuada para este caso. La integración de estas pruebas con visualizaciones permite validar los resultados estadísticos de manera efectiva.\n",
    "\n",
    "</div>\n"
   ]
  },
  {
   "cell_type": "markdown",
   "metadata": {},
   "source": [
    "1. Tiempo de espera entre operadores\n",
    "\n",
    "- La prueba de Mann-Whitney muestra que los operadores eficaces tienen tiempos de espera significativamente menores que los menos eficaces (p-value = 0.0). Esto confirma que los operadores más eficientes resuelven los problemas de los usuarios más rápidamente, lo cual es crucial para la satisfacción del cliente y la percepción de calidad del servicio.\n",
    "\n",
    "- Sugerencias de mejora:\n",
    "--  Implementar programas de formación enfocados en la eficiencia operativa y la resolución ágil de problemas.\n",
    "--  Evaluar si existen flujos de trabajo ineficientes o herramientas tecnológicas que puedan estar ralentizando el desempeño de ciertos operadores.\n",
    "--  Considerar la incorporación de herramientas de soporte, como chatbots o sistemas de inteligencia artificial, para reducir la carga inicial en los operadores humanos y agilizar la atención.\n",
    "\n",
    "2. Porcentaje de llamadas perdidas\n",
    "\n",
    "- La diferencia significativa en las llamadas perdidas entre operadores eficaces e ineficaces (p-value = 0.0) indica que los operadores menos eficaces tienen un mayor porcentaje de llamadas no atendidas o interrumpidas. Este problema puede impactar negativamente tanto la experiencia del cliente como la reputación del servicio.\n",
    "\n",
    "- Sugerencias de mejora:\n",
    "--  Mejorar la capacitación y dotar a los operadores de herramientas necesarias para manejar las llamadas de manera más efectiva.\n",
    "--  Implementar métricas en tiempo real para identificar picos de demanda y redistribuir la carga de trabajo de manera equitativa.\n",
    "-- Revisar si existen limitaciones técnicas o de infraestructura que afecten de manera desproporcionada a ciertos operadores.\n",
    "\n",
    "3. Recomendaciones generales\n",
    "- Si los operadores menos eficaces no logran mejorar sus métricas tras las intervenciones, la empresa debería considerar redistribuir recursos o aplicar estrategias de gestión diferenciadas.\n",
    "- Implementar un sistema de retroalimentación continua para que los operadores reciban información sobre su desempeño en tiempo real. Esto permitirá identificar problemas de manera oportuna y reforzar la mejora continua.\n",
    "- Establecer objetivos claros de desempeño, monitorearlos periódicamente y ofrecer incentivos para fomentar el cumplimiento de los estándares establecidos.\n",
    "4. Conclusión general\n",
    "- El análisis evidencia que los operadores más eficaces no solo manejan tiempos de espera de manera más eficiente, sino que también tienen menos llamadas perdidas. Estos resultados resaltan la importancia de la formación, la tecnología y la gestión de calidad para garantizar un alto estándar de desempeño en toda la organización. Implementar las mejoras sugeridas podría no solo optimizar la eficiencia operativa, sino también elevar la satisfacción del cliente y mejorar los resultados comerciales de la empresa.\n",
    "\n"
   ]
  },
  {
   "cell_type": "markdown",
   "metadata": {},
   "source": [
    "<div class=\"alert alert-block alert-success\">\n",
    "\n",
    "<b>Comentario del revisor</b> <a class=\"tocSkip\"></a><br>\n",
    "\n",
    "<b>Éxito</b> - Las conclusiones están bien estructuradas y alineadas con los hallazgos obtenidos en el análisis. Las recomendaciones son prácticas y abordan tanto aspectos operativos como estratégicos.\n",
    "\n",
    "</div>\n",
    "\n",
    "---"
   ]
  },
  {
   "cell_type": "markdown",
   "metadata": {},
   "source": [
    "# Comentario General del Revisor\n",
    "\n",
    "<div class=\"alert alert-block alert-success\">\n",
    "\n",
    "<b>Comentario del revisor</b> <a class=\"tocSkip\"></a>\n",
    "\n",
    "¡Felicidades! El análisis presenta un flujo lógico y bien estructurado. Los cálculos son relevantes y las visualizaciones refuerzan los resultados obtenidos. Aquí algunos aspectos destacados y oportunidades de mejora:\n",
    "\n",
    "#### Puntos Positivos:\n",
    "- **Preprocesamiento:** Excelente manejo de nulos y duplicados, con atención a detalles importantes como la conversión de tipos de datos.\n",
    "- **Análisis exploratorio:** Métricas clave como porcentaje de llamadas perdidas y tiempo de espera están bien calculadas.\n",
    "- **Estadísticas:** Uso apropiado de pruebas de hipótesis para validar diferencias entre grupos.\n",
    "\n",
    "#### Áreas para Mejorar:\n",
    "- **Definición de variables:** Algunas variables no están completamente definidas, lo que afecta la reproducibilidad del análisis.\n",
    "- **Documentación:** Podrías agregar más explicaciones sobre las decisiones metodológicas, especialmente en la clasificación de operadores ineficaces.\n",
    "\n",
    "¡Sigue trabajando con este nivel de detalle y curiosidad! 😊🚀\n",
    "\n",
    "</div>"
   ]
  }
 ],
 "metadata": {
  "ExecuteTimeLog": [
   {
    "duration": 2413,
    "start_time": "2025-01-01T16:48:01.074Z"
   },
   {
    "duration": 561,
    "start_time": "2025-01-01T16:49:10.604Z"
   },
   {
    "duration": 393,
    "start_time": "2025-01-01T16:49:58.305Z"
   },
   {
    "duration": 113,
    "start_time": "2025-01-01T16:53:24.093Z"
   },
   {
    "duration": 20,
    "start_time": "2025-01-01T17:06:56.206Z"
   },
   {
    "duration": 36,
    "start_time": "2025-01-01T17:09:44.055Z"
   },
   {
    "duration": 20,
    "start_time": "2025-01-01T17:10:48.665Z"
   },
   {
    "duration": 777,
    "start_time": "2025-01-01T17:11:02.469Z"
   },
   {
    "duration": 86,
    "start_time": "2025-01-01T17:11:03.249Z"
   },
   {
    "duration": 25,
    "start_time": "2025-01-01T17:11:03.336Z"
   },
   {
    "duration": 15,
    "start_time": "2025-01-01T17:12:30.092Z"
   },
   {
    "duration": 15,
    "start_time": "2025-01-01T17:15:00.706Z"
   },
   {
    "duration": 10,
    "start_time": "2025-01-01T17:16:00.341Z"
   },
   {
    "duration": 7,
    "start_time": "2025-01-01T17:16:32.548Z"
   },
   {
    "duration": 14,
    "start_time": "2025-01-01T17:17:04.871Z"
   },
   {
    "duration": 10,
    "start_time": "2025-01-01T17:17:42.008Z"
   },
   {
    "duration": 10,
    "start_time": "2025-01-01T17:18:36.156Z"
   },
   {
    "duration": 10,
    "start_time": "2025-01-01T17:18:58.126Z"
   },
   {
    "duration": 10,
    "start_time": "2025-01-01T17:19:08.741Z"
   },
   {
    "duration": 13,
    "start_time": "2025-01-01T17:26:07.156Z"
   },
   {
    "duration": 206,
    "start_time": "2025-01-01T17:26:43.031Z"
   },
   {
    "duration": 5,
    "start_time": "2025-01-01T17:26:53.173Z"
   },
   {
    "duration": 12,
    "start_time": "2025-01-01T17:26:55.783Z"
   },
   {
    "duration": 10,
    "start_time": "2025-01-01T17:27:00.321Z"
   },
   {
    "duration": 6,
    "start_time": "2025-01-01T17:27:08.470Z"
   },
   {
    "duration": 4,
    "start_time": "2025-01-01T17:27:16.905Z"
   },
   {
    "duration": 819,
    "start_time": "2025-01-01T17:27:54.040Z"
   },
   {
    "duration": 85,
    "start_time": "2025-01-01T17:27:54.862Z"
   },
   {
    "duration": 26,
    "start_time": "2025-01-01T17:27:54.949Z"
   },
   {
    "duration": 10,
    "start_time": "2025-01-01T17:27:54.977Z"
   },
   {
    "duration": 8,
    "start_time": "2025-01-01T17:27:54.988Z"
   },
   {
    "duration": 34,
    "start_time": "2025-01-01T17:27:54.998Z"
   },
   {
    "duration": 9,
    "start_time": "2025-01-01T17:27:55.034Z"
   },
   {
    "duration": 3,
    "start_time": "2025-01-01T17:27:55.045Z"
   },
   {
    "duration": 12,
    "start_time": "2025-01-01T17:27:55.049Z"
   },
   {
    "duration": 6,
    "start_time": "2025-01-01T17:28:27.709Z"
   },
   {
    "duration": 6,
    "start_time": "2025-01-01T17:29:14.936Z"
   },
   {
    "duration": 4,
    "start_time": "2025-01-01T17:29:21.060Z"
   },
   {
    "duration": 6,
    "start_time": "2025-01-01T17:29:31.342Z"
   },
   {
    "duration": 5,
    "start_time": "2025-01-01T17:35:12.590Z"
   },
   {
    "duration": 410,
    "start_time": "2025-01-01T17:36:17.001Z"
   },
   {
    "duration": 7,
    "start_time": "2025-01-01T17:36:35.479Z"
   },
   {
    "duration": 7,
    "start_time": "2025-01-01T17:37:03.150Z"
   },
   {
    "duration": 3,
    "start_time": "2025-01-01T17:38:49.796Z"
   },
   {
    "duration": 10,
    "start_time": "2025-01-01T17:39:17.483Z"
   },
   {
    "duration": 5,
    "start_time": "2025-01-01T17:39:31.439Z"
   },
   {
    "duration": 5,
    "start_time": "2025-01-01T17:39:46.778Z"
   },
   {
    "duration": 5,
    "start_time": "2025-01-01T17:39:52.898Z"
   },
   {
    "duration": 4,
    "start_time": "2025-01-01T17:39:55.349Z"
   },
   {
    "duration": 784,
    "start_time": "2025-01-01T17:40:03.176Z"
   },
   {
    "duration": 86,
    "start_time": "2025-01-01T17:40:03.964Z"
   },
   {
    "duration": 26,
    "start_time": "2025-01-01T17:40:04.052Z"
   },
   {
    "duration": 10,
    "start_time": "2025-01-01T17:40:04.079Z"
   },
   {
    "duration": 7,
    "start_time": "2025-01-01T17:40:04.091Z"
   },
   {
    "duration": 32,
    "start_time": "2025-01-01T17:40:04.099Z"
   },
   {
    "duration": 9,
    "start_time": "2025-01-01T17:40:04.133Z"
   },
   {
    "duration": 11,
    "start_time": "2025-01-01T17:40:04.144Z"
   },
   {
    "duration": 4,
    "start_time": "2025-01-01T17:40:04.157Z"
   },
   {
    "duration": 4,
    "start_time": "2025-01-01T17:40:04.162Z"
   },
   {
    "duration": 12,
    "start_time": "2025-01-01T17:44:40.083Z"
   },
   {
    "duration": 736,
    "start_time": "2025-01-01T17:45:02.119Z"
   },
   {
    "duration": 83,
    "start_time": "2025-01-01T17:45:02.858Z"
   },
   {
    "duration": 24,
    "start_time": "2025-01-01T17:45:02.943Z"
   },
   {
    "duration": 9,
    "start_time": "2025-01-01T17:45:02.969Z"
   },
   {
    "duration": 7,
    "start_time": "2025-01-01T17:45:02.980Z"
   },
   {
    "duration": 11,
    "start_time": "2025-01-01T17:45:02.988Z"
   },
   {
    "duration": 9,
    "start_time": "2025-01-01T17:45:03.025Z"
   },
   {
    "duration": 419,
    "start_time": "2025-01-01T17:45:03.036Z"
   },
   {
    "duration": 0,
    "start_time": "2025-01-01T17:45:03.457Z"
   },
   {
    "duration": 0,
    "start_time": "2025-01-01T17:45:03.458Z"
   },
   {
    "duration": 0,
    "start_time": "2025-01-01T17:45:03.459Z"
   },
   {
    "duration": 11,
    "start_time": "2025-01-01T17:45:23.396Z"
   },
   {
    "duration": 4,
    "start_time": "2025-01-01T17:47:13.288Z"
   },
   {
    "duration": 4,
    "start_time": "2025-01-01T17:47:15.934Z"
   },
   {
    "duration": 12,
    "start_time": "2025-01-01T17:47:22.731Z"
   },
   {
    "duration": 13,
    "start_time": "2025-01-01T17:50:56.270Z"
   },
   {
    "duration": 797,
    "start_time": "2025-01-01T17:52:52.631Z"
   },
   {
    "duration": 82,
    "start_time": "2025-01-01T17:52:53.430Z"
   },
   {
    "duration": 33,
    "start_time": "2025-01-01T17:52:53.514Z"
   },
   {
    "duration": 9,
    "start_time": "2025-01-01T17:52:53.550Z"
   },
   {
    "duration": 7,
    "start_time": "2025-01-01T17:52:53.560Z"
   },
   {
    "duration": 12,
    "start_time": "2025-01-01T17:52:53.569Z"
   },
   {
    "duration": 10,
    "start_time": "2025-01-01T17:52:53.582Z"
   },
   {
    "duration": 213,
    "start_time": "2025-01-01T17:52:58.416Z"
   },
   {
    "duration": 334,
    "start_time": "2025-01-01T17:53:11.241Z"
   },
   {
    "duration": 16,
    "start_time": "2025-01-01T17:53:30.699Z"
   },
   {
    "duration": 7,
    "start_time": "2025-01-01T17:53:37.833Z"
   },
   {
    "duration": 16,
    "start_time": "2025-01-01T17:55:12.168Z"
   },
   {
    "duration": 15,
    "start_time": "2025-01-01T17:55:19.321Z"
   },
   {
    "duration": 13,
    "start_time": "2025-01-01T17:55:32.867Z"
   },
   {
    "duration": 14,
    "start_time": "2025-01-01T17:55:48.962Z"
   },
   {
    "duration": 16,
    "start_time": "2025-01-01T17:55:58.346Z"
   },
   {
    "duration": 17,
    "start_time": "2025-01-01T17:58:02.400Z"
   },
   {
    "duration": 63,
    "start_time": "2025-01-01T17:58:37.075Z"
   },
   {
    "duration": 38,
    "start_time": "2025-01-01T17:59:15.168Z"
   },
   {
    "duration": 13,
    "start_time": "2025-01-01T17:59:34.540Z"
   },
   {
    "duration": 7,
    "start_time": "2025-01-01T17:59:46.882Z"
   },
   {
    "duration": 7,
    "start_time": "2025-01-01T18:00:41.492Z"
   },
   {
    "duration": 7,
    "start_time": "2025-01-01T18:00:46.925Z"
   },
   {
    "duration": 4,
    "start_time": "2025-01-01T18:01:31.974Z"
   },
   {
    "duration": 6,
    "start_time": "2025-01-01T18:03:37.975Z"
   },
   {
    "duration": 4,
    "start_time": "2025-01-01T18:04:21.624Z"
   },
   {
    "duration": 15,
    "start_time": "2025-01-01T18:04:57.574Z"
   },
   {
    "duration": 304,
    "start_time": "2025-01-01T18:05:02.892Z"
   },
   {
    "duration": 9,
    "start_time": "2025-01-01T18:05:12.788Z"
   },
   {
    "duration": 7,
    "start_time": "2025-01-01T18:06:44.221Z"
   },
   {
    "duration": 761,
    "start_time": "2025-01-01T18:08:12.093Z"
   },
   {
    "duration": 83,
    "start_time": "2025-01-01T18:08:12.857Z"
   },
   {
    "duration": 4,
    "start_time": "2025-01-01T18:08:12.942Z"
   },
   {
    "duration": 0,
    "start_time": "2025-01-01T18:08:12.948Z"
   },
   {
    "duration": 0,
    "start_time": "2025-01-01T18:08:12.950Z"
   },
   {
    "duration": 0,
    "start_time": "2025-01-01T18:08:12.951Z"
   },
   {
    "duration": 0,
    "start_time": "2025-01-01T18:08:12.953Z"
   },
   {
    "duration": 0,
    "start_time": "2025-01-01T18:08:12.954Z"
   },
   {
    "duration": 0,
    "start_time": "2025-01-01T18:08:12.956Z"
   },
   {
    "duration": 0,
    "start_time": "2025-01-01T18:08:12.957Z"
   },
   {
    "duration": 0,
    "start_time": "2025-01-01T18:08:12.958Z"
   },
   {
    "duration": 11,
    "start_time": "2025-01-01T18:08:32.616Z"
   },
   {
    "duration": 785,
    "start_time": "2025-01-01T18:10:37.381Z"
   },
   {
    "duration": 84,
    "start_time": "2025-01-01T18:10:38.169Z"
   },
   {
    "duration": 9,
    "start_time": "2025-01-01T18:10:38.255Z"
   },
   {
    "duration": 25,
    "start_time": "2025-01-01T18:10:38.266Z"
   },
   {
    "duration": 32,
    "start_time": "2025-01-01T18:10:38.293Z"
   },
   {
    "duration": 7,
    "start_time": "2025-01-01T18:10:38.327Z"
   },
   {
    "duration": 11,
    "start_time": "2025-01-01T18:10:38.336Z"
   },
   {
    "duration": 10,
    "start_time": "2025-01-01T18:10:38.349Z"
   },
   {
    "duration": 289,
    "start_time": "2025-01-01T18:10:38.361Z"
   },
   {
    "duration": 0,
    "start_time": "2025-01-01T18:10:38.652Z"
   },
   {
    "duration": 0,
    "start_time": "2025-01-01T18:10:38.653Z"
   },
   {
    "duration": 338,
    "start_time": "2025-01-01T18:10:55.483Z"
   },
   {
    "duration": 53,
    "start_time": "2025-01-01T18:11:03.158Z"
   },
   {
    "duration": 51,
    "start_time": "2025-01-01T18:11:15.945Z"
   },
   {
    "duration": 782,
    "start_time": "2025-01-01T18:11:52.984Z"
   },
   {
    "duration": 83,
    "start_time": "2025-01-01T18:11:53.769Z"
   },
   {
    "duration": 14,
    "start_time": "2025-01-01T18:11:53.854Z"
   },
   {
    "duration": 28,
    "start_time": "2025-01-01T18:11:53.870Z"
   },
   {
    "duration": 30,
    "start_time": "2025-01-01T18:11:53.900Z"
   },
   {
    "duration": 7,
    "start_time": "2025-01-01T18:11:53.932Z"
   },
   {
    "duration": 11,
    "start_time": "2025-01-01T18:11:53.941Z"
   },
   {
    "duration": 10,
    "start_time": "2025-01-01T18:11:53.954Z"
   },
   {
    "duration": 590,
    "start_time": "2025-01-01T18:11:53.965Z"
   },
   {
    "duration": 0,
    "start_time": "2025-01-01T18:11:54.557Z"
   },
   {
    "duration": 0,
    "start_time": "2025-01-01T18:11:54.558Z"
   },
   {
    "duration": 8,
    "start_time": "2025-01-01T18:12:34.871Z"
   },
   {
    "duration": 797,
    "start_time": "2025-01-01T18:12:48.861Z"
   },
   {
    "duration": 86,
    "start_time": "2025-01-01T18:12:49.662Z"
   },
   {
    "duration": 10,
    "start_time": "2025-01-01T18:12:49.750Z"
   },
   {
    "duration": 21,
    "start_time": "2025-01-01T18:12:49.762Z"
   },
   {
    "duration": 8,
    "start_time": "2025-01-01T18:12:49.786Z"
   },
   {
    "duration": 36,
    "start_time": "2025-01-01T18:12:49.796Z"
   },
   {
    "duration": 8,
    "start_time": "2025-01-01T18:12:49.833Z"
   },
   {
    "duration": 12,
    "start_time": "2025-01-01T18:12:49.843Z"
   },
   {
    "duration": 10,
    "start_time": "2025-01-01T18:12:49.857Z"
   },
   {
    "duration": 610,
    "start_time": "2025-01-01T18:12:49.869Z"
   },
   {
    "duration": 0,
    "start_time": "2025-01-01T18:12:50.481Z"
   },
   {
    "duration": 0,
    "start_time": "2025-01-01T18:12:50.482Z"
   },
   {
    "duration": 5,
    "start_time": "2025-01-01T18:13:12.896Z"
   },
   {
    "duration": 32,
    "start_time": "2025-01-01T18:13:17.100Z"
   },
   {
    "duration": 8,
    "start_time": "2025-01-01T18:13:20.495Z"
   },
   {
    "duration": 29,
    "start_time": "2025-01-01T18:13:24.825Z"
   },
   {
    "duration": 720,
    "start_time": "2025-01-01T18:13:29.075Z"
   },
   {
    "duration": 83,
    "start_time": "2025-01-01T18:13:29.798Z"
   },
   {
    "duration": 9,
    "start_time": "2025-01-01T18:13:29.883Z"
   },
   {
    "duration": 31,
    "start_time": "2025-01-01T18:13:29.895Z"
   },
   {
    "duration": 8,
    "start_time": "2025-01-01T18:13:29.927Z"
   },
   {
    "duration": 12,
    "start_time": "2025-01-01T18:13:29.936Z"
   },
   {
    "duration": 6,
    "start_time": "2025-01-01T18:13:29.950Z"
   },
   {
    "duration": 11,
    "start_time": "2025-01-01T18:13:29.959Z"
   },
   {
    "duration": 9,
    "start_time": "2025-01-01T18:13:29.972Z"
   },
   {
    "duration": 587,
    "start_time": "2025-01-01T18:13:29.984Z"
   },
   {
    "duration": 0,
    "start_time": "2025-01-01T18:13:30.572Z"
   },
   {
    "duration": 0,
    "start_time": "2025-01-01T18:13:30.573Z"
   },
   {
    "duration": 737,
    "start_time": "2025-01-01T18:15:22.079Z"
   },
   {
    "duration": 85,
    "start_time": "2025-01-01T18:15:22.818Z"
   },
   {
    "duration": 10,
    "start_time": "2025-01-01T18:15:22.904Z"
   },
   {
    "duration": 30,
    "start_time": "2025-01-01T18:15:22.915Z"
   },
   {
    "duration": 11,
    "start_time": "2025-01-01T18:15:22.948Z"
   },
   {
    "duration": 8,
    "start_time": "2025-01-01T18:15:22.960Z"
   },
   {
    "duration": 9,
    "start_time": "2025-01-01T18:15:22.970Z"
   },
   {
    "duration": 7,
    "start_time": "2025-01-01T18:15:22.981Z"
   },
   {
    "duration": 12,
    "start_time": "2025-01-01T18:15:23.024Z"
   },
   {
    "duration": 9,
    "start_time": "2025-01-01T18:15:23.037Z"
   },
   {
    "duration": 571,
    "start_time": "2025-01-01T18:15:23.049Z"
   },
   {
    "duration": 0,
    "start_time": "2025-01-01T18:15:23.624Z"
   },
   {
    "duration": 0,
    "start_time": "2025-01-01T18:15:23.625Z"
   },
   {
    "duration": 758,
    "start_time": "2025-01-01T18:16:38.285Z"
   },
   {
    "duration": 79,
    "start_time": "2025-01-01T18:16:39.046Z"
   },
   {
    "duration": 9,
    "start_time": "2025-01-01T18:16:39.128Z"
   },
   {
    "duration": 20,
    "start_time": "2025-01-01T18:16:39.139Z"
   },
   {
    "duration": 11,
    "start_time": "2025-01-01T18:16:39.161Z"
   },
   {
    "duration": 8,
    "start_time": "2025-01-01T18:16:39.174Z"
   },
   {
    "duration": 41,
    "start_time": "2025-01-01T18:16:39.183Z"
   },
   {
    "duration": 6,
    "start_time": "2025-01-01T18:16:39.226Z"
   },
   {
    "duration": 12,
    "start_time": "2025-01-01T18:16:39.234Z"
   },
   {
    "duration": 9,
    "start_time": "2025-01-01T18:16:39.248Z"
   },
   {
    "duration": 575,
    "start_time": "2025-01-01T18:16:39.259Z"
   },
   {
    "duration": 1,
    "start_time": "2025-01-01T18:16:39.835Z"
   },
   {
    "duration": 0,
    "start_time": "2025-01-01T18:16:39.837Z"
   },
   {
    "duration": 18,
    "start_time": "2025-01-01T18:18:00.173Z"
   },
   {
    "duration": 54,
    "start_time": "2025-01-01T18:18:16.715Z"
   },
   {
    "duration": 52,
    "start_time": "2025-01-01T18:18:49.074Z"
   },
   {
    "duration": 10,
    "start_time": "2025-01-01T18:19:23.342Z"
   },
   {
    "duration": 747,
    "start_time": "2025-01-01T18:19:43.780Z"
   },
   {
    "duration": 97,
    "start_time": "2025-01-01T18:19:44.530Z"
   },
   {
    "duration": 9,
    "start_time": "2025-01-01T18:19:44.629Z"
   },
   {
    "duration": 21,
    "start_time": "2025-01-01T18:19:44.640Z"
   },
   {
    "duration": 10,
    "start_time": "2025-01-01T18:19:44.664Z"
   },
   {
    "duration": 7,
    "start_time": "2025-01-01T18:19:44.676Z"
   },
   {
    "duration": 42,
    "start_time": "2025-01-01T18:19:44.685Z"
   },
   {
    "duration": 10,
    "start_time": "2025-01-01T18:19:44.729Z"
   },
   {
    "duration": 598,
    "start_time": "2025-01-01T18:19:44.740Z"
   },
   {
    "duration": 0,
    "start_time": "2025-01-01T18:19:45.340Z"
   },
   {
    "duration": 0,
    "start_time": "2025-01-01T18:19:45.341Z"
   },
   {
    "duration": 10,
    "start_time": "2025-01-01T18:20:04.838Z"
   },
   {
    "duration": 740,
    "start_time": "2025-01-01T18:20:08.428Z"
   },
   {
    "duration": 82,
    "start_time": "2025-01-01T18:20:09.171Z"
   },
   {
    "duration": 10,
    "start_time": "2025-01-01T18:20:09.254Z"
   },
   {
    "duration": 21,
    "start_time": "2025-01-01T18:20:09.266Z"
   },
   {
    "duration": 9,
    "start_time": "2025-01-01T18:20:09.290Z"
   },
   {
    "duration": 10,
    "start_time": "2025-01-01T18:20:09.324Z"
   },
   {
    "duration": 6,
    "start_time": "2025-01-01T18:20:09.336Z"
   },
   {
    "duration": 12,
    "start_time": "2025-01-01T18:20:09.344Z"
   },
   {
    "duration": 10,
    "start_time": "2025-01-01T18:20:09.357Z"
   },
   {
    "duration": 586,
    "start_time": "2025-01-01T18:20:09.369Z"
   },
   {
    "duration": 0,
    "start_time": "2025-01-01T18:20:09.957Z"
   },
   {
    "duration": 0,
    "start_time": "2025-01-01T18:20:09.958Z"
   },
   {
    "duration": 9,
    "start_time": "2025-01-01T18:20:38.958Z"
   },
   {
    "duration": 747,
    "start_time": "2025-01-01T18:20:42.772Z"
   },
   {
    "duration": 81,
    "start_time": "2025-01-01T18:20:43.525Z"
   },
   {
    "duration": 27,
    "start_time": "2025-01-01T18:20:43.608Z"
   },
   {
    "duration": 10,
    "start_time": "2025-01-01T18:20:43.637Z"
   },
   {
    "duration": 11,
    "start_time": "2025-01-01T18:20:43.648Z"
   },
   {
    "duration": 9,
    "start_time": "2025-01-01T18:20:43.661Z"
   },
   {
    "duration": 7,
    "start_time": "2025-01-01T18:20:43.672Z"
   },
   {
    "duration": 49,
    "start_time": "2025-01-01T18:20:43.680Z"
   },
   {
    "duration": 9,
    "start_time": "2025-01-01T18:20:43.731Z"
   },
   {
    "duration": 582,
    "start_time": "2025-01-01T18:20:43.743Z"
   },
   {
    "duration": 0,
    "start_time": "2025-01-01T18:20:44.327Z"
   },
   {
    "duration": 0,
    "start_time": "2025-01-01T18:20:44.328Z"
   },
   {
    "duration": 9,
    "start_time": "2025-01-01T18:20:53.979Z"
   },
   {
    "duration": 777,
    "start_time": "2025-01-01T18:20:58.250Z"
   },
   {
    "duration": 81,
    "start_time": "2025-01-01T18:20:59.029Z"
   },
   {
    "duration": 31,
    "start_time": "2025-01-01T18:20:59.112Z"
   },
   {
    "duration": 10,
    "start_time": "2025-01-01T18:20:59.145Z"
   },
   {
    "duration": 11,
    "start_time": "2025-01-01T18:20:59.158Z"
   },
   {
    "duration": 7,
    "start_time": "2025-01-01T18:20:59.171Z"
   },
   {
    "duration": 12,
    "start_time": "2025-01-01T18:20:59.180Z"
   },
   {
    "duration": 12,
    "start_time": "2025-01-01T18:20:59.224Z"
   },
   {
    "duration": 10,
    "start_time": "2025-01-01T18:20:59.238Z"
   },
   {
    "duration": 589,
    "start_time": "2025-01-01T18:20:59.249Z"
   },
   {
    "duration": 0,
    "start_time": "2025-01-01T18:20:59.840Z"
   },
   {
    "duration": 0,
    "start_time": "2025-01-01T18:20:59.842Z"
   },
   {
    "duration": 791,
    "start_time": "2025-01-01T18:21:15.174Z"
   },
   {
    "duration": 87,
    "start_time": "2025-01-01T18:21:15.968Z"
   },
   {
    "duration": 20,
    "start_time": "2025-01-01T18:21:16.057Z"
   },
   {
    "duration": 10,
    "start_time": "2025-01-01T18:21:16.079Z"
   },
   {
    "duration": 11,
    "start_time": "2025-01-01T18:21:16.090Z"
   },
   {
    "duration": 8,
    "start_time": "2025-01-01T18:21:16.124Z"
   },
   {
    "duration": 13,
    "start_time": "2025-01-01T18:21:16.134Z"
   },
   {
    "duration": 10,
    "start_time": "2025-01-01T18:21:16.148Z"
   },
   {
    "duration": 8,
    "start_time": "2025-01-01T18:21:16.160Z"
   },
   {
    "duration": 611,
    "start_time": "2025-01-01T18:21:16.171Z"
   },
   {
    "duration": 0,
    "start_time": "2025-01-01T18:21:16.784Z"
   },
   {
    "duration": 0,
    "start_time": "2025-01-01T18:21:16.785Z"
   },
   {
    "duration": 10,
    "start_time": "2025-01-01T18:21:35.471Z"
   },
   {
    "duration": 7,
    "start_time": "2025-01-01T18:21:37.043Z"
   },
   {
    "duration": 7,
    "start_time": "2025-01-01T18:21:37.334Z"
   },
   {
    "duration": 6,
    "start_time": "2025-01-01T18:21:37.596Z"
   },
   {
    "duration": 7,
    "start_time": "2025-01-01T18:21:37.787Z"
   },
   {
    "duration": 6,
    "start_time": "2025-01-01T18:21:37.984Z"
   },
   {
    "duration": 6,
    "start_time": "2025-01-01T18:21:38.155Z"
   },
   {
    "duration": 6,
    "start_time": "2025-01-01T18:21:38.443Z"
   },
   {
    "duration": 7,
    "start_time": "2025-01-01T18:21:38.587Z"
   },
   {
    "duration": 758,
    "start_time": "2025-01-01T18:21:59.800Z"
   },
   {
    "duration": 86,
    "start_time": "2025-01-01T18:22:00.561Z"
   },
   {
    "duration": 20,
    "start_time": "2025-01-01T18:22:00.649Z"
   },
   {
    "duration": 9,
    "start_time": "2025-01-01T18:22:00.672Z"
   },
   {
    "duration": 11,
    "start_time": "2025-01-01T18:22:00.683Z"
   },
   {
    "duration": 32,
    "start_time": "2025-01-01T18:22:00.695Z"
   },
   {
    "duration": 12,
    "start_time": "2025-01-01T18:22:00.729Z"
   },
   {
    "duration": 10,
    "start_time": "2025-01-01T18:22:00.743Z"
   },
   {
    "duration": 8,
    "start_time": "2025-01-01T18:22:00.754Z"
   },
   {
    "duration": 589,
    "start_time": "2025-01-01T18:22:00.765Z"
   },
   {
    "duration": 0,
    "start_time": "2025-01-01T18:22:01.356Z"
   },
   {
    "duration": 0,
    "start_time": "2025-01-01T18:22:01.357Z"
   },
   {
    "duration": 758,
    "start_time": "2025-01-01T18:22:17.230Z"
   },
   {
    "duration": 87,
    "start_time": "2025-01-01T18:22:17.990Z"
   },
   {
    "duration": 21,
    "start_time": "2025-01-01T18:22:18.079Z"
   },
   {
    "duration": 9,
    "start_time": "2025-01-01T18:22:18.102Z"
   },
   {
    "duration": 12,
    "start_time": "2025-01-01T18:22:18.123Z"
   },
   {
    "duration": 7,
    "start_time": "2025-01-01T18:22:18.137Z"
   },
   {
    "duration": 12,
    "start_time": "2025-01-01T18:22:18.145Z"
   },
   {
    "duration": 9,
    "start_time": "2025-01-01T18:22:18.159Z"
   },
   {
    "duration": 8,
    "start_time": "2025-01-01T18:22:18.170Z"
   },
   {
    "duration": 2,
    "start_time": "2025-01-01T18:22:18.180Z"
   },
   {
    "duration": 651,
    "start_time": "2025-01-01T18:22:18.186Z"
   },
   {
    "duration": 0,
    "start_time": "2025-01-01T18:22:18.839Z"
   },
   {
    "duration": 788,
    "start_time": "2025-01-01T18:22:20.978Z"
   },
   {
    "duration": 93,
    "start_time": "2025-01-01T18:22:21.769Z"
   },
   {
    "duration": 24,
    "start_time": "2025-01-01T18:22:21.864Z"
   },
   {
    "duration": 15,
    "start_time": "2025-01-01T18:22:21.890Z"
   },
   {
    "duration": 27,
    "start_time": "2025-01-01T18:22:21.907Z"
   },
   {
    "duration": 7,
    "start_time": "2025-01-01T18:22:21.935Z"
   },
   {
    "duration": 11,
    "start_time": "2025-01-01T18:22:21.944Z"
   },
   {
    "duration": 10,
    "start_time": "2025-01-01T18:22:21.957Z"
   },
   {
    "duration": 9,
    "start_time": "2025-01-01T18:22:21.968Z"
   },
   {
    "duration": 2,
    "start_time": "2025-01-01T18:22:21.978Z"
   },
   {
    "duration": 661,
    "start_time": "2025-01-01T18:22:21.981Z"
   },
   {
    "duration": 0,
    "start_time": "2025-01-01T18:22:22.644Z"
   },
   {
    "duration": 10,
    "start_time": "2025-01-01T18:22:27.831Z"
   },
   {
    "duration": 8,
    "start_time": "2025-01-01T18:22:59.641Z"
   },
   {
    "duration": 2,
    "start_time": "2025-01-01T18:23:08.214Z"
   },
   {
    "duration": 224,
    "start_time": "2025-01-01T18:23:49.353Z"
   },
   {
    "duration": 42,
    "start_time": "2025-01-01T18:25:46.935Z"
   },
   {
    "duration": 28,
    "start_time": "2025-01-01T18:28:12.426Z"
   },
   {
    "duration": 15,
    "start_time": "2025-01-01T18:29:18.873Z"
   },
   {
    "duration": 11,
    "start_time": "2025-01-01T18:29:26.175Z"
   },
   {
    "duration": 14,
    "start_time": "2025-01-01T18:30:17.925Z"
   },
   {
    "duration": 10,
    "start_time": "2025-01-01T18:32:58.428Z"
   },
   {
    "duration": 10,
    "start_time": "2025-01-01T18:33:04.820Z"
   },
   {
    "duration": 1137,
    "start_time": "2025-01-01T18:33:23.212Z"
   },
   {
    "duration": 4,
    "start_time": "2025-01-01T18:34:37.431Z"
   },
   {
    "duration": 144,
    "start_time": "2025-01-01T18:34:41.321Z"
   },
   {
    "duration": 9,
    "start_time": "2025-01-01T18:34:58.145Z"
   },
   {
    "duration": 6,
    "start_time": "2025-01-01T18:37:21.439Z"
   },
   {
    "duration": 12,
    "start_time": "2025-01-01T18:37:42.718Z"
   },
   {
    "duration": 12,
    "start_time": "2025-01-01T18:37:49.394Z"
   },
   {
    "duration": 10,
    "start_time": "2025-01-01T18:37:58.651Z"
   },
   {
    "duration": 801,
    "start_time": "2025-01-01T18:38:03.347Z"
   },
   {
    "duration": 94,
    "start_time": "2025-01-01T18:38:04.152Z"
   },
   {
    "duration": 9,
    "start_time": "2025-01-01T18:38:04.248Z"
   },
   {
    "duration": 20,
    "start_time": "2025-01-01T18:38:04.259Z"
   },
   {
    "duration": 10,
    "start_time": "2025-01-01T18:38:04.280Z"
   },
   {
    "duration": 7,
    "start_time": "2025-01-01T18:38:04.292Z"
   },
   {
    "duration": 32,
    "start_time": "2025-01-01T18:38:04.300Z"
   },
   {
    "duration": 10,
    "start_time": "2025-01-01T18:38:04.334Z"
   },
   {
    "duration": 14,
    "start_time": "2025-01-01T18:38:04.346Z"
   },
   {
    "duration": 11,
    "start_time": "2025-01-01T18:38:04.363Z"
   },
   {
    "duration": 5,
    "start_time": "2025-01-01T18:38:04.376Z"
   },
   {
    "duration": 43,
    "start_time": "2025-01-01T18:38:04.383Z"
   },
   {
    "duration": 11,
    "start_time": "2025-01-01T18:38:04.429Z"
   },
   {
    "duration": 165,
    "start_time": "2025-01-01T18:38:04.442Z"
   },
   {
    "duration": 778,
    "start_time": "2025-01-01T18:38:48.884Z"
   },
   {
    "duration": 82,
    "start_time": "2025-01-01T18:38:49.665Z"
   },
   {
    "duration": 10,
    "start_time": "2025-01-01T18:38:49.749Z"
   },
   {
    "duration": 21,
    "start_time": "2025-01-01T18:38:49.760Z"
   },
   {
    "duration": 10,
    "start_time": "2025-01-01T18:38:49.783Z"
   },
   {
    "duration": 32,
    "start_time": "2025-01-01T18:38:49.795Z"
   },
   {
    "duration": 13,
    "start_time": "2025-01-01T18:38:49.829Z"
   },
   {
    "duration": 10,
    "start_time": "2025-01-01T18:38:49.844Z"
   },
   {
    "duration": 14,
    "start_time": "2025-01-01T18:38:49.856Z"
   },
   {
    "duration": 11,
    "start_time": "2025-01-01T18:38:49.873Z"
   },
   {
    "duration": 38,
    "start_time": "2025-01-01T18:38:49.886Z"
   },
   {
    "duration": 11,
    "start_time": "2025-01-01T18:38:49.926Z"
   },
   {
    "duration": 10,
    "start_time": "2025-01-01T18:38:49.938Z"
   },
   {
    "duration": 166,
    "start_time": "2025-01-01T18:38:49.951Z"
   },
   {
    "duration": 771,
    "start_time": "2025-01-01T18:39:04.578Z"
   },
   {
    "duration": 84,
    "start_time": "2025-01-01T18:39:05.351Z"
   },
   {
    "duration": 10,
    "start_time": "2025-01-01T18:39:05.436Z"
   },
   {
    "duration": 21,
    "start_time": "2025-01-01T18:39:05.449Z"
   },
   {
    "duration": 11,
    "start_time": "2025-01-01T18:39:05.471Z"
   },
   {
    "duration": 6,
    "start_time": "2025-01-01T18:39:05.484Z"
   },
   {
    "duration": 39,
    "start_time": "2025-01-01T18:39:05.492Z"
   },
   {
    "duration": 9,
    "start_time": "2025-01-01T18:39:05.533Z"
   },
   {
    "duration": 14,
    "start_time": "2025-01-01T18:39:05.544Z"
   },
   {
    "duration": 11,
    "start_time": "2025-01-01T18:39:05.561Z"
   },
   {
    "duration": 7,
    "start_time": "2025-01-01T18:39:05.573Z"
   },
   {
    "duration": 47,
    "start_time": "2025-01-01T18:39:05.581Z"
   },
   {
    "duration": 12,
    "start_time": "2025-01-01T18:39:05.629Z"
   },
   {
    "duration": 156,
    "start_time": "2025-01-01T18:39:05.642Z"
   },
   {
    "duration": 5,
    "start_time": "2025-01-01T18:40:52.365Z"
   },
   {
    "duration": 5,
    "start_time": "2025-01-01T18:41:59.899Z"
   },
   {
    "duration": 4,
    "start_time": "2025-01-01T18:42:14.920Z"
   },
   {
    "duration": 22,
    "start_time": "2025-01-01T18:43:30.017Z"
   },
   {
    "duration": 4,
    "start_time": "2025-01-01T18:44:28.912Z"
   },
   {
    "duration": 11,
    "start_time": "2025-01-01T18:45:22.624Z"
   },
   {
    "duration": 707,
    "start_time": "2025-01-01T18:48:48.259Z"
   },
   {
    "duration": 79,
    "start_time": "2025-01-01T18:48:48.968Z"
   },
   {
    "duration": 10,
    "start_time": "2025-01-01T18:48:49.049Z"
   },
   {
    "duration": 20,
    "start_time": "2025-01-01T18:48:49.061Z"
   },
   {
    "duration": 11,
    "start_time": "2025-01-01T18:48:49.083Z"
   },
   {
    "duration": 31,
    "start_time": "2025-01-01T18:48:49.095Z"
   },
   {
    "duration": 12,
    "start_time": "2025-01-01T18:48:49.128Z"
   },
   {
    "duration": 9,
    "start_time": "2025-01-01T18:48:49.142Z"
   },
   {
    "duration": 14,
    "start_time": "2025-01-01T18:48:49.152Z"
   },
   {
    "duration": 11,
    "start_time": "2025-01-01T18:48:49.169Z"
   },
   {
    "duration": 6,
    "start_time": "2025-01-01T18:48:49.181Z"
   },
   {
    "duration": 46,
    "start_time": "2025-01-01T18:48:49.188Z"
   },
   {
    "duration": 12,
    "start_time": "2025-01-01T18:48:49.235Z"
   },
   {
    "duration": 6,
    "start_time": "2025-01-01T18:48:49.249Z"
   },
   {
    "duration": 168,
    "start_time": "2025-01-01T18:48:49.257Z"
   },
   {
    "duration": 6,
    "start_time": "2025-01-01T18:49:18.565Z"
   },
   {
    "duration": 5,
    "start_time": "2025-01-01T18:54:29.140Z"
   },
   {
    "duration": 262,
    "start_time": "2025-01-01T18:54:37.233Z"
   },
   {
    "duration": 15,
    "start_time": "2025-01-01T18:54:51.368Z"
   },
   {
    "duration": 8,
    "start_time": "2025-01-01T19:00:48.572Z"
   },
   {
    "duration": 17,
    "start_time": "2025-01-01T19:01:59.051Z"
   },
   {
    "duration": 298,
    "start_time": "2025-01-01T19:02:48.026Z"
   },
   {
    "duration": 740,
    "start_time": "2025-01-01T19:14:32.581Z"
   },
   {
    "duration": 82,
    "start_time": "2025-01-01T19:14:33.324Z"
   },
   {
    "duration": 16,
    "start_time": "2025-01-01T19:14:33.408Z"
   },
   {
    "duration": 20,
    "start_time": "2025-01-01T19:14:33.426Z"
   },
   {
    "duration": 10,
    "start_time": "2025-01-01T19:14:33.449Z"
   },
   {
    "duration": 6,
    "start_time": "2025-01-01T19:14:33.461Z"
   },
   {
    "duration": 11,
    "start_time": "2025-01-01T19:14:33.469Z"
   },
   {
    "duration": 8,
    "start_time": "2025-01-01T19:14:33.481Z"
   },
   {
    "duration": 44,
    "start_time": "2025-01-01T19:14:33.491Z"
   },
   {
    "duration": 216,
    "start_time": "2025-01-01T19:14:33.537Z"
   },
   {
    "duration": 6,
    "start_time": "2025-01-01T19:14:33.754Z"
   },
   {
    "duration": 11,
    "start_time": "2025-01-01T19:14:33.762Z"
   },
   {
    "duration": 328,
    "start_time": "2025-01-01T19:14:33.774Z"
   },
   {
    "duration": 735,
    "start_time": "2025-01-01T19:15:51.429Z"
   },
   {
    "duration": 94,
    "start_time": "2025-01-01T19:15:52.166Z"
   },
   {
    "duration": 11,
    "start_time": "2025-01-01T19:15:52.262Z"
   },
   {
    "duration": 23,
    "start_time": "2025-01-01T19:15:52.275Z"
   },
   {
    "duration": 27,
    "start_time": "2025-01-01T19:15:52.300Z"
   },
   {
    "duration": 7,
    "start_time": "2025-01-01T19:15:52.329Z"
   },
   {
    "duration": 12,
    "start_time": "2025-01-01T19:15:52.337Z"
   },
   {
    "duration": 8,
    "start_time": "2025-01-01T19:15:52.351Z"
   },
   {
    "duration": 14,
    "start_time": "2025-01-01T19:15:52.360Z"
   },
   {
    "duration": 268,
    "start_time": "2025-01-01T19:15:52.377Z"
   },
   {
    "duration": 3,
    "start_time": "2025-01-01T19:15:52.647Z"
   },
   {
    "duration": 12,
    "start_time": "2025-01-01T19:15:52.651Z"
   },
   {
    "duration": 324,
    "start_time": "2025-01-01T19:15:52.665Z"
   },
   {
    "duration": 817,
    "start_time": "2025-01-01T19:16:51.648Z"
   },
   {
    "duration": 82,
    "start_time": "2025-01-01T19:16:52.469Z"
   },
   {
    "duration": 7,
    "start_time": "2025-01-01T19:16:52.553Z"
   },
   {
    "duration": 21,
    "start_time": "2025-01-01T19:16:52.561Z"
   },
   {
    "duration": 10,
    "start_time": "2025-01-01T19:16:52.585Z"
   },
   {
    "duration": 32,
    "start_time": "2025-01-01T19:16:52.596Z"
   },
   {
    "duration": 14,
    "start_time": "2025-01-01T19:16:52.630Z"
   },
   {
    "duration": 9,
    "start_time": "2025-01-01T19:16:52.645Z"
   },
   {
    "duration": 14,
    "start_time": "2025-01-01T19:16:52.656Z"
   },
   {
    "duration": 253,
    "start_time": "2025-01-01T19:16:52.673Z"
   },
   {
    "duration": 12,
    "start_time": "2025-01-01T19:16:52.928Z"
   },
   {
    "duration": 312,
    "start_time": "2025-01-01T19:16:52.942Z"
   },
   {
    "duration": 712,
    "start_time": "2025-01-01T20:38:58.104Z"
   },
   {
    "duration": 843,
    "start_time": "2025-01-01T20:41:15.909Z"
   },
   {
    "duration": 777,
    "start_time": "2025-01-01T20:41:23.670Z"
   },
   {
    "duration": 109,
    "start_time": "2025-01-01T20:41:24.450Z"
   },
   {
    "duration": 7,
    "start_time": "2025-01-01T20:41:24.561Z"
   },
   {
    "duration": 27,
    "start_time": "2025-01-01T20:41:24.571Z"
   },
   {
    "duration": 24,
    "start_time": "2025-01-01T20:41:24.601Z"
   },
   {
    "duration": 7,
    "start_time": "2025-01-01T20:41:24.627Z"
   },
   {
    "duration": 12,
    "start_time": "2025-01-01T20:41:24.636Z"
   },
   {
    "duration": 9,
    "start_time": "2025-01-01T20:41:24.650Z"
   },
   {
    "duration": 15,
    "start_time": "2025-01-01T20:41:24.660Z"
   },
   {
    "duration": 263,
    "start_time": "2025-01-01T20:41:24.678Z"
   },
   {
    "duration": 297,
    "start_time": "2025-01-01T20:41:24.943Z"
   },
   {
    "duration": 297,
    "start_time": "2025-01-01T20:41:50.578Z"
   },
   {
    "duration": 1022,
    "start_time": "2025-01-01T20:42:18.640Z"
   },
   {
    "duration": 31,
    "start_time": "2025-01-01T20:42:25.390Z"
   },
   {
    "duration": 719,
    "start_time": "2025-01-01T20:42:32.095Z"
   },
   {
    "duration": 136,
    "start_time": "2025-01-01T20:42:32.817Z"
   },
   {
    "duration": 9,
    "start_time": "2025-01-01T20:42:32.955Z"
   },
   {
    "duration": 28,
    "start_time": "2025-01-01T20:42:32.965Z"
   },
   {
    "duration": 12,
    "start_time": "2025-01-01T20:42:32.996Z"
   },
   {
    "duration": 20,
    "start_time": "2025-01-01T20:42:33.009Z"
   },
   {
    "duration": 12,
    "start_time": "2025-01-01T20:42:33.031Z"
   },
   {
    "duration": 9,
    "start_time": "2025-01-01T20:42:33.045Z"
   },
   {
    "duration": 14,
    "start_time": "2025-01-01T20:42:33.056Z"
   },
   {
    "duration": 268,
    "start_time": "2025-01-01T20:42:33.071Z"
   },
   {
    "duration": 318,
    "start_time": "2025-01-01T20:42:33.343Z"
   },
   {
    "duration": 462,
    "start_time": "2025-01-01T20:43:30.346Z"
   },
   {
    "duration": 2578,
    "start_time": "2025-01-02T18:34:52.861Z"
   },
   {
    "duration": 107,
    "start_time": "2025-01-02T18:34:55.442Z"
   },
   {
    "duration": 6,
    "start_time": "2025-01-02T18:34:55.553Z"
   },
   {
    "duration": 30,
    "start_time": "2025-01-02T18:34:55.561Z"
   },
   {
    "duration": 11,
    "start_time": "2025-01-02T18:34:55.594Z"
   },
   {
    "duration": 7,
    "start_time": "2025-01-02T18:34:55.607Z"
   },
   {
    "duration": 16,
    "start_time": "2025-01-02T18:34:55.633Z"
   },
   {
    "duration": 11,
    "start_time": "2025-01-02T18:34:55.651Z"
   },
   {
    "duration": 19,
    "start_time": "2025-01-02T18:34:55.664Z"
   },
   {
    "duration": 284,
    "start_time": "2025-01-02T18:34:55.685Z"
   },
   {
    "duration": 237,
    "start_time": "2025-01-02T18:34:55.971Z"
   },
   {
    "duration": 375,
    "start_time": "2025-01-02T18:37:56.605Z"
   }
  ],
  "kernelspec": {
   "display_name": "Python 3 (ipykernel)",
   "language": "python",
   "name": "python3"
  },
  "language_info": {
   "codemirror_mode": {
    "name": "ipython",
    "version": 3
   },
   "file_extension": ".py",
   "mimetype": "text/x-python",
   "name": "python",
   "nbconvert_exporter": "python",
   "pygments_lexer": "ipython3",
   "version": "3.9.19"
  },
  "toc": {
   "base_numbering": 1,
   "nav_menu": {},
   "number_sections": true,
   "sideBar": true,
   "skip_h1_title": true,
   "title_cell": "Table of Contents",
   "title_sidebar": "Contents",
   "toc_cell": false,
   "toc_position": {},
   "toc_section_display": true,
   "toc_window_display": false
  }
 },
 "nbformat": 4,
 "nbformat_minor": 2
}
