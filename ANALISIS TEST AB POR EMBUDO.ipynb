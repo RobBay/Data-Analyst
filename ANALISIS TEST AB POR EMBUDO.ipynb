{
 "cells": [
  {
   "cell_type": "markdown",
   "metadata": {},
   "source": [
    "# Análisis de resultados de la Prueba A/B sobre conversión de usuarios"
   ]
  },
  {
   "cell_type": "markdown",
   "metadata": {},
   "source": [
    "Evaluar las diferencias en las tasas de conversión entre los grupos A y B para identificar cuál ofrece una experiencia más efectiva en el proceso de compra"
   ]
  },
  {
   "cell_type": "markdown",
   "metadata": {},
   "source": [
    "## Librerias y datos a usar"
   ]
  },
  {
   "cell_type": "code",
   "execution_count": 1,
   "metadata": {},
   "outputs": [],
   "source": [
    "import pandas as pd\n",
    "import numpy as np\n",
    "import matplotlib.pyplot as plt\n",
    "import seaborn as sns\n",
    "from scipy.stats import norm\n",
    "from statsmodels.stats.weightstats import ztest"
   ]
  },
  {
   "cell_type": "code",
   "execution_count": 2,
   "metadata": {},
   "outputs": [
    {
     "name": "stdout",
     "output_type": "stream",
     "text": [
      "Info de marketing_events_us\n",
      "<class 'pandas.core.frame.DataFrame'>\n",
      "RangeIndex: 14 entries, 0 to 13\n",
      "Data columns (total 4 columns):\n",
      " #   Column     Non-Null Count  Dtype \n",
      "---  ------     --------------  ----- \n",
      " 0   name       14 non-null     object\n",
      " 1   regions    14 non-null     object\n",
      " 2   start_dt   14 non-null     object\n",
      " 3   finish_dt  14 non-null     object\n",
      "dtypes: object(4)\n",
      "memory usage: 576.0+ bytes\n",
      "Info de users\n",
      "<class 'pandas.core.frame.DataFrame'>\n",
      "RangeIndex: 58703 entries, 0 to 58702\n",
      "Data columns (total 4 columns):\n",
      " #   Column      Non-Null Count  Dtype \n",
      "---  ------      --------------  ----- \n",
      " 0   user_id     58703 non-null  object\n",
      " 1   first_date  58703 non-null  object\n",
      " 2   region      58703 non-null  object\n",
      " 3   device      58703 non-null  object\n",
      "dtypes: object(4)\n",
      "memory usage: 1.8+ MB\n",
      "Info de event\n",
      "<class 'pandas.core.frame.DataFrame'>\n",
      "RangeIndex: 423761 entries, 0 to 423760\n",
      "Data columns (total 4 columns):\n",
      " #   Column      Non-Null Count   Dtype  \n",
      "---  ------      --------------   -----  \n",
      " 0   user_id     423761 non-null  object \n",
      " 1   event_dt    423761 non-null  object \n",
      " 2   event_name  423761 non-null  object \n",
      " 3   details     60314 non-null   float64\n",
      "dtypes: float64(1), object(3)\n",
      "memory usage: 12.9+ MB\n",
      "Info de participants\n",
      "<class 'pandas.core.frame.DataFrame'>\n",
      "RangeIndex: 14525 entries, 0 to 14524\n",
      "Data columns (total 3 columns):\n",
      " #   Column   Non-Null Count  Dtype \n",
      "---  ------   --------------  ----- \n",
      " 0   user_id  14525 non-null  object\n",
      " 1   group    14525 non-null  object\n",
      " 2   ab_test  14525 non-null  object\n",
      "dtypes: object(3)\n",
      "memory usage: 340.6+ KB\n"
     ]
    }
   ],
   "source": [
    "# Cargar los datos y evañuar informacion inicial\n",
    "events = pd.read_csv('final_ab_events_upd_us')\n",
    "users = pd.read_csv('final_ab_new_users_upd_us')\n",
    "participants = pd.read_csv('final_ab_participants_upd_us')\n",
    "marketing_events = pd.read_csv('ab_project_marketing_events_us')\n",
    "\n",
    "print('Info de marketing_events_us')\n",
    "marketing_events.info()\n",
    "print('Info de users')\n",
    "users.info()\n",
    "print('Info de event')\n",
    "events.info()\n",
    "print('Info de participants')\n",
    "participants.info()"
   ]
  },
  {
   "cell_type": "markdown",
   "metadata": {},
   "source": [
    "<div class=\"alert alert-block alert-danger\">\n",
    "<b>Comentario del revisor (1ra Iteracion)</b> <a class=“tocSkip”></a>\n",
    "\n",
    "Por favor, corrige esta parte, estás cargando los datos de maneras diferentes y una de ellas va a fallar debido al path que estás incluyendo la que usa los links es perfecta para que tu notebook pueda ser reproducido en cualquier equipo, asegúrate que los links sean los correctos\n",
    "</div>"
   ]
  },
  {
   "cell_type": "markdown",
   "metadata": {},
   "source": [
    "<div class=\"alert alert-block alert-info\">\n",
    "<b>Respuesta del estudiante</b> <a class=“tocSkip”></a>\n",
    "Hola  Patricio, confirmo quite los codigos de descarga dejandolos guardados localmente en este Notebook ya que intente dejarlo por URL pero me sale  HTTP Error 419: Unknown\n",
    "</div>"
   ]
  },
  {
   "cell_type": "markdown",
   "metadata": {},
   "source": [
    "<div class=\"alert alert-block alert-success\">\n",
    "<b>Comentario del revisor (2da Iteracion)</b> <a class=“tocSkip”></a>\n",
    "\n",
    "Entiendo Daniel, siempre hay que procurar que la ejecución del notebook sea correcta por eso te mencioné de esa parte para que quede mejor el proyecto\n",
    "</div>"
   ]
  },
  {
   "cell_type": "markdown",
   "metadata": {},
   "source": [
    "## Objetivos del estudio"
   ]
  },
  {
   "cell_type": "markdown",
   "metadata": {},
   "source": [
    "- Evaluar el impacto de un sistema de recomendaciones mejorado en el comportamiento de los usuarios.\n",
    "- Analizar si los cambios propuestos incrementan las conversiones en cada etapa del embudo:\n",
    "-- product_page → product_card → purchase.\n",
    "- Determinar si el aumento en las conversiones alcanza al menos un 10% en cada etapa del embudo."
   ]
  },
  {
   "cell_type": "markdown",
   "metadata": {},
   "source": [
    "## Exploracion de los datos"
   ]
  },
  {
   "cell_type": "markdown",
   "metadata": {},
   "source": [
    "### ¿Es necesario convertir los tipos?\n",
    "Convertir columnas de fechas (start_dt, finish_dt, first_date, event_dt) al formato datetime."
   ]
  },
  {
   "cell_type": "code",
   "execution_count": 3,
   "metadata": {},
   "outputs": [],
   "source": [
    "# Convertir fechas\n",
    "marketing_events['start_dt'] = pd.to_datetime(marketing_events['start_dt'])\n",
    "marketing_events['finish_dt'] = pd.to_datetime(marketing_events['finish_dt'])\n",
    "users['first_date'] = pd.to_datetime(users['first_date'])\n",
    "events['event_dt'] = pd.to_datetime(events['event_dt'])\n",
    "\n",
    "# Filtrar datos para la región UE\n",
    "users = users[users['region'] == 'EU']\n",
    "\n",
    "# Filtrar usuarios que participaron en la prueba\n",
    "ab_test_users = participants.merge(users, on='user_id')"
   ]
  },
  {
   "cell_type": "markdown",
   "metadata": {},
   "source": [
    "### ¿Hay valores ausentes o duplicados? Si es así, ¿cómo los caracterizarías?"
   ]
  },
  {
   "cell_type": "code",
   "execution_count": 4,
   "metadata": {},
   "outputs": [
    {
     "name": "stdout",
     "output_type": "stream",
     "text": [
      "\n",
      "events:\n",
      "Duplicados: 0\n",
      "Valores ausentes: 363447\n",
      "\n",
      "users:\n",
      "Duplicados: 0\n",
      "Valores ausentes: 0\n",
      "\n",
      "participants:\n",
      "Duplicados: 0\n",
      "Valores ausentes: 0\n",
      "\n",
      "marketing_events:\n",
      "Duplicados: 0\n",
      "Valores ausentes: 0\n"
     ]
    }
   ],
   "source": [
    "# Verificación de valores duplicados y ausentes\n",
    "for df, name in zip([events, users, participants, marketing_events], ['events', 'users', 'participants', 'marketing_events']):\n",
    "    print(f\"\\n{name}:\")\n",
    "    print(f\"Duplicados: {df.duplicated().sum()}\")\n",
    "    print(f\"Valores ausentes: {df.isnull().sum().sum()}\")"
   ]
  },
  {
   "cell_type": "markdown",
   "metadata": {},
   "source": [
    "Hay valores ausentes en la columna details del conjunto de datos de events (363,447). Sin embargo, estos no afectan directamente las métricas de conversión asociados a la columna event_name."
   ]
  },
  {
   "cell_type": "markdown",
   "metadata": {},
   "source": [
    "## Lleva a cabo el análisis exploratorio de datos:"
   ]
  },
  {
   "cell_type": "markdown",
   "metadata": {},
   "source": [
    "- Estudia la conversión en las diferentes etapas del embudo.\n",
    "- ¿El número de eventos por usuario está distribuido equitativamente entre las muestras?\n",
    "- ¿Hay usuarios que están presentes en ambas muestras?\n",
    "- ¿Cómo se distribuye el número de eventos entre los días?\n",
    "- ¿Hay alguna peculiaridad en los datos que hay que tener en cuenta antes de iniciar la prueba A/B?"
   ]
  },
  {
   "cell_type": "markdown",
   "metadata": {},
   "source": [
    "### Estudia la conversión en las diferentes etapas del embudo."
   ]
  },
  {
   "cell_type": "code",
   "execution_count": 5,
   "metadata": {},
   "outputs": [
    {
     "name": "stdout",
     "output_type": "stream",
     "text": [
      "Conversion Rates:\n",
      "{'A': {'login': 0.9998706506273445, 'product_page': 0.6613633423877894, 'product_cart': 0.31574181865217954, 'purchase': 0.34187039192859914}, 'B': {'login': 0.9998375040623985, 'product_page': 0.6428339291517712, 'product_cart': 0.32921676958076046, 'purchase': 0.3251543711407215}}\n"
     ]
    }
   ],
   "source": [
    "# Filtrar datos según las especificaciones de la prueba\n",
    "# Fechas de interés\n",
    "start_date = '2020-12-07'\n",
    "end_date = '2021-01-01'\n",
    "\n",
    "# Filtrar usuarios de la región UE\n",
    "users_filtered = users[users['region'] == 'EU']\n",
    "\n",
    "# Unir usuarios con participantes\n",
    "merged_data = participants.merge(users_filtered, on='user_id', how='inner')\n",
    "\n",
    "# Filtrar eventos según usuarios y rango de fechas\n",
    "filtered_events = events[(events['user_id'].isin(merged_data['user_id'])) &\n",
    "                         (events['event_dt'].between(start_date, end_date))]\n",
    "\n",
    "# Analizar conversiones por grupo de prueba\n",
    "conversion_metrics = ['login', 'product_page', 'product_cart', 'purchase']\n",
    "group_data = merged_data[['user_id', 'group']].merge(filtered_events, on='user_id')\n",
    "\n",
    "\n",
    "\n",
    "# Calcular conversiones\n",
    "conversion_rates = {}\n",
    "for group in ['A', 'B']:\n",
    "    group_events = group_data[group_data['group'] == group]\n",
    "    total_users = group_events['user_id'].nunique()\n",
    "    conversion_rates[group] = {\n",
    "        metric: group_events[group_events['event_name'] == metric]['user_id'].nunique() / total_users\n",
    "        for metric in conversion_metrics\n",
    "    }\n",
    "    \n",
    "# Resultados    \n",
    "print(\"Conversion Rates:\")\n",
    "print(conversion_rates)"
   ]
  },
  {
   "cell_type": "markdown",
   "metadata": {},
   "source": [
    "Grupo A:\n",
    "- login: 99.99% de los usuarios iniciaron sesión.\n",
    "- product_page: 66.14% de los usuarios interactuaron con la página del producto.\n",
    "- product_cart: 31.57% de los usuarios añadieron un producto al carrito.\n",
    "- purchase: 34.19% de los usuarios realizaron una compra.\n",
    "\n",
    "Grupo B:\n",
    "- login: 99.98% de los usuarios iniciaron sesión.\n",
    "- product_page: 64.28% de los usuarios interactuaron con la página del producto.\n",
    "- product_cart: 32.92% de los usuarios añadieron un producto al carrito.\n",
    "- purchase: 32.52% de los usuarios realizaron una compra.\n"
   ]
  },
  {
   "cell_type": "code",
   "execution_count": 6,
   "metadata": {},
   "outputs": [
    {
     "data": {
      "image/png": "[encoded data removed]",
      "text/plain": [
       "<Figure size 1000x600 with 1 Axes>"
      ]
     },
     "metadata": {},
     "output_type": "display_data"
    }
   ],
   "source": [
    "# Datos de conversión\n",
    "metrics = ['login', 'product_page', 'product_cart', 'purchase']\n",
    "groups = ['A', 'B']\n",
    "\n",
    "# Organizar datos para la gráfica\n",
    "conversion_data = {\n",
    "    metric: [conversion_rates['A'][metric], conversion_rates['B'][metric]]\n",
    "    for metric in metrics\n",
    "}\n",
    "\n",
    "# Crear el gráfico de barras\n",
    "x = np.arange(len(metrics))  # Posiciones de las métricas\n",
    "width = 0.35  # Ancho de las barras\n",
    "\n",
    "fig, ax = plt.subplots(figsize=(10, 6))\n",
    "\n",
    "bars1 = ax.bar(x - width/2, [conversion_data[metric][0] for metric in metrics], width, label='Grupo A')\n",
    "bars2 = ax.bar(x + width/2, [conversion_data[metric][1] for metric in metrics], width, label='Grupo B')\n",
    "\n",
    "# Añadir etiquetas, título y leyenda\n",
    "ax.set_xlabel('Etapas de Conversión')\n",
    "ax.set_ylabel('Porcentaje de Conversión')\n",
    "ax.set_title('Porcentaje de Conversión por Etapa y Grupo')\n",
    "ax.set_xticks(x)\n",
    "ax.set_xticklabels(metrics)\n",
    "ax.legend()\n",
    "\n",
    "# Mostrar porcentajes en las barras\n",
    "def add_labels(bars):\n",
    "    for bar in bars:\n",
    "        height = bar.get_height()\n",
    "        ax.text(bar.get_x() + bar.get_width()/2, height + 0.01, f'{height:.2%}', ha='center', va='bottom')\n",
    "\n",
    "add_labels(bars1)\n",
    "add_labels(bars2)\n",
    "\n",
    "plt.tight_layout()\n",
    "plt.show()\n"
   ]
  },
  {
   "cell_type": "markdown",
   "metadata": {},
   "source": [
    "<div class=\"alert alert-block alert-warning\">\n",
    "<b>Comentario del revisor (1ra Iteracion)</b> <a class=“tocSkip”></a>\n",
    "\n",
    "Muy bien calculado la parte de las conversiones! También podrías mostrar una gráfica para complementar la explicación de los pasos que siguen los usuarios en el embudo\n",
    "</div>"
   ]
  },
  {
   "cell_type": "markdown",
   "metadata": {},
   "source": [
    "<div class=\"alert alert-block alert-info\">\n",
    "<b>Respuesta del estudiante</b> <a class=“tocSkip”></a>\n",
    "Confirmo adicion del gráfico asociada a cada etapa del enbudo\n",
    "</div>"
   ]
  },
  {
   "cell_type": "markdown",
   "metadata": {},
   "source": [
    "<div class=\"alert alert-block alert-success\">\n",
    "<b>Comentario del revisor (2da Iteracion)</b> <a class=“tocSkip”></a>\n",
    "\n",
    "Excelente! Siempre es mejor comunicar los análisis mediante gráficos que sólo mostrando números ya que hay personas que no tienen un background técnico y puede ser un poco difícil de interpretar\n",
    "</div>"
   ]
  },
  {
   "cell_type": "markdown",
   "metadata": {},
   "source": [
    "### ¿El número de eventos por usuario está distribuido equitativamente entre las muestras?"
   ]
  },
  {
   "cell_type": "code",
   "execution_count": 7,
   "metadata": {},
   "outputs": [
    {
     "data": {
      "image/png": "[encoded data removed]",
      "text/plain": [
       "<Figure size 640x480 with 1 Axes>"
      ]
     },
     "metadata": {},
     "output_type": "display_data"
    }
   ],
   "source": [
    "# Pregunta 1: Distribución de eventos por usuario en cada grupo\n",
    "events_test = events.merge(participants, on='user_id')\n",
    "events_per_user = events_test.groupby(['user_id', 'group'])['event_name'].count().reset_index()\n",
    "\n",
    "sns.boxplot(data=events_per_user, x='group', y='event_name')\n",
    "plt.title('Distribución de eventos por usuario')\n",
    "plt.xlabel('Grupo')\n",
    "plt.ylabel('Número de eventos')\n",
    "plt.show()\n"
   ]
  },
  {
   "cell_type": "markdown",
   "metadata": {},
   "source": [
    "Visualmete se evidencia que los grupos estan divididos de forma equitativa"
   ]
  },
  {
   "cell_type": "markdown",
   "metadata": {},
   "source": [
    "### ¿Hay usuarios que están presentes en ambas muestras?"
   ]
  },
  {
   "cell_type": "code",
   "execution_count": 8,
   "metadata": {},
   "outputs": [
    {
     "name": "stdout",
     "output_type": "stream",
     "text": [
      "Número de usuarios en ambos grupos: 441\n"
     ]
    }
   ],
   "source": [
    "overlapping_users = participants.groupby('user_id')['group'].nunique().reset_index()\n",
    "overlapping_users = overlapping_users[overlapping_users['group'] > 1]\n",
    "print(f\"Número de usuarios en ambos grupos: {len(overlapping_users)}\")"
   ]
  },
  {
   "cell_type": "markdown",
   "metadata": {},
   "source": [
    "### ¿Cómo se distribuye el número de eventos entre los días?"
   ]
  },
  {
   "cell_type": "code",
   "execution_count": 9,
   "metadata": {},
   "outputs": [
    {
     "data": {
      "image/png": "[encoded data removed]",
      "text/plain": [
       "<Figure size 640x480 with 1 Axes>"
      ]
     },
     "metadata": {},
     "output_type": "display_data"
    }
   ],
   "source": [
    "events_test['event_date'] = events_test['event_dt'].dt.date\n",
    "events_per_day = events_test.groupby(['event_date', 'group'])['event_name'].count().reset_index()\n",
    "\n",
    "sns.lineplot(data=events_per_day, x='event_date', y='event_name', hue='group')\n",
    "plt.title('Distribución diaria de eventos por grupo')\n",
    "plt.xlabel('Fecha')\n",
    "plt.ylabel('Número de eventos')\n",
    "plt.xticks(rotation=45)\n",
    "plt.show()"
   ]
  },
  {
   "cell_type": "markdown",
   "metadata": {},
   "source": [
    "Se evidencia por aprte del grupo A un mayor numero de eventos a pesar de presentar comportamiento similar al grupo  B"
   ]
  },
  {
   "cell_type": "markdown",
   "metadata": {},
   "source": [
    "<div class=\"alert alert-block alert-success\">\n",
    "<b>Comentario del revisor (1ra Iteracion)</b> <a class=“tocSkip”></a>\n",
    "\n",
    "Correcto! Las gráficas son claras para revisar cómo se distribuyen los datos a lo largo del tiempo y hacerlo por cada grupo es lo ideal en este tipo de análisis para poder ver las diferencias\n",
    "</div>"
   ]
  },
  {
   "cell_type": "markdown",
   "metadata": {},
   "source": [
    "### ¿Hay alguna peculiaridad en los datos que hay que tener en cuenta antes de iniciar la prueba A/B?"
   ]
  },
  {
   "cell_type": "code",
   "execution_count": 10,
   "metadata": {},
   "outputs": [
    {
     "name": "stdout",
     "output_type": "stream",
     "text": [
      "Usuarios fuera del rango temporal: 1002\n",
      "Número de eventos duplicados: 0\n",
      "Usuarios de otras regiones: 0\n"
     ]
    }
   ],
   "source": [
    "# Usuarios fuera del rango temporal especificado\n",
    "out_of_range_users = ab_test_users[(ab_test_users['first_date'] < '2020-12-07') | (ab_test_users['first_date'] > '2020-12-21')]\n",
    "print(f\"Usuarios fuera del rango temporal: {len(out_of_range_users)}\")\n",
    "\n",
    "# Eventos duplicados\n",
    "duplicated_events = events_test.duplicated().sum()\n",
    "print(f\"Número de eventos duplicados: {duplicated_events}\")\n",
    "\n",
    "# Usuarios en regiones distintas a la UE\n",
    "non_eu_users = participants.merge(users, on='user_id')\n",
    "non_eu_users = non_eu_users[non_eu_users['region'] != 'EU']\n",
    "print(f\"Usuarios de otras regiones: {len(non_eu_users)}\")"
   ]
  },
  {
   "cell_type": "markdown",
   "metadata": {},
   "source": [
    "No se evidencian peculiaridades ademas del total de usuarios que no se tienen en cuenta por los rangos de fechas definidos"
   ]
  },
  {
   "cell_type": "markdown",
   "metadata": {},
   "source": [
    "## Evaluar los resultados de la prueba A/B:"
   ]
  },
  {
   "cell_type": "markdown",
   "metadata": {},
   "source": [
    "### ¿Qué puedes decir sobre los resultados de la prueba A/B?"
   ]
  },
  {
   "cell_type": "markdown",
   "metadata": {},
   "source": [
    "- El grupo A tiene un mejor rendimiento general en términos de interacción con la página del producto y compras finales, lo que podría justificar implementar las estrategias de esta variante a mayor escala.\n",
    "- Las etapas de inicio de sesión y adición al carrito no presentan diferencias significativas, por lo que no requieren modificaciones inmediatas.\n",
    "- Se recomienda profundizar en los resultados del grupo A para identificar las claves de su éxito y explorar posibles mejoras en la etapa de adición al carrito."
   ]
  },
  {
   "cell_type": "markdown",
   "metadata": {},
   "source": [
    "### Utiliza una prueba z para comprobar la diferencia estadística entre las proporciones."
   ]
  },
  {
   "cell_type": "code",
   "execution_count": 11,
   "metadata": {},
   "outputs": [
    {
     "name": "stdout",
     "output_type": "stream",
     "text": [
      "\n",
      "Z-Test Results:\n",
      "login: Z=0.16, p-value=0.8716\n",
      "product_page: Z=2.28, p-value=0.0227\n",
      "product_cart: Z=-1.69, p-value=0.0913\n",
      "purchase: Z=2.07, p-value=0.0381\n"
     ]
    }
   ],
   "source": [
    "# Comparar conversiones (prueba Z)\n",
    "def z_test(p1, p2, n1, n2):\n",
    "    p_combined = (p1 * n1 + p2 * n2) / (n1 + n2)\n",
    "    se = np.sqrt(p_combined * (1 - p_combined) * (1 / n1 + 1 / n2))\n",
    "    z = (p1 - p2) / se\n",
    "    p_value = 2 * (1 - norm.cdf(abs(z)))\n",
    "    return z, p_value\n",
    "\n",
    "z_test_results = {}\n",
    "for metric in conversion_metrics:\n",
    "    p1, p2 = conversion_rates['A'][metric], conversion_rates['B'][metric]\n",
    "    n1 = merged_data[merged_data['group'] == 'A']['user_id'].nunique()\n",
    "    n2 = merged_data[merged_data['group'] == 'B']['user_id'].nunique()\n",
    "    z_test_results[metric] = z_test(p1, p2, n1, n2)\n",
    "    \n",
    "print(\"\\nZ-Test Results:\")\n",
    "for metric, (z, p) in z_test_results.items():\n",
    "    print(f\"{metric}: Z={z:.2f}, p-value={p:.4f}\")"
   ]
  },
  {
   "cell_type": "markdown",
   "metadata": {},
   "source": [
    "<div class=\"alert alert-block alert-success\">\n",
    "<b>Comentario del revisor (1ra Iteracion)</b> <a class=“tocSkip”></a>\n",
    "\n",
    "Muy bien! Revisar por cada etapa del embudo ayuda a entender si en algún punto los usuarios tienen una experiencia diferente que pueda alterar el resultado final del experimento\n",
    "</div>"
   ]
  },
  {
   "cell_type": "markdown",
   "metadata": {},
   "source": [
    "## Describe tus conclusiones con respecto a la etapa EDA y los resultados de la prueba A/B."
   ]
  },
  {
   "cell_type": "markdown",
   "metadata": {},
   "source": [
    "### Conclusiones sobre la etapa de Exploración de Datos (EDA)\n",
    "\n",
    "Calidad de los datos:\n",
    "\n",
    "- No se encontraron duplicados en ninguna tabla, lo que sugiere que los datos estaban bien estructurados en este aspecto.\n",
    "- Los valores ausentes eran significativos en la tabla de eventos, particularmente en la columna details, pero no afectaron las métricas clave necesarias para el análisis.\n",
    "\n",
    "Estructura y consistencia:\n",
    "\n",
    "- Los datos estaban en un formato adecuado para realizar el análisis, con tipos de datos correctamente ajustados.\n",
    "- Las categorías de eventos (login, product_page, product_cart, purchase) eran claras y suficientes para analizar el comportamiento de los usuarios a lo largo del embudo de conversión.\n",
    "\n",
    "Análisis inicial del embudo de conversión:\n",
    "\n",
    "- Los datos mostraron una clara disminución en las tasas de conversión a medida que los usuarios avanzaban en el embudo, lo que es típico en este tipo de análisis.\n",
    "- Las tasas de conversión iniciales para login eran casi perfectas en ambos grupos, indicando que casi todos los usuarios interactuaron con el sistema al menos una vez.\n"
   ]
  },
  {
   "cell_type": "markdown",
   "metadata": {},
   "source": [
    "### Conclusiones sobre la Prueba A/B\n",
    "\n",
    "Tasas de conversión entre los grupos A y B:\n",
    "\n",
    "- El grupo A mostró mejores tasas de conversión en las etapas de interacción con el producto (product_page) y compra (purchase).\n",
    "- En contraste, el grupo B tuvo una ligera ventaja en la etapa de adición al carrito (product_cart), aunque esta diferencia no fue estadísticamente significativa.\n",
    "\n",
    "\n",
    "Resultados estadísticos:\n",
    "\n",
    "- Inicio de sesión (login): No hubo diferencias significativas entre los grupos (p=0.8716), indicando que ambos se comportaron de manera muy similar en esta etapa inicial.\n",
    "\n",
    "- Interacción con la página del producto (product_page): Las diferencias fueron significativas (p=0.0227), sugiriendo que el grupo A tuvo una mejor interacción con los productos.\n",
    "\n",
    "- Adición al carrito (product_cart): Las diferencias no fueron significativas (p=0.0913), lo que sugiere que el rendimiento de ambos grupos en esta etapa fue comparable.\n",
    "\n",
    "- Compra (purchase): Hubo una diferencia estadísticamente significativa (p=0.0381), favoreciendo al grupo A en términos de conversión final.\n",
    "\n",
    "Implicaciones:\n",
    "\n",
    "- El grupo A parece ofrecer una experiencia más efectiva para llevar a los usuarios a completar una compra, aunque el rendimiento en la etapa de adición al carrito no es destacable.\n",
    "- El grupo B podría ser evaluado más a fondo para determinar si hay factores específicos que afectan negativamente la conversión final."
   ]
  },
  {
   "cell_type": "markdown",
   "metadata": {},
   "source": [
    "### Recomendaciones:\n",
    "- Optimización del embudo: A pesar de que el grupo A tuvo un mejor rendimiento, es importante investigar por qué una proporción considerable de usuarios no completó las etapas de adición al carrito y compra.\n",
    "- Pruebas adicionales: Continuar experimentando con nuevas hipótesis para optimizar las etapas más débiles del embudo, especialmente en product_cart.\n",
    "- Validación adicional: Repetir la prueba A/B con un mayor tamaño de muestra para confirmar la validez de los resultados y explorar diferencias más pequeñas."
   ]
  },
  {
   "cell_type": "markdown",
   "metadata": {},
   "source": [
    "<div class=\"alert alert-block alert-success\">\n",
    "<b>Comentario del revisor (2da Iteracion)</b> <a class=“tocSkip”></a>\n",
    "\n",
    "Excelente trabajo con los cambios realizados Daniel! Ahora tienes un proyecto mucho más claro y detallado, este tipo de análisis son muy comúnes en la industria por lo que manejar y entender cómo realizar un correcto análisis de pruebas AB es importante para destacar cómo profesional en la industria. Saludos!\n",
    "</div>"
   ]
  }
 ],
 "metadata": {
  "ExecuteTimeLog": [
   {
    "duration": 2522,
    "start_time": "2024-12-30T22:18:52.793Z"
   },
   {
    "duration": 5302,
    "start_time": "2024-12-30T22:21:06.081Z"
   },
   {
    "duration": 355,
    "start_time": "2024-12-30T22:26:10.092Z"
   },
   {
    "duration": 527,
    "start_time": "2024-12-30T22:27:54.546Z"
   },
   {
    "duration": 358,
    "start_time": "2024-12-30T22:28:02.192Z"
   },
   {
    "duration": 15,
    "start_time": "2024-12-30T22:30:07.614Z"
   },
   {
    "duration": 74,
    "start_time": "2024-12-30T22:30:25.910Z"
   },
   {
    "duration": 25,
    "start_time": "2024-12-30T22:33:14.713Z"
   },
   {
    "duration": 81,
    "start_time": "2024-12-30T22:34:06.665Z"
   },
   {
    "duration": 138,
    "start_time": "2024-12-30T22:39:24.434Z"
   },
   {
    "duration": 120,
    "start_time": "2024-12-30T22:40:30.281Z"
   },
   {
    "duration": 94,
    "start_time": "2024-12-30T22:50:36.027Z"
   },
   {
    "duration": 92,
    "start_time": "2024-12-30T22:51:49.014Z"
   },
   {
    "duration": 99,
    "start_time": "2024-12-30T22:51:54.578Z"
   },
   {
    "duration": 89,
    "start_time": "2024-12-30T22:52:13.531Z"
   },
   {
    "duration": 88,
    "start_time": "2024-12-30T22:52:15.765Z"
   },
   {
    "duration": 16,
    "start_time": "2024-12-30T22:52:29.999Z"
   },
   {
    "duration": 178,
    "start_time": "2024-12-30T22:53:07.059Z"
   },
   {
    "duration": 14,
    "start_time": "2024-12-30T22:53:24.259Z"
   },
   {
    "duration": 830,
    "start_time": "2024-12-30T22:53:33.705Z"
   },
   {
    "duration": 4907,
    "start_time": "2024-12-30T22:53:34.537Z"
   },
   {
    "duration": 409,
    "start_time": "2024-12-30T22:53:39.446Z"
   },
   {
    "duration": 73,
    "start_time": "2024-12-30T22:53:39.857Z"
   },
   {
    "duration": 153,
    "start_time": "2024-12-30T22:53:39.931Z"
   },
   {
    "duration": 276,
    "start_time": "2024-12-30T22:53:40.085Z"
   },
   {
    "duration": 33,
    "start_time": "2024-12-30T22:53:48.374Z"
   },
   {
    "duration": 30,
    "start_time": "2024-12-30T22:53:53.042Z"
   },
   {
    "duration": 31,
    "start_time": "2024-12-30T22:54:21.420Z"
   },
   {
    "duration": 31,
    "start_time": "2024-12-30T22:54:23.693Z"
   },
   {
    "duration": 31,
    "start_time": "2024-12-30T22:54:51.854Z"
   },
   {
    "duration": 51,
    "start_time": "2024-12-30T22:55:44.395Z"
   },
   {
    "duration": 112,
    "start_time": "2024-12-30T22:56:06.020Z"
   },
   {
    "duration": 195,
    "start_time": "2024-12-30T22:57:42.654Z"
   },
   {
    "duration": 27,
    "start_time": "2024-12-30T22:59:16.863Z"
   },
   {
    "duration": 33,
    "start_time": "2024-12-30T23:02:53.951Z"
   },
   {
    "duration": 184,
    "start_time": "2024-12-30T23:03:00.530Z"
   },
   {
    "duration": 19,
    "start_time": "2024-12-30T23:05:49.070Z"
   },
   {
    "duration": 55,
    "start_time": "2024-12-30T23:06:02.401Z"
   },
   {
    "duration": 56,
    "start_time": "2024-12-30T23:06:08.028Z"
   },
   {
    "duration": 77,
    "start_time": "2024-12-30T23:06:13.278Z"
   },
   {
    "duration": 25,
    "start_time": "2024-12-30T23:13:02.986Z"
   },
   {
    "duration": 884,
    "start_time": "2024-12-31T16:27:13.118Z"
   },
   {
    "duration": 829,
    "start_time": "2024-12-31T16:27:14.004Z"
   },
   {
    "duration": 0,
    "start_time": "2024-12-31T16:27:14.835Z"
   },
   {
    "duration": 125,
    "start_time": "2024-12-31T16:27:48.834Z"
   },
   {
    "duration": 165,
    "start_time": "2024-12-31T16:40:02.110Z"
   },
   {
    "duration": 2636,
    "start_time": "2024-12-31T16:40:07.428Z"
   },
   {
    "duration": 778,
    "start_time": "2024-12-31T16:40:12.675Z"
   },
   {
    "duration": 463,
    "start_time": "2024-12-31T16:42:24.094Z"
   },
   {
    "duration": 506,
    "start_time": "2024-12-31T16:43:43.870Z"
   },
   {
    "duration": 383,
    "start_time": "2024-12-31T16:45:47.263Z"
   },
   {
    "duration": 882,
    "start_time": "2024-12-31T16:46:04.205Z"
   },
   {
    "duration": 406,
    "start_time": "2024-12-31T16:46:05.089Z"
   },
   {
    "duration": 97,
    "start_time": "2024-12-31T16:46:05.497Z"
   },
   {
    "duration": 161,
    "start_time": "2024-12-31T16:46:05.596Z"
   },
   {
    "duration": 130,
    "start_time": "2024-12-31T16:46:05.760Z"
   },
   {
    "duration": 221,
    "start_time": "2024-12-31T16:46:05.892Z"
   },
   {
    "duration": 18,
    "start_time": "2024-12-31T16:46:06.115Z"
   },
   {
    "duration": 209,
    "start_time": "2024-12-31T16:46:06.134Z"
   },
   {
    "duration": 66,
    "start_time": "2024-12-31T16:46:06.345Z"
   },
   {
    "duration": 25,
    "start_time": "2024-12-31T16:46:06.413Z"
   },
   {
    "duration": 825,
    "start_time": "2024-12-31T16:47:59.870Z"
   },
   {
    "duration": 403,
    "start_time": "2024-12-31T16:48:00.697Z"
   },
   {
    "duration": 103,
    "start_time": "2024-12-31T16:48:01.102Z"
   },
   {
    "duration": 167,
    "start_time": "2024-12-31T16:48:01.208Z"
   },
   {
    "duration": 139,
    "start_time": "2024-12-31T16:48:01.377Z"
   },
   {
    "duration": 236,
    "start_time": "2024-12-31T16:48:01.518Z"
   },
   {
    "duration": 30,
    "start_time": "2024-12-31T16:48:01.756Z"
   },
   {
    "duration": 198,
    "start_time": "2024-12-31T16:48:01.788Z"
   },
   {
    "duration": 59,
    "start_time": "2024-12-31T16:48:01.988Z"
   },
   {
    "duration": 38,
    "start_time": "2024-12-31T16:48:02.049Z"
   },
   {
    "duration": 5,
    "start_time": "2024-12-31T16:50:00.360Z"
   },
   {
    "duration": 991,
    "start_time": "2024-12-31T16:50:04.679Z"
   },
   {
    "duration": 169,
    "start_time": "2024-12-31T16:51:48.988Z"
   },
   {
    "duration": 250,
    "start_time": "2024-12-31T16:56:45.337Z"
   },
   {
    "duration": 2,
    "start_time": "2024-12-31T16:57:08.158Z"
   },
   {
    "duration": 881,
    "start_time": "2024-12-31T16:57:12.819Z"
   },
   {
    "duration": 402,
    "start_time": "2024-12-31T16:57:13.702Z"
   },
   {
    "duration": 100,
    "start_time": "2024-12-31T16:57:14.106Z"
   },
   {
    "duration": 169,
    "start_time": "2024-12-31T16:57:14.209Z"
   },
   {
    "duration": 139,
    "start_time": "2024-12-31T16:57:14.381Z"
   },
   {
    "duration": 274,
    "start_time": "2024-12-31T16:57:14.523Z"
   },
   {
    "duration": 218,
    "start_time": "2024-12-31T16:57:14.799Z"
   },
   {
    "duration": 18,
    "start_time": "2024-12-31T16:57:15.019Z"
   },
   {
    "duration": 265,
    "start_time": "2024-12-31T16:57:15.039Z"
   },
   {
    "duration": 57,
    "start_time": "2024-12-31T16:57:15.307Z"
   },
   {
    "duration": 38,
    "start_time": "2024-12-31T16:57:15.366Z"
   }
  ],
  "kernelspec": {
   "display_name": "Python 3 (ipykernel)",
   "language": "python",
   "name": "python3"
  },
  "language_info": {
   "codemirror_mode": {
    "name": "ipython",
    "version": 3
   },
   "file_extension": ".py",
   "mimetype": "text/x-python",
   "name": "python",
   "nbconvert_exporter": "python",
   "pygments_lexer": "ipython3",
   "version": "3.9.19"
  },
  "toc": {
   "base_numbering": 1,
   "nav_menu": {},
   "number_sections": true,
   "sideBar": true,
   "skip_h1_title": true,
   "title_cell": "Table of Contents",
   "title_sidebar": "Contents",
   "toc_cell": false,
   "toc_position": {
    "height": "calc(100% - 180px)",
    "left": "10px",
    "top": "150px",
    "width": "303.73px"
   },
   "toc_section_display": true,
   "toc_window_display": true
  }
 },
 "nbformat": 4,
 "nbformat_minor": 2
}
